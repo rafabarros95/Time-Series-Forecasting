{
 "cells": [
  {
   "cell_type": "markdown",
   "id": "d41d09f766630756",
   "metadata": {},
   "source": [
    "# Load Datasets\n"
   ]
  },
  {
   "cell_type": "code",
   "execution_count": 1,
   "id": "1f9082b9e9762972",
   "metadata": {
    "ExecuteTime": {
     "end_time": "2025-06-26T08:50:06.746379Z",
     "start_time": "2025-06-26T08:50:06.743235Z"
    }
   },
   "outputs": [],
   "source": [
    "from sktime.datasets import load_tsf_to_dataframe\n",
    "import pandas as pd\n",
    "def load_dataset(file_path):\n",
    "    \"\"\"\n",
    "    Load dataset based on file extension.\n",
    "    .tsf files use sktime loader, others use pandas.\n",
    "    \"\"\"\n",
    "    if file_path.endswith('.tsf'):\n",
    "        return load_tsf_to_dataframe(file_path)\n",
    "    else:\n",
    "        return pd.read_csv(file_path)"
   ]
  },
  {
   "cell_type": "code",
   "execution_count": 8,
   "id": "e34825cae35f4ce9",
   "metadata": {
    "ExecuteTime": {
     "end_time": "2025-06-26T08:50:09.688735Z",
     "start_time": "2025-06-26T08:50:06.755339Z"
    }
   },
   "outputs": [
    {
     "data": {
      "text/html": [
       "<div>\n",
       "<style scoped>\n",
       "    .dataframe tbody tr th:only-of-type {\n",
       "        vertical-align: middle;\n",
       "    }\n",
       "\n",
       "    .dataframe tbody tr th {\n",
       "        vertical-align: top;\n",
       "    }\n",
       "\n",
       "    .dataframe thead th {\n",
       "        text-align: right;\n",
       "    }\n",
       "</style>\n",
       "<table border=\"1\" class=\"dataframe\">\n",
       "  <thead>\n",
       "    <tr style=\"text-align: right;\">\n",
       "      <th></th>\n",
       "      <th>series_name</th>\n",
       "      <th>state</th>\n",
       "      <th>timestamp</th>\n",
       "      <th>series_value</th>\n",
       "    </tr>\n",
       "  </thead>\n",
       "  <tbody>\n",
       "    <tr>\n",
       "      <th>0</th>\n",
       "      <td>T1</td>\n",
       "      <td>NSW</td>\n",
       "      <td>2002-01-01 00:00:00</td>\n",
       "      <td>5714.045004</td>\n",
       "    </tr>\n",
       "    <tr>\n",
       "      <th>1</th>\n",
       "      <td>T1</td>\n",
       "      <td>NSW</td>\n",
       "      <td>2002-01-01 00:30:00</td>\n",
       "      <td>5360.189078</td>\n",
       "    </tr>\n",
       "    <tr>\n",
       "      <th>2</th>\n",
       "      <td>T1</td>\n",
       "      <td>NSW</td>\n",
       "      <td>2002-01-01 01:00:00</td>\n",
       "      <td>5014.835118</td>\n",
       "    </tr>\n",
       "    <tr>\n",
       "      <th>3</th>\n",
       "      <td>T1</td>\n",
       "      <td>NSW</td>\n",
       "      <td>2002-01-01 01:30:00</td>\n",
       "      <td>4602.755516</td>\n",
       "    </tr>\n",
       "    <tr>\n",
       "      <th>4</th>\n",
       "      <td>T1</td>\n",
       "      <td>NSW</td>\n",
       "      <td>2002-01-01 02:00:00</td>\n",
       "      <td>4285.179828</td>\n",
       "    </tr>\n",
       "  </tbody>\n",
       "</table>\n",
       "</div>"
      ],
      "text/plain": [
       "  series_name state           timestamp  series_value\n",
       "0          T1   NSW 2002-01-01 00:00:00   5714.045004\n",
       "1          T1   NSW 2002-01-01 00:30:00   5360.189078\n",
       "2          T1   NSW 2002-01-01 01:00:00   5014.835118\n",
       "3          T1   NSW 2002-01-01 01:30:00   4602.755516\n",
       "4          T1   NSW 2002-01-01 02:00:00   4285.179828"
      ]
     },
     "execution_count": 8,
     "metadata": {},
     "output_type": "execute_result"
    }
   ],
   "source": [
    "dataset_path = './data/'\n",
    "dataset_names = ['australian_electricity_demand_dataset.tsf','saugeenday_dataset.tsf', 'wti_oil_dataset.csv', 'train_egg_sales.csv', 'test_egg_sales.csv']\n",
    "\n",
    "australian_electricity_demand_dataset = load_dataset(dataset_path + dataset_names[0])\n",
    "australian_electricity_demand_df = australian_electricity_demand_dataset[0]['series_value'].reset_index()\n",
    "australian_electricity_demand_df.head()\n",
    "    "
   ]
  },
  {
   "cell_type": "code",
   "execution_count": 14,
   "id": "3e6950f0",
   "metadata": {},
   "outputs": [
    {
     "data": {
      "text/html": [
       "<div>\n",
       "<style scoped>\n",
       "    .dataframe tbody tr th:only-of-type {\n",
       "        vertical-align: middle;\n",
       "    }\n",
       "\n",
       "    .dataframe tbody tr th {\n",
       "        vertical-align: top;\n",
       "    }\n",
       "\n",
       "    .dataframe thead th {\n",
       "        text-align: right;\n",
       "    }\n",
       "</style>\n",
       "<table border=\"1\" class=\"dataframe\">\n",
       "  <thead>\n",
       "    <tr style=\"text-align: right;\">\n",
       "      <th></th>\n",
       "      <th>timestamp</th>\n",
       "      <th>series_value</th>\n",
       "    </tr>\n",
       "  </thead>\n",
       "  <tbody>\n",
       "    <tr>\n",
       "      <th>count</th>\n",
       "      <td>1155264</td>\n",
       "      <td>1.155264e+06</td>\n",
       "    </tr>\n",
       "    <tr>\n",
       "      <th>mean</th>\n",
       "      <td>2008-08-03 19:21:08.854910464</td>\n",
       "      <td>3.500324e+03</td>\n",
       "    </tr>\n",
       "    <tr>\n",
       "      <th>min</th>\n",
       "      <td>2002-01-01 00:00:00</td>\n",
       "      <td>-2.339068e+02</td>\n",
       "    </tr>\n",
       "    <tr>\n",
       "      <th>25%</th>\n",
       "      <td>2005-04-18 09:30:00</td>\n",
       "      <td>1.065008e+03</td>\n",
       "    </tr>\n",
       "    <tr>\n",
       "      <th>50%</th>\n",
       "      <td>2008-08-03 19:00:00</td>\n",
       "      <td>3.836729e+03</td>\n",
       "    </tr>\n",
       "    <tr>\n",
       "      <th>75%</th>\n",
       "      <td>2011-11-20 04:30:00</td>\n",
       "      <td>5.215720e+03</td>\n",
       "    </tr>\n",
       "    <tr>\n",
       "      <th>max</th>\n",
       "      <td>2015-04-01 23:30:00</td>\n",
       "      <td>1.286580e+04</td>\n",
       "    </tr>\n",
       "    <tr>\n",
       "      <th>std</th>\n",
       "      <td>NaN</td>\n",
       "      <td>2.437727e+03</td>\n",
       "    </tr>\n",
       "  </tbody>\n",
       "</table>\n",
       "</div>"
      ],
      "text/plain": [
       "                           timestamp  series_value\n",
       "count                        1155264  1.155264e+06\n",
       "mean   2008-08-03 19:21:08.854910464  3.500324e+03\n",
       "min              2002-01-01 00:00:00 -2.339068e+02\n",
       "25%              2005-04-18 09:30:00  1.065008e+03\n",
       "50%              2008-08-03 19:00:00  3.836729e+03\n",
       "75%              2011-11-20 04:30:00  5.215720e+03\n",
       "max              2015-04-01 23:30:00  1.286580e+04\n",
       "std                              NaN  2.437727e+03"
      ]
     },
     "execution_count": 14,
     "metadata": {},
     "output_type": "execute_result"
    }
   ],
   "source": [
    "australian_electricity_demand_df\n",
    "australian_electricity_demand_df.describe()\n"
   ]
  }
 ],
 "metadata": {
  "kernelspec": {
   "display_name": "venv",
   "language": "python",
   "name": "python3"
  },
  "language_info": {
   "codemirror_mode": {
    "name": "ipython",
    "version": 3
   },
   "file_extension": ".py",
   "mimetype": "text/x-python",
   "name": "python",
   "nbconvert_exporter": "python",
   "pygments_lexer": "ipython3",
   "version": "3.11.7"
  }
 },
 "nbformat": 4,
 "nbformat_minor": 5
}
