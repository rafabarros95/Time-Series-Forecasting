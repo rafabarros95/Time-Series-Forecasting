{
 "cells": [
  {
   "cell_type": "markdown",
   "id": "d41d09f766630756",
   "metadata": {},
   "source": [
    "# Load Datasets\n"
   ]
  },
  {
   "cell_type": "code",
   "execution_count": 1,
   "id": "1f9082b9e9762972",
   "metadata": {
    "ExecuteTime": {
     "end_time": "2025-06-26T08:50:06.746379Z",
     "start_time": "2025-06-26T08:50:06.743235Z"
    }
   },
   "outputs": [],
   "source": [
    "from sktime.datasets import load_tsf_to_dataframe\n",
    "import pandas as pd\n",
    "def load_dataset(file_path, delimiter=';'):\n",
    "    \"\"\"\n",
    "    Load dataset based on file extension.\n",
    "    .tsf files use sktime loader, others use pandas.\n",
    "    \"\"\"\n",
    "    if file_path.endswith('.tsf'):\n",
    "        return load_tsf_to_dataframe(file_path)\n",
    "    else:\n",
    "        return pd.read_csv(file_path, delimiter=delimiter)"
   ]
  },
  {
   "cell_type": "code",
   "execution_count": 2,
   "id": "e34825cae35f4ce9",
   "metadata": {
    "ExecuteTime": {
     "end_time": "2025-06-26T08:50:09.688735Z",
     "start_time": "2025-06-26T08:50:06.755339Z"
    }
   },
   "outputs": [],
   "source": [
    "dataset_path = './data/'\n",
    "dataset_names = ['australian_electricity_demand_dataset.tsf','saugeenday_dataset.tsf', 'wti_oil_dataset.csv', 'train_egg_sales.csv', 'car_parts_dataset_without_missing_values.tsf']\n",
    "\n",
    "    "
   ]
  },
  {
   "cell_type": "markdown",
   "id": "5785aab9",
   "metadata": {},
   "source": [
    "## Australien Electricity Dateset"
   ]
  },
  {
   "cell_type": "code",
   "execution_count": 3,
   "id": "8b4c5630",
   "metadata": {},
   "outputs": [],
   "source": [
    "australian_electricity_demand_dataset = load_dataset(dataset_path + dataset_names[0])\n",
    "australian_electricity_demand_df = australian_electricity_demand_dataset[0]['series_value'].reset_index()\n",
    "australian_electricity_demand_df = australian_electricity_demand_df[australian_electricity_demand_df['state'] == 'VIC']\n",
    "australian_electricity_demand_df = australian_electricity_demand_df.rename(columns={'series_value': 'y', 'timestamp': 'ds'})\n",
    "australian_electricity_demand_df = australian_electricity_demand_df[['ds', 'y']]\n"
   ]
  },
  {
   "cell_type": "code",
   "execution_count": 4,
   "id": "50d01266",
   "metadata": {},
   "outputs": [],
   "source": [
    "#australian_electricity_demand_df.info()"
   ]
  },
  {
   "cell_type": "markdown",
   "id": "f8fd7bc3",
   "metadata": {},
   "source": [
    "## Saugeen River Flow Dataset"
   ]
  },
  {
   "cell_type": "code",
   "execution_count": 5,
   "id": "ffef84c9",
   "metadata": {},
   "outputs": [],
   "source": [
    "saugeen_river_dataset = load_dataset(dataset_path + dataset_names[1])\n",
    "saugeen_river_dataset = saugeen_river_dataset[0]['series_value'].reset_index()\n",
    "saugeen_river_dataset = saugeen_river_dataset.rename(columns={'series_value': 'y', 'timestamp': 'ds'})\n",
    "saugeen_river_df = saugeen_river_dataset[['ds', 'y']]\n",
    "#saugeen_river_df.info()\n"
   ]
  },
  {
   "cell_type": "markdown",
   "id": "6f1e4a15",
   "metadata": {},
   "source": [
    "## Wti Oil Dataset"
   ]
  },
  {
   "cell_type": "code",
   "execution_count": 6,
   "id": "8634ba44",
   "metadata": {},
   "outputs": [
    {
     "name": "stderr",
     "output_type": "stream",
     "text": [
      "/var/folders/7f/pn2lysgd6cx02fkc066bbrp40000gn/T/ipykernel_10037/1263838836.py:4: SettingWithCopyWarning: \n",
      "A value is trying to be set on a copy of a slice from a DataFrame.\n",
      "Try using .loc[row_indexer,col_indexer] = value instead\n",
      "\n",
      "See the caveats in the documentation: https://pandas.pydata.org/pandas-docs/stable/user_guide/indexing.html#returning-a-view-versus-a-copy\n",
      "  wti_oil_df['ds'] = pd.to_datetime(wti_oil_df['ds'])\n"
     ]
    }
   ],
   "source": [
    "wti_oil_dataset = load_dataset(dataset_path + dataset_names[2], delimiter=',')\n",
    "wti_oil_dataset = wti_oil_dataset.rename(columns={'date': 'ds', 'wti': 'y'})\n",
    "wti_oil_df = wti_oil_dataset[['ds', 'y']]\n",
    "wti_oil_df['ds'] = pd.to_datetime(wti_oil_df['ds'])\n",
    "#wti_oil_df.info()"
   ]
  },
  {
   "cell_type": "markdown",
   "id": "3e6950f0",
   "metadata": {},
   "source": [
    "## Egg Dataset"
   ]
  },
  {
   "cell_type": "code",
   "execution_count": 7,
   "id": "ca35bce9",
   "metadata": {},
   "outputs": [],
   "source": [
    "egg_sales_dataset = load_dataset(dataset_path + '/egg_sales/' + dataset_names[3])\n",
    "egg_sales_df = egg_sales_dataset.rename(columns={'Egg Sales': 'y', 'Date': 'ds'})\n",
    "egg_sales_df['ds'] = pd.to_datetime(egg_sales_df['ds'])\n",
    "#egg_sales_df.info()\n"
   ]
  },
  {
   "cell_type": "markdown",
   "id": "6fa42226",
   "metadata": {},
   "source": [
    "# Car Parts Dataset"
   ]
  },
  {
   "cell_type": "code",
   "execution_count": 8,
   "id": "d3d38e49",
   "metadata": {},
   "outputs": [],
   "source": [
    "# Load the car parts TSF dataset\n",
    "car_parts_dataset = load_dataset(dataset_path + dataset_names[4])\n",
    "# Unpack as DataFrame, flatten multiindex if present\n",
    "car_parts_df = car_parts_dataset[0]['series_value'].reset_index()\n",
    "# If there’s a 'state' or similar, filter here (else skip)\n",
    "# car_parts_df = car_parts_df[car_parts_df['state'] == 'YOUR_FILTER']  # Only if relevant\n",
    "\n",
    "# Rename columns\n",
    "car_parts_df = car_parts_df.rename(columns={'series_value': 'y', 'timestamp': 'ds'})\n",
    "car_parts_df = car_parts_df[['ds', 'y']]\n",
    "car_parts_df['ds'] = pd.to_datetime(car_parts_df['ds'])\n",
    "car_parts_df = car_parts_df.sort_values('ds')\n",
    "\n",
    "#car_parts_df.info()\n",
    "#car_parts_df.head()\n"
   ]
  },
  {
   "cell_type": "markdown",
   "id": "f5ec1438",
   "metadata": {},
   "source": [
    "## Exploration"
   ]
  },
  {
   "cell_type": "code",
   "execution_count": 9,
   "id": "01550635",
   "metadata": {},
   "outputs": [],
   "source": [
    "import matplotlib.pyplot as plt\n",
    "#import seaborn as sns\n",
    "if False:\n",
    "    # Set style and figure size\n",
    "    plt.rcParams['figure.figsize'] = [15, 10]\n",
    "\n",
    "    # Create subplots\n",
    "    fig, axes = plt.subplots(5, 1, figsize=(15, 20))\n",
    "\n",
    "    # Plot Australian Electricity Demand\n",
    "    axes[0].plot(australian_electricity_demand_df['ds'], australian_electricity_demand_df['y'])\n",
    "    axes[0].set_title('Australian Electricity Demand (VIC)')\n",
    "    axes[0].set_xlabel('Time')\n",
    "    axes[0].set_ylabel('Demand')\n",
    "\n",
    "    # Plot Saugeenday Dataset\n",
    "    axes[1].plot(saugeen_river_df['ds'], saugeen_river_df['y'])\n",
    "    axes[1].set_title('Saugeenday Dataset')\n",
    "    axes[1].set_xlabel('Time')\n",
    "    axes[1].set_ylabel('Value')\n",
    "\n",
    "    # Plot WTI Oil Dataset\n",
    "    axes[2].plot(wti_oil_df['ds'], wti_oil_df['y'])\n",
    "    axes[2].set_title('WTI Oil Prices')\n",
    "    axes[2].set_xlabel('Time')\n",
    "    axes[2].set_ylabel('Price')\n",
    "\n",
    "    # Plot Egg Sales Dataset\n",
    "    axes[3].plot(egg_sales_df['ds'], egg_sales_df['y'])\n",
    "    axes[3].set_title('Egg Sales')\n",
    "    axes[3].set_xlabel('Time')\n",
    "    axes[3].set_ylabel('Sales')\n",
    "\n",
    "    # Plot Car Parts Dataset\n",
    "    axes[4].plot(car_parts_df['ds'], car_parts_df['y'])\n",
    "    axes[4].set_title('Car Parts Dataset')\n",
    "    axes[4].set_xlabel('Time')\n",
    "    axes[4].set_ylabel('Value')\n",
    "\n",
    "    # Adjust layout\n",
    "    plt.tight_layout()\n",
    "    plt.show()\n"
   ]
  }
 ],
 "metadata": {
  "kernelspec": {
   "display_name": "venv",
   "language": "python",
   "name": "python3"
  },
  "language_info": {
   "codemirror_mode": {
    "name": "ipython",
    "version": 3
   },
   "file_extension": ".py",
   "mimetype": "text/x-python",
   "name": "python",
   "nbconvert_exporter": "python",
   "pygments_lexer": "ipython3",
   "version": "3.11.7"
  }
 },
 "nbformat": 4,
 "nbformat_minor": 5
}
