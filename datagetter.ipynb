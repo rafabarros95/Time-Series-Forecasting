{
 "cells": [
  {
   "cell_type": "markdown",
   "id": "d41d09f766630756",
   "metadata": {},
   "source": [
    "# Load Datasets\n"
   ]
  },
  {
   "cell_type": "code",
   "execution_count": 15,
   "id": "1f9082b9e9762972",
   "metadata": {
    "ExecuteTime": {
     "end_time": "2025-06-26T08:50:06.746379Z",
     "start_time": "2025-06-26T08:50:06.743235Z"
    }
   },
   "outputs": [],
   "source": [
    "from sktime.datasets import load_tsf_to_dataframe\n",
    "import pandas as pd\n",
    "def load_dataset(file_path):\n",
    "    \"\"\"\n",
    "    Load dataset based on file extension.\n",
    "    .tsf files use sktime loader, others use pandas.\n",
    "    \"\"\"\n",
    "    if file_path.endswith('.tsf'):\n",
    "        return load_tsf_to_dataframe(file_path)\n",
    "    else:\n",
    "        return pd.read_csv(file_path)"
   ]
  },
  {
   "cell_type": "code",
   "execution_count": 16,
   "id": "e34825cae35f4ce9",
   "metadata": {
    "ExecuteTime": {
     "end_time": "2025-06-26T08:50:09.688735Z",
     "start_time": "2025-06-26T08:50:06.755339Z"
    }
   },
   "outputs": [],
   "source": [
    "dataset_path = './data/'\n",
    "dataset_names = ['australian_electricity_demand_dataset.tsf','saugeenday_dataset.tsf', 'wti_oil_dataset.csv', 'train_egg_sales.csv', 'test_egg_sales.csv']\n",
    "\n",
    "\n",
    "    "
   ]
  },
  {
   "cell_type": "markdown",
   "id": "5785aab9",
   "metadata": {},
   "source": [
    "## Australien Electricity Dateset"
   ]
  },
  {
   "cell_type": "code",
   "execution_count": 17,
   "id": "8b4c5630",
   "metadata": {},
   "outputs": [
    {
     "data": {
      "text/html": [
       "<div>\n",
       "<style scoped>\n",
       "    .dataframe tbody tr th:only-of-type {\n",
       "        vertical-align: middle;\n",
       "    }\n",
       "\n",
       "    .dataframe tbody tr th {\n",
       "        vertical-align: top;\n",
       "    }\n",
       "\n",
       "    .dataframe thead th {\n",
       "        text-align: right;\n",
       "    }\n",
       "</style>\n",
       "<table border=\"1\" class=\"dataframe\">\n",
       "  <thead>\n",
       "    <tr style=\"text-align: right;\">\n",
       "      <th></th>\n",
       "      <th>ds</th>\n",
       "      <th>y</th>\n",
       "    </tr>\n",
       "  </thead>\n",
       "  <tbody>\n",
       "    <tr>\n",
       "      <th>230736</th>\n",
       "      <td>2002-01-01 00:00:00</td>\n",
       "      <td>3535.867064</td>\n",
       "    </tr>\n",
       "    <tr>\n",
       "      <th>230737</th>\n",
       "      <td>2002-01-01 00:30:00</td>\n",
       "      <td>3383.499028</td>\n",
       "    </tr>\n",
       "    <tr>\n",
       "      <th>230738</th>\n",
       "      <td>2002-01-01 01:00:00</td>\n",
       "      <td>3655.527552</td>\n",
       "    </tr>\n",
       "    <tr>\n",
       "      <th>230739</th>\n",
       "      <td>2002-01-01 01:30:00</td>\n",
       "      <td>3510.446636</td>\n",
       "    </tr>\n",
       "    <tr>\n",
       "      <th>230740</th>\n",
       "      <td>2002-01-01 02:00:00</td>\n",
       "      <td>3294.697156</td>\n",
       "    </tr>\n",
       "    <tr>\n",
       "      <th>...</th>\n",
       "      <td>...</td>\n",
       "      <td>...</td>\n",
       "    </tr>\n",
       "    <tr>\n",
       "      <th>461467</th>\n",
       "      <td>2015-02-28 21:30:00</td>\n",
       "      <td>4094.957360</td>\n",
       "    </tr>\n",
       "    <tr>\n",
       "      <th>461468</th>\n",
       "      <td>2015-02-28 22:00:00</td>\n",
       "      <td>4058.531582</td>\n",
       "    </tr>\n",
       "    <tr>\n",
       "      <th>461469</th>\n",
       "      <td>2015-02-28 22:30:00</td>\n",
       "      <td>4051.524334</td>\n",
       "    </tr>\n",
       "    <tr>\n",
       "      <th>461470</th>\n",
       "      <td>2015-02-28 23:00:00</td>\n",
       "      <td>4274.237836</td>\n",
       "    </tr>\n",
       "    <tr>\n",
       "      <th>461471</th>\n",
       "      <td>2015-02-28 23:30:00</td>\n",
       "      <td>4245.130916</td>\n",
       "    </tr>\n",
       "  </tbody>\n",
       "</table>\n",
       "<p>230736 rows × 2 columns</p>\n",
       "</div>"
      ],
      "text/plain": [
       "                        ds            y\n",
       "230736 2002-01-01 00:00:00  3535.867064\n",
       "230737 2002-01-01 00:30:00  3383.499028\n",
       "230738 2002-01-01 01:00:00  3655.527552\n",
       "230739 2002-01-01 01:30:00  3510.446636\n",
       "230740 2002-01-01 02:00:00  3294.697156\n",
       "...                    ...          ...\n",
       "461467 2015-02-28 21:30:00  4094.957360\n",
       "461468 2015-02-28 22:00:00  4058.531582\n",
       "461469 2015-02-28 22:30:00  4051.524334\n",
       "461470 2015-02-28 23:00:00  4274.237836\n",
       "461471 2015-02-28 23:30:00  4245.130916\n",
       "\n",
       "[230736 rows x 2 columns]"
      ]
     },
     "execution_count": 17,
     "metadata": {},
     "output_type": "execute_result"
    }
   ],
   "source": [
    "australian_electricity_demand_dataset = load_dataset(dataset_path + dataset_names[0])\n",
    "australian_electricity_demand_df = australian_electricity_demand_dataset[0]['series_value'].reset_index()\n",
    "australian_electricity_demand_df = australian_electricity_demand_df[australian_electricity_demand_df['state'] == 'VIC']\n",
    "australian_electricity_demand_df = australian_electricity_demand_df.rename(columns={'series_value': 'y', 'timestamp': 'ds'})\n",
    "australian_electricity_demand_df = australian_electricity_demand_df[['ds', 'y']]\n",
    "australian_electricity_demand_df"
   ]
  },
  {
   "cell_type": "markdown",
   "id": "f8fd7bc3",
   "metadata": {},
   "source": [
    "## Saugeenday Dataset"
   ]
  },
  {
   "cell_type": "code",
   "execution_count": null,
   "id": "ffef84c9",
   "metadata": {},
   "outputs": [
    {
     "data": {
      "text/html": [
       "<div>\n",
       "<style scoped>\n",
       "    .dataframe tbody tr th:only-of-type {\n",
       "        vertical-align: middle;\n",
       "    }\n",
       "\n",
       "    .dataframe tbody tr th {\n",
       "        vertical-align: top;\n",
       "    }\n",
       "\n",
       "    .dataframe thead th {\n",
       "        text-align: right;\n",
       "    }\n",
       "</style>\n",
       "<table border=\"1\" class=\"dataframe\">\n",
       "  <thead>\n",
       "    <tr style=\"text-align: right;\">\n",
       "      <th></th>\n",
       "      <th>ds</th>\n",
       "      <th>y</th>\n",
       "    </tr>\n",
       "  </thead>\n",
       "  <tbody>\n",
       "    <tr>\n",
       "      <th>0</th>\n",
       "      <td>1915-01-01</td>\n",
       "      <td>11.5</td>\n",
       "    </tr>\n",
       "    <tr>\n",
       "      <th>1</th>\n",
       "      <td>1915-01-02</td>\n",
       "      <td>10.8</td>\n",
       "    </tr>\n",
       "    <tr>\n",
       "      <th>2</th>\n",
       "      <td>1915-01-03</td>\n",
       "      <td>13.7</td>\n",
       "    </tr>\n",
       "    <tr>\n",
       "      <th>3</th>\n",
       "      <td>1915-01-04</td>\n",
       "      <td>13.7</td>\n",
       "    </tr>\n",
       "    <tr>\n",
       "      <th>4</th>\n",
       "      <td>1915-01-05</td>\n",
       "      <td>14.4</td>\n",
       "    </tr>\n",
       "  </tbody>\n",
       "</table>\n",
       "</div>"
      ],
      "text/plain": [
       "          ds     y\n",
       "0 1915-01-01  11.5\n",
       "1 1915-01-02  10.8\n",
       "2 1915-01-03  13.7\n",
       "3 1915-01-04  13.7\n",
       "4 1915-01-05  14.4"
      ]
     },
     "execution_count": 21,
     "metadata": {},
     "output_type": "execute_result"
    }
   ],
   "source": [
    "saugeenday_dataset = load_dataset(dataset_path + dataset_names[1])\n",
    "saugeenday_dataset = saugeenday_dataset[0]['series_value'].reset_index()\n",
    "saugeenday_dataset = saugeenday_dataset.rename(columns={'series_value': 'y', 'timestamp': 'ds'})\n",
    "saugeenday_df = saugeenday_dataset[['ds', 'y']]\n"
   ]
  },
  {
   "cell_type": "markdown",
   "id": "6f1e4a15",
   "metadata": {},
   "source": [
    "## Wti Oil Dataset"
   ]
  },
  {
   "cell_type": "code",
   "execution_count": 24,
   "id": "8634ba44",
   "metadata": {},
   "outputs": [
    {
     "data": {
      "text/html": [
       "<div>\n",
       "<style scoped>\n",
       "    .dataframe tbody tr th:only-of-type {\n",
       "        vertical-align: middle;\n",
       "    }\n",
       "\n",
       "    .dataframe tbody tr th {\n",
       "        vertical-align: top;\n",
       "    }\n",
       "\n",
       "    .dataframe thead th {\n",
       "        text-align: right;\n",
       "    }\n",
       "</style>\n",
       "<table border=\"1\" class=\"dataframe\">\n",
       "  <thead>\n",
       "    <tr style=\"text-align: right;\">\n",
       "      <th></th>\n",
       "      <th>ds</th>\n",
       "      <th>y</th>\n",
       "    </tr>\n",
       "  </thead>\n",
       "  <tbody>\n",
       "    <tr>\n",
       "      <th>0</th>\n",
       "      <td>2006-01-01</td>\n",
       "      <td>65.485000</td>\n",
       "    </tr>\n",
       "    <tr>\n",
       "      <th>1</th>\n",
       "      <td>2006-02-01</td>\n",
       "      <td>61.631053</td>\n",
       "    </tr>\n",
       "    <tr>\n",
       "      <th>2</th>\n",
       "      <td>2006-03-01</td>\n",
       "      <td>62.685217</td>\n",
       "    </tr>\n",
       "    <tr>\n",
       "      <th>3</th>\n",
       "      <td>2006-04-01</td>\n",
       "      <td>69.443684</td>\n",
       "    </tr>\n",
       "    <tr>\n",
       "      <th>4</th>\n",
       "      <td>2006-05-01</td>\n",
       "      <td>70.844091</td>\n",
       "    </tr>\n",
       "  </tbody>\n",
       "</table>\n",
       "</div>"
      ],
      "text/plain": [
       "           ds          y\n",
       "0  2006-01-01  65.485000\n",
       "1  2006-02-01  61.631053\n",
       "2  2006-03-01  62.685217\n",
       "3  2006-04-01  69.443684\n",
       "4  2006-05-01  70.844091"
      ]
     },
     "execution_count": 24,
     "metadata": {},
     "output_type": "execute_result"
    }
   ],
   "source": [
    "wti_oil_dataset = load_dataset(dataset_path + dataset_names[2])\n",
    "wti_oil_dataset = wti_oil_dataset.rename(columns={'date': 'ds', 'wti': 'y'})\n",
    "wti_oil_df = wti_oil_dataset[['ds', 'y']]\n",
    "wti_oil_df.head()"
   ]
  },
  {
   "cell_type": "code",
   "execution_count": null,
   "id": "3e6950f0",
   "metadata": {},
   "outputs": [],
   "source": []
  },
  {
   "cell_type": "code",
   "execution_count": null,
   "id": "ca35bce9",
   "metadata": {},
   "outputs": [],
   "source": []
  },
  {
   "cell_type": "code",
   "execution_count": null,
   "id": "4f63db97",
   "metadata": {},
   "outputs": [],
   "source": []
  },
  {
   "cell_type": "code",
   "execution_count": null,
   "id": "01550635",
   "metadata": {},
   "outputs": [],
   "source": []
  }
 ],
 "metadata": {
  "kernelspec": {
   "display_name": "venv",
   "language": "python",
   "name": "python3"
  },
  "language_info": {
   "codemirror_mode": {
    "name": "ipython",
    "version": 3
   },
   "file_extension": ".py",
   "mimetype": "text/x-python",
   "name": "python",
   "nbconvert_exporter": "python",
   "pygments_lexer": "ipython3",
   "version": "3.11.7"
  }
 },
 "nbformat": 4,
 "nbformat_minor": 5
}
