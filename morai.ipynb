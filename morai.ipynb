{
 "cells": [
  {
   "metadata": {},
   "cell_type": "raw",
   "source": ""
  },
  {
   "metadata": {},
   "cell_type": "code",
   "outputs": [],
   "execution_count": null,
   "source": ""
  },
  {
   "metadata": {
    "ExecuteTime": {
     "end_time": "2025-07-06T19:49:30.042345Z",
     "start_time": "2025-07-06T19:49:28.968858Z"
    }
   },
   "cell_type": "code",
   "source": [
    "from uni2ts.model.moirai import MoiraiForecast, MoiraiModule\n",
    "\n",
    "module = MoiraiModule.from_pretrained(\"Salesforce/moirai-1.0-R-base\")\n",
    "model = MoiraiForecast(\n",
    "    module=module,\n",
    "    prediction_length=20,\n",
    "    context_length=200,\n",
    "    patch_size=\"auto\",\n",
    "    num_samples=100,\n",
    "    target_dim=1,\n",
    "    feat_dynamic_real_dim=...,\n",
    "    past_feat_dynamic_real_dim=...,\n",
    ")\n",
    "predictor = model.create_predictor(batch_size=32)\n"
   ],
   "outputs": [
    {
     "ename": "TypeError",
     "evalue": "'>' not supported between instances of 'ellipsis' and 'int'",
     "output_type": "error",
     "traceback": [
      "\u001B[31m---------------------------------------------------------------------------\u001B[39m",
      "\u001B[31mTypeError\u001B[39m                                 Traceback (most recent call last)",
      "\u001B[36mCell\u001B[39m\u001B[36m \u001B[39m\u001B[32mIn[2]\u001B[39m\u001B[32m, line 14\u001B[39m\n\u001B[32m      3\u001B[39m module = MoiraiModule.from_pretrained(\u001B[33m\"\u001B[39m\u001B[33mSalesforce/moirai-1.0-R-base\u001B[39m\u001B[33m\"\u001B[39m)\n\u001B[32m      4\u001B[39m model = MoiraiForecast(\n\u001B[32m      5\u001B[39m     module=module,\n\u001B[32m      6\u001B[39m     prediction_length=\u001B[32m20\u001B[39m,\n\u001B[32m   (...)\u001B[39m\u001B[32m     12\u001B[39m     past_feat_dynamic_real_dim=...,\n\u001B[32m     13\u001B[39m )\n\u001B[32m---> \u001B[39m\u001B[32m14\u001B[39m predictor = \u001B[43mmodel\u001B[49m\u001B[43m.\u001B[49m\u001B[43mcreate_predictor\u001B[49m\u001B[43m(\u001B[49m\u001B[43mbatch_size\u001B[49m\u001B[43m=\u001B[49m\u001B[32;43m32\u001B[39;49m\u001B[43m)\u001B[49m\n",
      "\u001B[36mFile \u001B[39m\u001B[32m~/Documents/Git/Time-Series-Forecasting/venv/lib/python3.11/site-packages/uni2ts/model/moirai/forecast.py:129\u001B[39m, in \u001B[36mMoiraiForecast.create_predictor\u001B[39m\u001B[34m(self, batch_size, device)\u001B[39m\n\u001B[32m    123\u001B[39m \u001B[38;5;28;01mdef\u001B[39;00m\u001B[38;5;250m \u001B[39m\u001B[34mcreate_predictor\u001B[39m(\n\u001B[32m    124\u001B[39m     \u001B[38;5;28mself\u001B[39m,\n\u001B[32m    125\u001B[39m     batch_size: \u001B[38;5;28mint\u001B[39m,\n\u001B[32m    126\u001B[39m     device: \u001B[38;5;28mstr\u001B[39m = \u001B[33m\"\u001B[39m\u001B[33mauto\u001B[39m\u001B[33m\"\u001B[39m,\n\u001B[32m    127\u001B[39m ) -> PyTorchPredictor:\n\u001B[32m    128\u001B[39m     ts_fields = []\n\u001B[32m--> \u001B[39m\u001B[32m129\u001B[39m     \u001B[38;5;28;01mif\u001B[39;00m \u001B[38;5;28;43mself\u001B[39;49m\u001B[43m.\u001B[49m\u001B[43mhparams\u001B[49m\u001B[43m.\u001B[49m\u001B[43mfeat_dynamic_real_dim\u001B[49m\u001B[43m \u001B[49m\u001B[43m>\u001B[49m\u001B[43m \u001B[49m\u001B[32;43m0\u001B[39;49m:\n\u001B[32m    130\u001B[39m         ts_fields.append(\u001B[33m\"\u001B[39m\u001B[33mfeat_dynamic_real\u001B[39m\u001B[33m\"\u001B[39m)\n\u001B[32m    131\u001B[39m         ts_fields.append(\u001B[33m\"\u001B[39m\u001B[33mobserved_feat_dynamic_real\u001B[39m\u001B[33m\"\u001B[39m)\n",
      "\u001B[31mTypeError\u001B[39m: '>' not supported between instances of 'ellipsis' and 'int'"
     ]
    }
   ],
   "execution_count": 2
  }
 ],
 "metadata": {
  "language_info": {
   "name": "python"
  },
  "kernelspec": {
   "name": "python3",
   "language": "python",
   "display_name": "Python 3 (ipykernel)"
  }
 },
 "nbformat": 4,
 "nbformat_minor": 2
}
