{
 "cells": [
  {
   "cell_type": "code",
   "execution_count": 2,
   "metadata": {},
   "outputs": [
    {
     "name": "stdout",
     "output_type": "stream",
     "text": [
      "Collecting ipywidgets\n",
      "  Downloading ipywidgets-8.1.7-py3-none-any.whl.metadata (2.4 kB)\n",
      "Collecting plotly\n",
      "  Downloading plotly-6.2.0-py3-none-any.whl.metadata (8.5 kB)\n",
      "Requirement already satisfied: comm>=0.1.3 in c:\\users\\rafae\\appdata\\roaming\\python\\python312\\site-packages (from ipywidgets) (0.2.2)\n",
      "Requirement already satisfied: ipython>=6.1.0 in c:\\users\\rafae\\appdata\\roaming\\python\\python312\\site-packages (from ipywidgets) (8.29.0)\n",
      "Requirement already satisfied: traitlets>=4.3.1 in c:\\users\\rafae\\appdata\\roaming\\python\\python312\\site-packages (from ipywidgets) (5.14.3)\n",
      "Collecting widgetsnbextension~=4.0.14 (from ipywidgets)\n",
      "  Downloading widgetsnbextension-4.0.14-py3-none-any.whl.metadata (1.6 kB)\n",
      "Collecting jupyterlab_widgets~=3.0.15 (from ipywidgets)\n",
      "  Downloading jupyterlab_widgets-3.0.15-py3-none-any.whl.metadata (20 kB)\n",
      "Collecting narwhals>=1.15.1 (from plotly)\n",
      "  Downloading narwhals-1.44.0-py3-none-any.whl.metadata (11 kB)\n",
      "Requirement already satisfied: packaging in c:\\users\\rafae\\appdata\\roaming\\python\\python312\\site-packages (from plotly) (24.2)\n",
      "Requirement already satisfied: decorator in c:\\users\\rafae\\appdata\\roaming\\python\\python312\\site-packages (from ipython>=6.1.0->ipywidgets) (5.1.1)\n",
      "Requirement already satisfied: jedi>=0.16 in c:\\users\\rafae\\appdata\\roaming\\python\\python312\\site-packages (from ipython>=6.1.0->ipywidgets) (0.19.2)\n",
      "Requirement already satisfied: matplotlib-inline in c:\\users\\rafae\\appdata\\roaming\\python\\python312\\site-packages (from ipython>=6.1.0->ipywidgets) (0.1.7)\n",
      "Requirement already satisfied: prompt-toolkit<3.1.0,>=3.0.41 in c:\\users\\rafae\\appdata\\roaming\\python\\python312\\site-packages (from ipython>=6.1.0->ipywidgets) (3.0.48)\n",
      "Requirement already satisfied: pygments>=2.4.0 in c:\\users\\rafae\\appdata\\roaming\\python\\python312\\site-packages (from ipython>=6.1.0->ipywidgets) (2.18.0)\n",
      "Requirement already satisfied: stack-data in c:\\users\\rafae\\appdata\\roaming\\python\\python312\\site-packages (from ipython>=6.1.0->ipywidgets) (0.6.3)\n",
      "Requirement already satisfied: colorama in c:\\users\\rafae\\appdata\\roaming\\python\\python312\\site-packages (from ipython>=6.1.0->ipywidgets) (0.4.6)\n",
      "Requirement already satisfied: wcwidth in c:\\users\\rafae\\appdata\\roaming\\python\\python312\\site-packages (from prompt-toolkit<3.1.0,>=3.0.41->ipython>=6.1.0->ipywidgets) (0.2.13)\n",
      "Requirement already satisfied: parso<0.9.0,>=0.8.4 in c:\\users\\rafae\\appdata\\roaming\\python\\python312\\site-packages (from jedi>=0.16->ipython>=6.1.0->ipywidgets) (0.8.4)\n",
      "Requirement already satisfied: executing>=1.2.0 in c:\\users\\rafae\\appdata\\roaming\\python\\python312\\site-packages (from stack-data->ipython>=6.1.0->ipywidgets) (2.1.0)\n",
      "Requirement already satisfied: asttokens>=2.1.0 in c:\\users\\rafae\\appdata\\roaming\\python\\python312\\site-packages (from stack-data->ipython>=6.1.0->ipywidgets) (2.4.1)\n",
      "Requirement already satisfied: pure-eval in c:\\users\\rafae\\appdata\\roaming\\python\\python312\\site-packages (from stack-data->ipython>=6.1.0->ipywidgets) (0.2.3)\n",
      "Requirement already satisfied: six>=1.12.0 in c:\\users\\rafae\\appdata\\roaming\\python\\python312\\site-packages (from asttokens>=2.1.0->stack-data->ipython>=6.1.0->ipywidgets) (1.16.0)\n",
      "Downloading ipywidgets-8.1.7-py3-none-any.whl (139 kB)\n",
      "Downloading jupyterlab_widgets-3.0.15-py3-none-any.whl (216 kB)\n",
      "Downloading widgetsnbextension-4.0.14-py3-none-any.whl (2.2 MB)\n",
      "   ---------------------------------------- 0.0/2.2 MB ? eta -:--:--\n",
      "   ---------------------------------------- 0.0/2.2 MB ? eta -:--:--\n",
      "   ---------------------------------------- 0.0/2.2 MB ? eta -:--:--\n",
      "   ---- ----------------------------------- 0.3/2.2 MB ? eta -:--:--\n",
      "   --------- ------------------------------ 0.5/2.2 MB 882.6 kB/s eta 0:00:02\n",
      "   --------- ------------------------------ 0.5/2.2 MB 882.6 kB/s eta 0:00:02\n",
      "   ------------------- -------------------- 1.0/2.2 MB 1.1 MB/s eta 0:00:02\n",
      "   ---------------------------- ----------- 1.6/2.2 MB 1.4 MB/s eta 0:00:01\n",
      "   ---------------------------- ----------- 1.6/2.2 MB 1.4 MB/s eta 0:00:01\n",
      "   ---------------------------- ----------- 1.6/2.2 MB 1.4 MB/s eta 0:00:01\n",
      "   ---------------------------- ----------- 1.6/2.2 MB 1.4 MB/s eta 0:00:01\n",
      "   --------------------------------- ------ 1.8/2.2 MB 932.3 kB/s eta 0:00:01\n",
      "   ---------------------------------------- 2.2/2.2 MB 1.0 MB/s eta 0:00:00\n",
      "Downloading plotly-6.2.0-py3-none-any.whl (9.6 MB)\n",
      "   ---------------------------------------- 0.0/9.6 MB ? eta -:--:--\n",
      "   - -------------------------------------- 0.3/9.6 MB ? eta -:--:--\n",
      "   --- ------------------------------------ 0.8/9.6 MB 2.8 MB/s eta 0:00:04\n",
      "   ----- ---------------------------------- 1.3/9.6 MB 2.6 MB/s eta 0:00:04\n",
      "   ------ --------------------------------- 1.6/9.6 MB 2.3 MB/s eta 0:00:04\n",
      "   ------- -------------------------------- 1.8/9.6 MB 2.0 MB/s eta 0:00:04\n",
      "   --------- ------------------------------ 2.4/9.6 MB 2.1 MB/s eta 0:00:04\n",
      "   ----------- ---------------------------- 2.9/9.6 MB 2.1 MB/s eta 0:00:04\n",
      "   -------------- ------------------------- 3.4/9.6 MB 2.1 MB/s eta 0:00:03\n",
      "   --------------- ------------------------ 3.7/9.6 MB 2.1 MB/s eta 0:00:03\n",
      "   ----------------- ---------------------- 4.2/9.6 MB 2.1 MB/s eta 0:00:03\n",
      "   ------------------- -------------------- 4.7/9.6 MB 2.2 MB/s eta 0:00:03\n",
      "   --------------------- ------------------ 5.2/9.6 MB 2.2 MB/s eta 0:00:03\n",
      "   ----------------------- ---------------- 5.8/9.6 MB 2.2 MB/s eta 0:00:02\n",
      "   ------------------------- -------------- 6.0/9.6 MB 2.2 MB/s eta 0:00:02\n",
      "   --------------------------- ------------ 6.6/9.6 MB 2.1 MB/s eta 0:00:02\n",
      "   ----------------------------- ---------- 7.1/9.6 MB 2.2 MB/s eta 0:00:02\n",
      "   -------------------------------- ------- 7.9/9.6 MB 2.3 MB/s eta 0:00:01\n",
      "   ---------------------------------- ----- 8.4/9.6 MB 2.3 MB/s eta 0:00:01\n",
      "   ------------------------------------- -- 8.9/9.6 MB 2.3 MB/s eta 0:00:01\n",
      "   ---------------------------------------  9.4/9.6 MB 2.3 MB/s eta 0:00:01\n",
      "   ---------------------------------------- 9.6/9.6 MB 2.3 MB/s eta 0:00:00\n",
      "Downloading narwhals-1.44.0-py3-none-any.whl (365 kB)\n",
      "Installing collected packages: widgetsnbextension, narwhals, jupyterlab_widgets, plotly, ipywidgets\n",
      "\n",
      "   -------- ------------------------------- 1/5 [narwhals]\n",
      "   -------- ------------------------------- 1/5 [narwhals]\n",
      "   -------- ------------------------------- 1/5 [narwhals]\n",
      "   -------- ------------------------------- 1/5 [narwhals]\n",
      "   -------- ------------------------------- 1/5 [narwhals]\n",
      "   -------- ------------------------------- 1/5 [narwhals]\n",
      "   -------- ------------------------------- 1/5 [narwhals]\n",
      "   -------- ------------------------------- 1/5 [narwhals]\n",
      "   -------- ------------------------------- 1/5 [narwhals]\n",
      "   -------- ------------------------------- 1/5 [narwhals]\n",
      "   -------- ------------------------------- 1/5 [narwhals]\n",
      "   -------- ------------------------------- 1/5 [narwhals]\n",
      "   -------- ------------------------------- 1/5 [narwhals]\n",
      "   -------- ------------------------------- 1/5 [narwhals]\n",
      "   -------- ------------------------------- 1/5 [narwhals]\n",
      "   -------- ------------------------------- 1/5 [narwhals]\n",
      "   -------- ------------------------------- 1/5 [narwhals]\n",
      "   -------- ------------------------------- 1/5 [narwhals]\n",
      "   -------- ------------------------------- 1/5 [narwhals]\n",
      "   -------- ------------------------------- 1/5 [narwhals]\n",
      "   -------- ------------------------------- 1/5 [narwhals]\n",
      "   -------- ------------------------------- 1/5 [narwhals]\n",
      "   -------- ------------------------------- 1/5 [narwhals]\n",
      "   -------- ------------------------------- 1/5 [narwhals]\n",
      "   -------- ------------------------------- 1/5 [narwhals]\n",
      "   -------- ------------------------------- 1/5 [narwhals]\n",
      "   -------- ------------------------------- 1/5 [narwhals]\n",
      "   -------- ------------------------------- 1/5 [narwhals]\n",
      "   ---------------- ----------------------- 2/5 [jupyterlab_widgets]\n",
      "   ------------------------ --------------- 3/5 [plotly]\n",
      "   ------------------------ --------------- 3/5 [plotly]\n",
      "   ------------------------ --------------- 3/5 [plotly]\n",
      "   ------------------------ --------------- 3/5 [plotly]\n",
      "   ------------------------ --------------- 3/5 [plotly]\n",
      "   ------------------------ --------------- 3/5 [plotly]\n",
      "   ------------------------ --------------- 3/5 [plotly]\n",
      "   ------------------------ --------------- 3/5 [plotly]\n",
      "   ------------------------ --------------- 3/5 [plotly]\n",
      "   ------------------------ --------------- 3/5 [plotly]\n",
      "   ------------------------ --------------- 3/5 [plotly]\n",
      "   ------------------------ --------------- 3/5 [plotly]\n",
      "   ------------------------ --------------- 3/5 [plotly]\n",
      "   ------------------------ --------------- 3/5 [plotly]\n",
      "   ------------------------ --------------- 3/5 [plotly]\n",
      "   ------------------------ --------------- 3/5 [plotly]\n",
      "   ------------------------ --------------- 3/5 [plotly]\n",
      "   ------------------------ --------------- 3/5 [plotly]\n",
      "   ------------------------ --------------- 3/5 [plotly]\n",
      "   ------------------------ --------------- 3/5 [plotly]\n",
      "   ------------------------ --------------- 3/5 [plotly]\n",
      "   ------------------------ --------------- 3/5 [plotly]\n",
      "   ------------------------ --------------- 3/5 [plotly]\n",
      "   ------------------------ --------------- 3/5 [plotly]\n",
      "   ------------------------ --------------- 3/5 [plotly]\n",
      "   ------------------------ --------------- 3/5 [plotly]\n",
      "   ------------------------ --------------- 3/5 [plotly]\n",
      "   ------------------------ --------------- 3/5 [plotly]\n",
      "   ------------------------ --------------- 3/5 [plotly]\n",
      "   ------------------------ --------------- 3/5 [plotly]\n",
      "   ------------------------ --------------- 3/5 [plotly]\n",
      "   ------------------------ --------------- 3/5 [plotly]\n",
      "   ------------------------ --------------- 3/5 [plotly]\n",
      "   ------------------------ --------------- 3/5 [plotly]\n",
      "   ------------------------ --------------- 3/5 [plotly]\n",
      "   ------------------------ --------------- 3/5 [plotly]\n",
      "   ------------------------ --------------- 3/5 [plotly]\n",
      "   ------------------------ --------------- 3/5 [plotly]\n",
      "   ------------------------ --------------- 3/5 [plotly]\n",
      "   ------------------------ --------------- 3/5 [plotly]\n",
      "   ------------------------ --------------- 3/5 [plotly]\n",
      "   ------------------------ --------------- 3/5 [plotly]\n",
      "   ------------------------ --------------- 3/5 [plotly]\n",
      "   ------------------------ --------------- 3/5 [plotly]\n",
      "   ------------------------ --------------- 3/5 [plotly]\n",
      "   ------------------------ --------------- 3/5 [plotly]\n",
      "   ------------------------ --------------- 3/5 [plotly]\n",
      "   ------------------------ --------------- 3/5 [plotly]\n",
      "   ------------------------ --------------- 3/5 [plotly]\n",
      "   ------------------------ --------------- 3/5 [plotly]\n",
      "   ------------------------ --------------- 3/5 [plotly]\n",
      "   ------------------------ --------------- 3/5 [plotly]\n",
      "   ------------------------ --------------- 3/5 [plotly]\n",
      "   ------------------------ --------------- 3/5 [plotly]\n",
      "   ------------------------ --------------- 3/5 [plotly]\n",
      "   ------------------------ --------------- 3/5 [plotly]\n",
      "   ------------------------ --------------- 3/5 [plotly]\n",
      "   ------------------------ --------------- 3/5 [plotly]\n",
      "   ------------------------ --------------- 3/5 [plotly]\n",
      "   ------------------------ --------------- 3/5 [plotly]\n",
      "   ------------------------ --------------- 3/5 [plotly]\n",
      "   ------------------------ --------------- 3/5 [plotly]\n",
      "   ------------------------ --------------- 3/5 [plotly]\n",
      "   ------------------------ --------------- 3/5 [plotly]\n",
      "   ------------------------ --------------- 3/5 [plotly]\n",
      "   ------------------------ --------------- 3/5 [plotly]\n",
      "   ------------------------ --------------- 3/5 [plotly]\n",
      "   ------------------------ --------------- 3/5 [plotly]\n",
      "   ------------------------ --------------- 3/5 [plotly]\n",
      "   ------------------------ --------------- 3/5 [plotly]\n",
      "   ------------------------ --------------- 3/5 [plotly]\n",
      "   ------------------------ --------------- 3/5 [plotly]\n",
      "   ------------------------ --------------- 3/5 [plotly]\n",
      "   ------------------------ --------------- 3/5 [plotly]\n",
      "   ------------------------ --------------- 3/5 [plotly]\n",
      "   ------------------------ --------------- 3/5 [plotly]\n",
      "   ------------------------ --------------- 3/5 [plotly]\n",
      "   ------------------------ --------------- 3/5 [plotly]\n",
      "   ------------------------ --------------- 3/5 [plotly]\n",
      "   ------------------------ --------------- 3/5 [plotly]\n",
      "   ------------------------ --------------- 3/5 [plotly]\n",
      "   ------------------------ --------------- 3/5 [plotly]\n",
      "   ------------------------ --------------- 3/5 [plotly]\n",
      "   ------------------------ --------------- 3/5 [plotly]\n",
      "   ------------------------ --------------- 3/5 [plotly]\n",
      "   ------------------------ --------------- 3/5 [plotly]\n",
      "   ------------------------ --------------- 3/5 [plotly]\n",
      "   ------------------------ --------------- 3/5 [plotly]\n",
      "   ------------------------ --------------- 3/5 [plotly]\n",
      "   ------------------------ --------------- 3/5 [plotly]\n",
      "   ------------------------ --------------- 3/5 [plotly]\n",
      "   ------------------------ --------------- 3/5 [plotly]\n",
      "   ------------------------ --------------- 3/5 [plotly]\n",
      "   ------------------------ --------------- 3/5 [plotly]\n",
      "   ------------------------ --------------- 3/5 [plotly]\n",
      "   ------------------------ --------------- 3/5 [plotly]\n",
      "   ------------------------ --------------- 3/5 [plotly]\n",
      "   ------------------------ --------------- 3/5 [plotly]\n",
      "   ------------------------ --------------- 3/5 [plotly]\n",
      "   ------------------------ --------------- 3/5 [plotly]\n",
      "   ------------------------ --------------- 3/5 [plotly]\n",
      "   ------------------------ --------------- 3/5 [plotly]\n",
      "   ------------------------ --------------- 3/5 [plotly]\n",
      "   ------------------------ --------------- 3/5 [plotly]\n",
      "   ------------------------ --------------- 3/5 [plotly]\n",
      "   ------------------------ --------------- 3/5 [plotly]\n",
      "   ------------------------ --------------- 3/5 [plotly]\n",
      "   ------------------------ --------------- 3/5 [plotly]\n",
      "   ------------------------ --------------- 3/5 [plotly]\n",
      "   ------------------------ --------------- 3/5 [plotly]\n",
      "   ------------------------ --------------- 3/5 [plotly]\n",
      "   ------------------------ --------------- 3/5 [plotly]\n",
      "   ------------------------ --------------- 3/5 [plotly]\n",
      "   ------------------------ --------------- 3/5 [plotly]\n",
      "   ------------------------ --------------- 3/5 [plotly]\n",
      "   ------------------------ --------------- 3/5 [plotly]\n",
      "   ------------------------ --------------- 3/5 [plotly]\n",
      "   ------------------------ --------------- 3/5 [plotly]\n",
      "   ------------------------ --------------- 3/5 [plotly]\n",
      "   ------------------------ --------------- 3/5 [plotly]\n",
      "   ------------------------ --------------- 3/5 [plotly]\n",
      "   ------------------------ --------------- 3/5 [plotly]\n",
      "   ------------------------ --------------- 3/5 [plotly]\n",
      "   ------------------------ --------------- 3/5 [plotly]\n",
      "   ------------------------ --------------- 3/5 [plotly]\n",
      "   ------------------------ --------------- 3/5 [plotly]\n",
      "   ------------------------ --------------- 3/5 [plotly]\n",
      "   ------------------------ --------------- 3/5 [plotly]\n",
      "   ------------------------ --------------- 3/5 [plotly]\n",
      "   ------------------------ --------------- 3/5 [plotly]\n",
      "   ------------------------ --------------- 3/5 [plotly]\n",
      "   ------------------------ --------------- 3/5 [plotly]\n",
      "   ------------------------ --------------- 3/5 [plotly]\n",
      "   ------------------------ --------------- 3/5 [plotly]\n",
      "   ------------------------ --------------- 3/5 [plotly]\n",
      "   ------------------------ --------------- 3/5 [plotly]\n",
      "   ------------------------ --------------- 3/5 [plotly]\n",
      "   ------------------------ --------------- 3/5 [plotly]\n",
      "   ------------------------ --------------- 3/5 [plotly]\n",
      "   ------------------------ --------------- 3/5 [plotly]\n",
      "   ------------------------ --------------- 3/5 [plotly]\n",
      "   ------------------------ --------------- 3/5 [plotly]\n",
      "   ------------------------ --------------- 3/5 [plotly]\n",
      "   ------------------------ --------------- 3/5 [plotly]\n",
      "   ------------------------ --------------- 3/5 [plotly]\n",
      "   ------------------------ --------------- 3/5 [plotly]\n",
      "   ------------------------ --------------- 3/5 [plotly]\n",
      "   ------------------------ --------------- 3/5 [plotly]\n",
      "   ------------------------ --------------- 3/5 [plotly]\n",
      "   ------------------------ --------------- 3/5 [plotly]\n",
      "   ------------------------ --------------- 3/5 [plotly]\n",
      "   ------------------------ --------------- 3/5 [plotly]\n",
      "   ------------------------ --------------- 3/5 [plotly]\n",
      "   ------------------------ --------------- 3/5 [plotly]\n",
      "   ------------------------ --------------- 3/5 [plotly]\n",
      "   ------------------------ --------------- 3/5 [plotly]\n",
      "   ------------------------ --------------- 3/5 [plotly]\n",
      "   ------------------------ --------------- 3/5 [plotly]\n",
      "   ------------------------ --------------- 3/5 [plotly]\n",
      "   ------------------------ --------------- 3/5 [plotly]\n",
      "   ------------------------ --------------- 3/5 [plotly]\n",
      "   ------------------------ --------------- 3/5 [plotly]\n",
      "   ------------------------ --------------- 3/5 [plotly]\n",
      "   ------------------------ --------------- 3/5 [plotly]\n",
      "   ------------------------ --------------- 3/5 [plotly]\n",
      "   ------------------------ --------------- 3/5 [plotly]\n",
      "   ------------------------ --------------- 3/5 [plotly]\n",
      "   ------------------------ --------------- 3/5 [plotly]\n",
      "   ------------------------ --------------- 3/5 [plotly]\n",
      "   ------------------------ --------------- 3/5 [plotly]\n",
      "   ------------------------ --------------- 3/5 [plotly]\n",
      "   ------------------------ --------------- 3/5 [plotly]\n",
      "   ------------------------ --------------- 3/5 [plotly]\n",
      "   ------------------------ --------------- 3/5 [plotly]\n",
      "   ------------------------ --------------- 3/5 [plotly]\n",
      "   ------------------------ --------------- 3/5 [plotly]\n",
      "   ------------------------ --------------- 3/5 [plotly]\n",
      "   ------------------------ --------------- 3/5 [plotly]\n",
      "   ------------------------ --------------- 3/5 [plotly]\n",
      "   ------------------------ --------------- 3/5 [plotly]\n",
      "   ------------------------ --------------- 3/5 [plotly]\n",
      "   ------------------------ --------------- 3/5 [plotly]\n",
      "   ------------------------ --------------- 3/5 [plotly]\n",
      "   ------------------------ --------------- 3/5 [plotly]\n",
      "   ------------------------ --------------- 3/5 [plotly]\n",
      "   ------------------------ --------------- 3/5 [plotly]\n",
      "   ------------------------ --------------- 3/5 [plotly]\n",
      "   ------------------------ --------------- 3/5 [plotly]\n",
      "   ------------------------ --------------- 3/5 [plotly]\n",
      "   ------------------------ --------------- 3/5 [plotly]\n",
      "   ------------------------ --------------- 3/5 [plotly]\n",
      "   ------------------------ --------------- 3/5 [plotly]\n",
      "   ------------------------ --------------- 3/5 [plotly]\n",
      "   ------------------------ --------------- 3/5 [plotly]\n",
      "   ------------------------ --------------- 3/5 [plotly]\n",
      "   ------------------------ --------------- 3/5 [plotly]\n",
      "   ------------------------ --------------- 3/5 [plotly]\n",
      "   ------------------------ --------------- 3/5 [plotly]\n",
      "   ------------------------ --------------- 3/5 [plotly]\n",
      "   ------------------------ --------------- 3/5 [plotly]\n",
      "   ------------------------ --------------- 3/5 [plotly]\n",
      "   ------------------------ --------------- 3/5 [plotly]\n",
      "   ------------------------ --------------- 3/5 [plotly]\n",
      "   ------------------------ --------------- 3/5 [plotly]\n",
      "   ------------------------ --------------- 3/5 [plotly]\n",
      "   ------------------------ --------------- 3/5 [plotly]\n",
      "   ------------------------ --------------- 3/5 [plotly]\n",
      "   ------------------------ --------------- 3/5 [plotly]\n",
      "   ------------------------ --------------- 3/5 [plotly]\n",
      "   ------------------------ --------------- 3/5 [plotly]\n",
      "   ------------------------ --------------- 3/5 [plotly]\n",
      "   ------------------------ --------------- 3/5 [plotly]\n",
      "   ------------------------ --------------- 3/5 [plotly]\n",
      "   ------------------------ --------------- 3/5 [plotly]\n",
      "   ------------------------ --------------- 3/5 [plotly]\n",
      "   ------------------------ --------------- 3/5 [plotly]\n",
      "   ------------------------ --------------- 3/5 [plotly]\n",
      "   ------------------------ --------------- 3/5 [plotly]\n",
      "   ------------------------ --------------- 3/5 [plotly]\n",
      "   ------------------------ --------------- 3/5 [plotly]\n",
      "   ------------------------ --------------- 3/5 [plotly]\n",
      "   ------------------------ --------------- 3/5 [plotly]\n",
      "   ------------------------ --------------- 3/5 [plotly]\n",
      "   ------------------------ --------------- 3/5 [plotly]\n",
      "   ------------------------ --------------- 3/5 [plotly]\n",
      "   ------------------------ --------------- 3/5 [plotly]\n",
      "   ------------------------ --------------- 3/5 [plotly]\n",
      "   ------------------------ --------------- 3/5 [plotly]\n",
      "   ------------------------ --------------- 3/5 [plotly]\n",
      "   ------------------------ --------------- 3/5 [plotly]\n",
      "   ------------------------ --------------- 3/5 [plotly]\n",
      "   ------------------------ --------------- 3/5 [plotly]\n",
      "   ------------------------ --------------- 3/5 [plotly]\n",
      "   ------------------------ --------------- 3/5 [plotly]\n",
      "   ------------------------ --------------- 3/5 [plotly]\n",
      "   ------------------------ --------------- 3/5 [plotly]\n",
      "   ------------------------ --------------- 3/5 [plotly]\n",
      "   ------------------------ --------------- 3/5 [plotly]\n",
      "   ------------------------ --------------- 3/5 [plotly]\n",
      "   ------------------------ --------------- 3/5 [plotly]\n",
      "   ------------------------ --------------- 3/5 [plotly]\n",
      "   ------------------------ --------------- 3/5 [plotly]\n",
      "   ------------------------ --------------- 3/5 [plotly]\n",
      "   ------------------------ --------------- 3/5 [plotly]\n",
      "   ------------------------ --------------- 3/5 [plotly]\n",
      "   ------------------------ --------------- 3/5 [plotly]\n",
      "   ------------------------ --------------- 3/5 [plotly]\n",
      "   ------------------------ --------------- 3/5 [plotly]\n",
      "   ------------------------ --------------- 3/5 [plotly]\n",
      "   ------------------------ --------------- 3/5 [plotly]\n",
      "   ------------------------ --------------- 3/5 [plotly]\n",
      "   ------------------------ --------------- 3/5 [plotly]\n",
      "   ------------------------ --------------- 3/5 [plotly]\n",
      "   ------------------------ --------------- 3/5 [plotly]\n",
      "   ------------------------ --------------- 3/5 [plotly]\n",
      "   ------------------------ --------------- 3/5 [plotly]\n",
      "   ------------------------ --------------- 3/5 [plotly]\n",
      "   ------------------------ --------------- 3/5 [plotly]\n",
      "   ------------------------ --------------- 3/5 [plotly]\n",
      "   ------------------------ --------------- 3/5 [plotly]\n",
      "   ------------------------ --------------- 3/5 [plotly]\n",
      "   ------------------------ --------------- 3/5 [plotly]\n",
      "   ------------------------ --------------- 3/5 [plotly]\n",
      "   ------------------------ --------------- 3/5 [plotly]\n",
      "   ------------------------ --------------- 3/5 [plotly]\n",
      "   ------------------------ --------------- 3/5 [plotly]\n",
      "   ------------------------ --------------- 3/5 [plotly]\n",
      "   ------------------------ --------------- 3/5 [plotly]\n",
      "   ------------------------ --------------- 3/5 [plotly]\n",
      "   ------------------------ --------------- 3/5 [plotly]\n",
      "   ------------------------ --------------- 3/5 [plotly]\n",
      "   ------------------------ --------------- 3/5 [plotly]\n",
      "   ------------------------ --------------- 3/5 [plotly]\n",
      "   ------------------------ --------------- 3/5 [plotly]\n",
      "   ------------------------ --------------- 3/5 [plotly]\n",
      "   ------------------------ --------------- 3/5 [plotly]\n",
      "   ------------------------ --------------- 3/5 [plotly]\n",
      "   ------------------------ --------------- 3/5 [plotly]\n",
      "   ------------------------ --------------- 3/5 [plotly]\n",
      "   ------------------------ --------------- 3/5 [plotly]\n",
      "   ------------------------ --------------- 3/5 [plotly]\n",
      "   ------------------------ --------------- 3/5 [plotly]\n",
      "   ------------------------ --------------- 3/5 [plotly]\n",
      "   ------------------------ --------------- 3/5 [plotly]\n",
      "   ------------------------ --------------- 3/5 [plotly]\n",
      "   ------------------------ --------------- 3/5 [plotly]\n",
      "   ------------------------ --------------- 3/5 [plotly]\n",
      "   ------------------------ --------------- 3/5 [plotly]\n",
      "   ------------------------ --------------- 3/5 [plotly]\n",
      "   ------------------------ --------------- 3/5 [plotly]\n",
      "   ------------------------ --------------- 3/5 [plotly]\n",
      "   ------------------------ --------------- 3/5 [plotly]\n",
      "   ------------------------ --------------- 3/5 [plotly]\n",
      "   ------------------------ --------------- 3/5 [plotly]\n",
      "   ------------------------ --------------- 3/5 [plotly]\n",
      "   ------------------------ --------------- 3/5 [plotly]\n",
      "   ------------------------ --------------- 3/5 [plotly]\n",
      "   ------------------------ --------------- 3/5 [plotly]\n",
      "   ------------------------ --------------- 3/5 [plotly]\n",
      "   ------------------------ --------------- 3/5 [plotly]\n",
      "   ------------------------ --------------- 3/5 [plotly]\n",
      "   ------------------------ --------------- 3/5 [plotly]\n",
      "   ------------------------ --------------- 3/5 [plotly]\n",
      "   ------------------------ --------------- 3/5 [plotly]\n",
      "   ------------------------ --------------- 3/5 [plotly]\n",
      "   ------------------------ --------------- 3/5 [plotly]\n",
      "   ------------------------ --------------- 3/5 [plotly]\n",
      "   ------------------------ --------------- 3/5 [plotly]\n",
      "   ------------------------ --------------- 3/5 [plotly]\n",
      "   -------------------------------- ------- 4/5 [ipywidgets]\n",
      "   -------------------------------- ------- 4/5 [ipywidgets]\n",
      "   -------------------------------- ------- 4/5 [ipywidgets]\n",
      "   -------------------------------- ------- 4/5 [ipywidgets]\n",
      "   -------------------------------- ------- 4/5 [ipywidgets]\n",
      "   -------------------------------- ------- 4/5 [ipywidgets]\n",
      "   -------------------------------- ------- 4/5 [ipywidgets]\n",
      "   -------------------------------- ------- 4/5 [ipywidgets]\n",
      "   -------------------------------- ------- 4/5 [ipywidgets]\n",
      "   -------------------------------- ------- 4/5 [ipywidgets]\n",
      "   -------------------------------- ------- 4/5 [ipywidgets]\n",
      "   -------------------------------- ------- 4/5 [ipywidgets]\n",
      "   -------------------------------- ------- 4/5 [ipywidgets]\n",
      "   -------------------------------- ------- 4/5 [ipywidgets]\n",
      "   ---------------------------------------- 5/5 [ipywidgets]\n",
      "\n",
      "Successfully installed ipywidgets-8.1.7 jupyterlab_widgets-3.0.15 narwhals-1.44.0 plotly-6.2.0 widgetsnbextension-4.0.14\n"
     ]
    }
   ],
   "source": [
    "!pip install ipywidgets plotly\n"
   ]
  },
  {
   "cell_type": "code",
   "execution_count": 86,
   "metadata": {},
   "outputs": [],
   "source": [
    "import numpy as np\n",
    "import pandas as pd\n",
    "import matplotlib.pyplot as plt\n",
    "from prophet import Prophet\n",
    "import warnings\n",
    "warnings.filterwarnings('ignore')"
   ]
  },
  {
   "cell_type": "code",
   "execution_count": 87,
   "metadata": {},
   "outputs": [],
   "source": [
    "plt.rcParams['figure.figsize'] = (10, 7.5)\n",
    "plt.rcParams['axes.grid'] = False"
   ]
  },
  {
   "cell_type": "code",
   "execution_count": 88,
   "metadata": {},
   "outputs": [
    {
     "name": "stdout",
     "output_type": "stream",
     "text": [
      "<class 'pandas.core.frame.DataFrame'>\n",
      "Index: 230736 entries, 230736 to 461471\n",
      "Data columns (total 2 columns):\n",
      " #   Column  Non-Null Count   Dtype         \n",
      "---  ------  --------------   -----         \n",
      " 0   ds      230736 non-null  datetime64[ns]\n",
      " 1   y       230736 non-null  float64       \n",
      "dtypes: datetime64[ns](1), float64(1)\n",
      "memory usage: 5.3 MB\n",
      "<class 'pandas.core.frame.DataFrame'>\n",
      "RangeIndex: 23741 entries, 0 to 23740\n",
      "Data columns (total 2 columns):\n",
      " #   Column  Non-Null Count  Dtype         \n",
      "---  ------  --------------  -----         \n",
      " 0   ds      23741 non-null  datetime64[ns]\n",
      " 1   y       23741 non-null  float64       \n",
      "dtypes: datetime64[ns](1), float64(1)\n",
      "memory usage: 371.1 KB\n",
      "<class 'pandas.core.frame.DataFrame'>\n",
      "RangeIndex: 228 entries, 0 to 227\n",
      "Data columns (total 2 columns):\n",
      " #   Column  Non-Null Count  Dtype         \n",
      "---  ------  --------------  -----         \n",
      " 0   ds      228 non-null    datetime64[ns]\n",
      " 1   y       228 non-null    float64       \n",
      "dtypes: datetime64[ns](1), float64(1)\n",
      "memory usage: 3.7 KB\n",
      "<class 'pandas.core.frame.DataFrame'>\n",
      "RangeIndex: 10592 entries, 0 to 10591\n",
      "Data columns (total 2 columns):\n",
      " #   Column  Non-Null Count  Dtype         \n",
      "---  ------  --------------  -----         \n",
      " 0   ds      10592 non-null  datetime64[ns]\n",
      " 1   y       10592 non-null  int64         \n",
      "dtypes: datetime64[ns](1), int64(1)\n",
      "memory usage: 165.6 KB\n"
     ]
    },
    {
     "data": {
      "image/png": "[encoded data removed]",
      "text/plain": [
       "<Figure size 1500x2000 with 4 Axes>"
      ]
     },
     "metadata": {},
     "output_type": "display_data"
    }
   ],
   "source": [
    "%run \"datagetter.ipynb\""
   ]
  },
  {
   "cell_type": "code",
   "execution_count": 89,
   "metadata": {},
   "outputs": [],
   "source": [
    "dataset_path = './Datasets/'\n",
    "dataset_names = ['australian_electricity_demand_dataset.tsf','saugeenday_dataset.tsf', 'wti_oil_dataset.csv', 'train_egg_sales.csv']"
   ]
  },
  {
   "cell_type": "markdown",
   "metadata": {},
   "source": [
    "## Apply Prophet for all Datasets\n",
    "\n",
    "- Australian Eletricity Demand"
   ]
  },
  {
   "cell_type": "code",
   "execution_count": 164,
   "metadata": {},
   "outputs": [
    {
     "name": "stderr",
     "output_type": "stream",
     "text": [
      "12:01:16 - cmdstanpy - INFO - Chain [1] start processing\n",
      "12:01:16 - cmdstanpy - INFO - Chain [1] done processing\n"
     ]
    },
    {
     "data": {
      "text/html": [
       "<div>\n",
       "<style scoped>\n",
       "    .dataframe tbody tr th:only-of-type {\n",
       "        vertical-align: middle;\n",
       "    }\n",
       "\n",
       "    .dataframe tbody tr th {\n",
       "        vertical-align: top;\n",
       "    }\n",
       "\n",
       "    .dataframe thead th {\n",
       "        text-align: right;\n",
       "    }\n",
       "</style>\n",
       "<table border=\"1\" class=\"dataframe\">\n",
       "  <thead>\n",
       "    <tr style=\"text-align: right;\">\n",
       "      <th></th>\n",
       "      <th>ds</th>\n",
       "      <th>y</th>\n",
       "      <th>yhat</th>\n",
       "    </tr>\n",
       "  </thead>\n",
       "  <tbody>\n",
       "    <tr>\n",
       "      <th>360</th>\n",
       "      <td>2015-02-24</td>\n",
       "      <td>219349.577780</td>\n",
       "      <td>231885.975475</td>\n",
       "    </tr>\n",
       "    <tr>\n",
       "      <th>361</th>\n",
       "      <td>2015-02-25</td>\n",
       "      <td>229733.450578</td>\n",
       "      <td>232834.222723</td>\n",
       "    </tr>\n",
       "    <tr>\n",
       "      <th>362</th>\n",
       "      <td>2015-02-26</td>\n",
       "      <td>231272.914506</td>\n",
       "      <td>233375.551693</td>\n",
       "    </tr>\n",
       "    <tr>\n",
       "      <th>363</th>\n",
       "      <td>2015-02-27</td>\n",
       "      <td>228040.507264</td>\n",
       "      <td>228975.963415</td>\n",
       "    </tr>\n",
       "    <tr>\n",
       "      <th>364</th>\n",
       "      <td>2015-02-28</td>\n",
       "      <td>209672.593930</td>\n",
       "      <td>200919.409743</td>\n",
       "    </tr>\n",
       "  </tbody>\n",
       "</table>\n",
       "</div>"
      ],
      "text/plain": [
       "            ds              y           yhat\n",
       "360 2015-02-24  219349.577780  231885.975475\n",
       "361 2015-02-25  229733.450578  232834.222723\n",
       "362 2015-02-26  231272.914506  233375.551693\n",
       "363 2015-02-27  228040.507264  228975.963415\n",
       "364 2015-02-28  209672.593930  200919.409743"
      ]
     },
     "execution_count": 164,
     "metadata": {},
     "output_type": "execute_result"
    }
   ],
   "source": [
    "# 1. Aggregate your half-hour data to daily sums (or means) for first dataset\n",
    "daily = australian_electricity_demand_df.set_index('ds')['y'] \\\n",
    "          .resample('D').sum() \\\n",
    "          .reset_index().rename(columns={'y':'y'})\n",
    "\n",
    "# 2. Split off the last 365 days\n",
    "train_australian = daily[:-365]\n",
    "test_australian  = daily[-365:]\n",
    "\n",
    "# 3. Fit & forecast 365 days ahead\n",
    "m_australian = Prophet()\n",
    "m_australian.fit(train_australian)\n",
    "\n",
    "future_australian  = m_australian.make_future_dataframe(periods=365, freq='D')\n",
    "forecast_australian = m_australian.predict(future_australian)\n",
    "\n",
    "# 4. Merge on ds\n",
    "forecast_test = forecast_australian[['ds','yhat','yhat_lower','yhat_upper']]\n",
    "merged = pd.merge(test_australian, forecast_test, on='ds', how='left')\n",
    "\n",
    "# 5. Inspect\n",
    "merged[['ds','y','yhat']].tail()\n",
    "\n"
   ]
  },
  {
   "cell_type": "markdown",
   "metadata": {},
   "source": [
    "- Saugeenday River Dataset"
   ]
  },
  {
   "cell_type": "code",
   "execution_count": 247,
   "metadata": {},
   "outputs": [
    {
     "name": "stderr",
     "output_type": "stream",
     "text": [
      "13:28:52 - cmdstanpy - INFO - Chain [1] start processing\n",
      "13:29:02 - cmdstanpy - INFO - Chain [1] done processing\n"
     ]
    },
    {
     "data": {
      "text/html": [
       "<div>\n",
       "<style scoped>\n",
       "    .dataframe tbody tr th:only-of-type {\n",
       "        vertical-align: middle;\n",
       "    }\n",
       "\n",
       "    .dataframe tbody tr th {\n",
       "        vertical-align: top;\n",
       "    }\n",
       "\n",
       "    .dataframe thead th {\n",
       "        text-align: right;\n",
       "    }\n",
       "</style>\n",
       "<table border=\"1\" class=\"dataframe\">\n",
       "  <thead>\n",
       "    <tr style=\"text-align: right;\">\n",
       "      <th></th>\n",
       "      <th>ds</th>\n",
       "      <th>y</th>\n",
       "      <th>yhat</th>\n",
       "    </tr>\n",
       "  </thead>\n",
       "  <tbody>\n",
       "    <tr>\n",
       "      <th>0</th>\n",
       "      <td>1979-01-01</td>\n",
       "      <td>28.0</td>\n",
       "      <td>27.964733</td>\n",
       "    </tr>\n",
       "    <tr>\n",
       "      <th>1</th>\n",
       "      <td>1979-01-02</td>\n",
       "      <td>42.0</td>\n",
       "      <td>27.672090</td>\n",
       "    </tr>\n",
       "    <tr>\n",
       "      <th>2</th>\n",
       "      <td>1979-01-03</td>\n",
       "      <td>37.0</td>\n",
       "      <td>27.464432</td>\n",
       "    </tr>\n",
       "    <tr>\n",
       "      <th>3</th>\n",
       "      <td>1979-01-04</td>\n",
       "      <td>33.0</td>\n",
       "      <td>27.402286</td>\n",
       "    </tr>\n",
       "    <tr>\n",
       "      <th>4</th>\n",
       "      <td>1979-01-05</td>\n",
       "      <td>31.0</td>\n",
       "      <td>27.545960</td>\n",
       "    </tr>\n",
       "  </tbody>\n",
       "</table>\n",
       "</div>"
      ],
      "text/plain": [
       "          ds     y       yhat\n",
       "0 1979-01-01  28.0  27.964733\n",
       "1 1979-01-02  42.0  27.672090\n",
       "2 1979-01-03  37.0  27.464432\n",
       "3 1979-01-04  33.0  27.402286\n",
       "4 1979-01-05  31.0  27.545960"
      ]
     },
     "execution_count": 247,
     "metadata": {},
     "output_type": "execute_result"
    }
   ],
   "source": [
    "# 1. Aggregate your half-hour data to daily sums (or means) for second dataset\n",
    "daily = saugeen_river_df.set_index('ds')['y'] \\\n",
    "          .resample('D').sum() \\\n",
    "          .reset_index().rename(columns={'y':'y'})\n",
    "\n",
    "# 2. Split off the last 365 days\n",
    "train_saugeen = daily[:-365]\n",
    "test_saugeen  = daily[-365:]\n",
    "\n",
    "# 3. Fit & forecast 365 days ahead\n",
    "m_saugeen = Prophet()\n",
    "m_saugeen.fit(train_saugeen)\n",
    "\n",
    "future_saugeen  = m_saugeen.make_future_dataframe(periods=365, freq='D')\n",
    "forecast_saugeen = m_saugeen.predict(future_saugeen)\n",
    "\n",
    "# 4. Merge on ds\n",
    "forecast_test = forecast_saugeen[['ds','yhat','yhat_lower','yhat_upper']]\n",
    "merged = pd.merge(test_saugeen, forecast_test, on='ds', how='left')\n",
    "\n",
    "# 5. Inspect\n",
    "merged[['ds','y','yhat']].head()"
   ]
  },
  {
   "cell_type": "markdown",
   "metadata": {},
   "source": [
    "- WTI Oil Price .csv"
   ]
  },
  {
   "cell_type": "code",
   "execution_count": 211,
   "metadata": {},
   "outputs": [
    {
     "data": {
      "text/html": [
       "<div>\n",
       "<style scoped>\n",
       "    .dataframe tbody tr th:only-of-type {\n",
       "        vertical-align: middle;\n",
       "    }\n",
       "\n",
       "    .dataframe tbody tr th {\n",
       "        vertical-align: top;\n",
       "    }\n",
       "\n",
       "    .dataframe thead th {\n",
       "        text-align: right;\n",
       "    }\n",
       "</style>\n",
       "<table border=\"1\" class=\"dataframe\">\n",
       "  <thead>\n",
       "    <tr style=\"text-align: right;\">\n",
       "      <th></th>\n",
       "      <th>ds</th>\n",
       "      <th>y</th>\n",
       "    </tr>\n",
       "  </thead>\n",
       "  <tbody>\n",
       "    <tr>\n",
       "      <th>0</th>\n",
       "      <td>2006-02-28</td>\n",
       "      <td>65.485000</td>\n",
       "    </tr>\n",
       "    <tr>\n",
       "      <th>1</th>\n",
       "      <td>2006-03-31</td>\n",
       "      <td>61.631053</td>\n",
       "    </tr>\n",
       "    <tr>\n",
       "      <th>2</th>\n",
       "      <td>2006-04-30</td>\n",
       "      <td>62.685217</td>\n",
       "    </tr>\n",
       "    <tr>\n",
       "      <th>3</th>\n",
       "      <td>2006-05-31</td>\n",
       "      <td>69.443684</td>\n",
       "    </tr>\n",
       "    <tr>\n",
       "      <th>4</th>\n",
       "      <td>2006-06-30</td>\n",
       "      <td>70.844091</td>\n",
       "    </tr>\n",
       "  </tbody>\n",
       "</table>\n",
       "</div>"
      ],
      "text/plain": [
       "          ds          y\n",
       "0 2006-02-28  65.485000\n",
       "1 2006-03-31  61.631053\n",
       "2 2006-04-30  62.685217\n",
       "3 2006-05-31  69.443684\n",
       "4 2006-06-30  70.844091"
      ]
     },
     "execution_count": 211,
     "metadata": {},
     "output_type": "execute_result"
    }
   ],
   "source": [
    "from pandas.tseries.offsets import MonthEnd\n",
    "\n",
    "wti_oil_df['ds'] = pd.to_datetime(wti_oil_df['ds']) + MonthEnd(1)\n",
    "\n",
    "wti_oil_df.head()\n",
    "\n",
    "\n",
    "\n",
    "\n",
    "\n"
   ]
  },
  {
   "cell_type": "code",
   "execution_count": 212,
   "metadata": {},
   "outputs": [],
   "source": [
    "\n",
    "train_oil = wti_oil_df[:-365]\n",
    "test_oil = wti_oil_df[-365:]\n",
    "\n"
   ]
  },
  {
   "cell_type": "code",
   "execution_count": 216,
   "metadata": {},
   "outputs": [
    {
     "data": {
      "text/html": [
       "<div>\n",
       "<style scoped>\n",
       "    .dataframe tbody tr th:only-of-type {\n",
       "        vertical-align: middle;\n",
       "    }\n",
       "\n",
       "    .dataframe tbody tr th {\n",
       "        vertical-align: top;\n",
       "    }\n",
       "\n",
       "    .dataframe thead th {\n",
       "        text-align: right;\n",
       "    }\n",
       "</style>\n",
       "<table border=\"1\" class=\"dataframe\">\n",
       "  <thead>\n",
       "    <tr style=\"text-align: right;\">\n",
       "      <th></th>\n",
       "      <th>ds</th>\n",
       "      <th>yhat</th>\n",
       "      <th>yhat_lower</th>\n",
       "      <th>yhat_upper</th>\n",
       "    </tr>\n",
       "  </thead>\n",
       "  <tbody>\n",
       "    <tr>\n",
       "      <th>498</th>\n",
       "      <td>2018-05-28</td>\n",
       "      <td>39.345786</td>\n",
       "      <td>18.537948</td>\n",
       "      <td>62.070334</td>\n",
       "    </tr>\n",
       "    <tr>\n",
       "      <th>499</th>\n",
       "      <td>2018-05-29</td>\n",
       "      <td>38.595001</td>\n",
       "      <td>17.777907</td>\n",
       "      <td>60.257573</td>\n",
       "    </tr>\n",
       "    <tr>\n",
       "      <th>500</th>\n",
       "      <td>2018-05-30</td>\n",
       "      <td>37.772362</td>\n",
       "      <td>16.262097</td>\n",
       "      <td>60.376222</td>\n",
       "    </tr>\n",
       "    <tr>\n",
       "      <th>501</th>\n",
       "      <td>2018-05-31</td>\n",
       "      <td>36.896802</td>\n",
       "      <td>15.402323</td>\n",
       "      <td>58.739724</td>\n",
       "    </tr>\n",
       "    <tr>\n",
       "      <th>502</th>\n",
       "      <td>2018-06-01</td>\n",
       "      <td>35.988958</td>\n",
       "      <td>14.876681</td>\n",
       "      <td>56.711382</td>\n",
       "    </tr>\n",
       "  </tbody>\n",
       "</table>\n",
       "</div>"
      ],
      "text/plain": [
       "            ds       yhat  yhat_lower  yhat_upper\n",
       "498 2018-05-28  39.345786   18.537948   62.070334\n",
       "499 2018-05-29  38.595001   17.777907   60.257573\n",
       "500 2018-05-30  37.772362   16.262097   60.376222\n",
       "501 2018-05-31  36.896802   15.402323   58.739724\n",
       "502 2018-06-01  35.988958   14.876681   56.711382"
      ]
     },
     "execution_count": 216,
     "metadata": {},
     "output_type": "execute_result"
    }
   ],
   "source": [
    "future_oil = m_oil.make_future_dataframe(periods=365, freq='D')\n",
    "forecast_oil = m_oil.predict(future_oil)\n",
    "\n",
    "forecast_oil[['ds', 'yhat', 'yhat_lower', 'yhat_upper']].tail()\n"
   ]
  },
  {
   "cell_type": "code",
   "execution_count": 185,
   "metadata": {},
   "outputs": [
    {
     "data": {
      "text/html": [
       "<div>\n",
       "<style scoped>\n",
       "    .dataframe tbody tr th:only-of-type {\n",
       "        vertical-align: middle;\n",
       "    }\n",
       "\n",
       "    .dataframe tbody tr th {\n",
       "        vertical-align: top;\n",
       "    }\n",
       "\n",
       "    .dataframe thead th {\n",
       "        text-align: right;\n",
       "    }\n",
       "</style>\n",
       "<table border=\"1\" class=\"dataframe\">\n",
       "  <thead>\n",
       "    <tr style=\"text-align: right;\">\n",
       "      <th></th>\n",
       "      <th>ds</th>\n",
       "      <th>y</th>\n",
       "      <th>yhat</th>\n",
       "      <th>yhat_lower</th>\n",
       "      <th>yhat_upper</th>\n",
       "    </tr>\n",
       "  </thead>\n",
       "  <tbody>\n",
       "    <tr>\n",
       "      <th>0</th>\n",
       "      <td>2006-01-31</td>\n",
       "      <td>65.485000</td>\n",
       "      <td>64.906785</td>\n",
       "      <td>43.142230</td>\n",
       "      <td>87.238450</td>\n",
       "    </tr>\n",
       "    <tr>\n",
       "      <th>1</th>\n",
       "      <td>2006-02-28</td>\n",
       "      <td>61.631053</td>\n",
       "      <td>66.046909</td>\n",
       "      <td>43.974905</td>\n",
       "      <td>87.001252</td>\n",
       "    </tr>\n",
       "    <tr>\n",
       "      <th>2</th>\n",
       "      <td>2006-03-31</td>\n",
       "      <td>62.685217</td>\n",
       "      <td>69.815438</td>\n",
       "      <td>49.673899</td>\n",
       "      <td>91.894665</td>\n",
       "    </tr>\n",
       "    <tr>\n",
       "      <th>3</th>\n",
       "      <td>2006-04-30</td>\n",
       "      <td>69.443684</td>\n",
       "      <td>73.678359</td>\n",
       "      <td>52.232671</td>\n",
       "      <td>95.233220</td>\n",
       "    </tr>\n",
       "    <tr>\n",
       "      <th>4</th>\n",
       "      <td>2006-05-31</td>\n",
       "      <td>70.844091</td>\n",
       "      <td>74.698529</td>\n",
       "      <td>53.845124</td>\n",
       "      <td>95.334193</td>\n",
       "    </tr>\n",
       "  </tbody>\n",
       "</table>\n",
       "</div>"
      ],
      "text/plain": [
       "          ds          y       yhat  yhat_lower  yhat_upper\n",
       "0 2006-01-31  65.485000  64.906785   43.142230   87.238450\n",
       "1 2006-02-28  61.631053  66.046909   43.974905   87.001252\n",
       "2 2006-03-31  62.685217  69.815438   49.673899   91.894665\n",
       "3 2006-04-30  69.443684  73.678359   52.232671   95.233220\n",
       "4 2006-05-31  70.844091  74.698529   53.845124   95.334193"
      ]
     },
     "execution_count": 185,
     "metadata": {},
     "output_type": "execute_result"
    }
   ],
   "source": [
    "test_oil[['yhat', 'yhat_lower', 'yhat_upper']] = forecast_oil[['yhat', 'yhat_lower', 'yhat_upper']]\n",
    "test_oil.head()"
   ]
  },
  {
   "cell_type": "code",
   "execution_count": 197,
   "metadata": {},
   "outputs": [
    {
     "data": {
      "text/html": [
       "<div>\n",
       "<style scoped>\n",
       "    .dataframe tbody tr th:only-of-type {\n",
       "        vertical-align: middle;\n",
       "    }\n",
       "\n",
       "    .dataframe tbody tr th {\n",
       "        vertical-align: top;\n",
       "    }\n",
       "\n",
       "    .dataframe thead th {\n",
       "        text-align: right;\n",
       "    }\n",
       "</style>\n",
       "<table border=\"1\" class=\"dataframe\">\n",
       "  <thead>\n",
       "    <tr style=\"text-align: right;\">\n",
       "      <th></th>\n",
       "      <th>ds</th>\n",
       "      <th>y</th>\n",
       "      <th>yhat</th>\n",
       "      <th>yhat_lower</th>\n",
       "      <th>yhat_upper</th>\n",
       "      <th>baseline_rw</th>\n",
       "    </tr>\n",
       "  </thead>\n",
       "  <tbody>\n",
       "    <tr>\n",
       "      <th>0</th>\n",
       "      <td>2006-01-31</td>\n",
       "      <td>65.485000</td>\n",
       "      <td>64.906785</td>\n",
       "      <td>43.142230</td>\n",
       "      <td>87.238450</td>\n",
       "      <td>NaN</td>\n",
       "    </tr>\n",
       "    <tr>\n",
       "      <th>1</th>\n",
       "      <td>2006-02-28</td>\n",
       "      <td>61.631053</td>\n",
       "      <td>66.046909</td>\n",
       "      <td>43.974905</td>\n",
       "      <td>87.001252</td>\n",
       "      <td>65.485000</td>\n",
       "    </tr>\n",
       "    <tr>\n",
       "      <th>2</th>\n",
       "      <td>2006-03-31</td>\n",
       "      <td>62.685217</td>\n",
       "      <td>69.815438</td>\n",
       "      <td>49.673899</td>\n",
       "      <td>91.894665</td>\n",
       "      <td>61.631053</td>\n",
       "    </tr>\n",
       "    <tr>\n",
       "      <th>3</th>\n",
       "      <td>2006-04-30</td>\n",
       "      <td>69.443684</td>\n",
       "      <td>73.678359</td>\n",
       "      <td>52.232671</td>\n",
       "      <td>95.233220</td>\n",
       "      <td>62.685217</td>\n",
       "    </tr>\n",
       "    <tr>\n",
       "      <th>4</th>\n",
       "      <td>2006-05-31</td>\n",
       "      <td>70.844091</td>\n",
       "      <td>74.698529</td>\n",
       "      <td>53.845124</td>\n",
       "      <td>95.334193</td>\n",
       "      <td>69.443684</td>\n",
       "    </tr>\n",
       "  </tbody>\n",
       "</table>\n",
       "</div>"
      ],
      "text/plain": [
       "          ds          y       yhat  yhat_lower  yhat_upper  baseline_rw\n",
       "0 2006-01-31  65.485000  64.906785   43.142230   87.238450          NaN\n",
       "1 2006-02-28  61.631053  66.046909   43.974905   87.001252    65.485000\n",
       "2 2006-03-31  62.685217  69.815438   49.673899   91.894665    61.631053\n",
       "3 2006-04-30  69.443684  73.678359   52.232671   95.233220    62.685217\n",
       "4 2006-05-31  70.844091  74.698529   53.845124   95.334193    69.443684"
      ]
     },
     "execution_count": 197,
     "metadata": {},
     "output_type": "execute_result"
    }
   ],
   "source": [
    "all_data = pd.concat([train_oil, test_oil]).set_index('ds')['y']\n",
    "# Rolling walk Window Baseline\n",
    "test_oil['baseline_rw'] = test_oil['ds'].shift(1).map(all_data).values\n",
    "test_oil.head()"
   ]
  },
  {
   "cell_type": "markdown",
   "metadata": {},
   "source": [
    "## MAE"
   ]
  },
  {
   "cell_type": "code",
   "execution_count": 203,
   "metadata": {},
   "outputs": [
    {
     "name": "stdout",
     "output_type": "stream",
     "text": [
      "Prophet MAE : 18.561\n",
      "Baseline MAE: 4.817\n"
     ]
    }
   ],
   "source": [
    "from sklearn.metrics import mean_absolute_error\n",
    "\n",
    "# 1. Build a mask for rows where both yhat and baseline_rw are finite\n",
    "mask_prophet  = test_oil['yhat'].notna()\n",
    "mask_baseline = test_oil['baseline_rw'].notna()\n",
    "\n",
    "# 2. Compute Prophet MAE only on rows with forecasts\n",
    "prophet_mae = mean_absolute_error(\n",
    "    test_oil.loc[mask_prophet, 'y'],\n",
    "    test_oil.loc[mask_prophet, 'yhat']\n",
    ")\n",
    "\n",
    "# 3. Compute Baseline MAE only on rows with baseline\n",
    "baseline_mae = mean_absolute_error(\n",
    "    test_oil.loc[mask_baseline, 'y'],\n",
    "    test_oil.loc[mask_baseline, 'baseline_rw']\n",
    ")\n",
    "\n",
    "print(f\"Prophet MAE : {prophet_mae:.3f}\")\n",
    "print(f\"Baseline MAE: {baseline_mae:.3f}\")\n"
   ]
  },
  {
   "cell_type": "code",
   "execution_count": 204,
   "metadata": {},
   "outputs": [
    {
     "data": {
      "image/png": "[encoded data removed]",
      "text/plain": [
       "<Figure size 1200x500 with 1 Axes>"
      ]
     },
     "metadata": {},
     "output_type": "display_data"
    }
   ],
   "source": [
    "import matplotlib.pyplot as plt\n",
    "\n",
    "mask = test_oil['yhat'].notna() & test_oil['baseline_rw'].notna()\n",
    "\n",
    "plt.figure(figsize=(12,5))\n",
    "plt.plot(test_oil.loc[mask,'ds'], test_oil.loc[mask,'y'],    'k-',  label='Actual')\n",
    "plt.plot(test_oil.loc[mask,'ds'], test_oil.loc[mask,'yhat'], 'b--', label='Prophet')\n",
    "plt.plot(test_oil.loc[mask,'ds'], test_oil.loc[mask,'baseline_rw'], 'r:', label='Random‐walk')\n",
    "plt.legend(); plt.title('WTI Oil: Actual vs Forecast vs Baseline')\n",
    "plt.show()\n"
   ]
  },
  {
   "cell_type": "markdown",
   "metadata": {},
   "source": [
    "## MAPE"
   ]
  },
  {
   "cell_type": "code",
   "execution_count": 208,
   "metadata": {},
   "outputs": [
    {
     "name": "stdout",
     "output_type": "stream",
     "text": [
      "Prophet MAPE : 26.7%\n",
      "Baseline MAPE: 7.5%\n"
     ]
    }
   ],
   "source": [
    "from sklearn.metrics import mean_absolute_percentage_error\n",
    "\n",
    "# 1. Mask of rows where baseline is not NaN\n",
    "mask_baseline = test_oil['baseline_rw'].notna()\n",
    "\n",
    "# 2. Compute baseline MAPE only on those rows\n",
    "baseline_mape = mean_absolute_percentage_error(\n",
    "    test_oil.loc[mask_baseline, 'y'],\n",
    "    test_oil.loc[mask_baseline, 'baseline_rw']\n",
    ") * 100\n",
    "\n",
    "# 3. (Similarly) mask out any NaNs in your Prophet forecast\n",
    "mask_prophet = test_oil['yhat'].notna()\n",
    "prophet_mape = mean_absolute_percentage_error(\n",
    "    test_oil.loc[mask_prophet, 'y'],\n",
    "    test_oil.loc[mask_prophet, 'yhat']\n",
    ") * 100\n",
    "\n",
    "print(f\"Prophet MAPE : {prophet_mape:.1f}%\")\n",
    "print(f\"Baseline MAPE: {baseline_mape:.1f}%\")\n"
   ]
  },
  {
   "cell_type": "markdown",
   "metadata": {},
   "source": [
    "- Eggs Sale"
   ]
  },
  {
   "cell_type": "code",
   "execution_count": 230,
   "metadata": {},
   "outputs": [
    {
     "name": "stdout",
     "output_type": "stream",
     "text": [
      "Train range: 1993-01-31 00:00:00 to 2021-01-31 00:00:00\n",
      "Test  range: 2021-01-31 00:00:00 to 2022-01-31 00:00:00\n"
     ]
    },
    {
     "data": {
      "text/html": [
       "<div>\n",
       "<style scoped>\n",
       "    .dataframe tbody tr th:only-of-type {\n",
       "        vertical-align: middle;\n",
       "    }\n",
       "\n",
       "    .dataframe tbody tr th {\n",
       "        vertical-align: top;\n",
       "    }\n",
       "\n",
       "    .dataframe thead th {\n",
       "        text-align: right;\n",
       "    }\n",
       "</style>\n",
       "<table border=\"1\" class=\"dataframe\">\n",
       "  <thead>\n",
       "    <tr style=\"text-align: right;\">\n",
       "      <th></th>\n",
       "      <th>ds</th>\n",
       "      <th>y</th>\n",
       "    </tr>\n",
       "  </thead>\n",
       "  <tbody>\n",
       "    <tr>\n",
       "      <th>0</th>\n",
       "      <td>1993-01-31</td>\n",
       "      <td>91</td>\n",
       "    </tr>\n",
       "    <tr>\n",
       "      <th>1</th>\n",
       "      <td>1993-01-31</td>\n",
       "      <td>126</td>\n",
       "    </tr>\n",
       "    <tr>\n",
       "      <th>2</th>\n",
       "      <td>1993-01-31</td>\n",
       "      <td>105</td>\n",
       "    </tr>\n",
       "    <tr>\n",
       "      <th>3</th>\n",
       "      <td>1993-01-31</td>\n",
       "      <td>120</td>\n",
       "    </tr>\n",
       "    <tr>\n",
       "      <th>4</th>\n",
       "      <td>1993-01-31</td>\n",
       "      <td>70</td>\n",
       "    </tr>\n",
       "  </tbody>\n",
       "</table>\n",
       "</div>"
      ],
      "text/plain": [
       "          ds    y\n",
       "0 1993-01-31   91\n",
       "1 1993-01-31  126\n",
       "2 1993-01-31  105\n",
       "3 1993-01-31  120\n",
       "4 1993-01-31   70"
      ]
     },
     "execution_count": 230,
     "metadata": {},
     "output_type": "execute_result"
    }
   ],
   "source": [
    "\n",
    "# 1. Ensure your ds column is datetime and sort\n",
    "egg_sales_df['ds'] = pd.to_datetime(egg_sales_df['ds'])\n",
    "egg_sales_df = egg_sales_df.sort_values('ds').reset_index(drop=True)\n",
    "\n",
    "# 2. Split off the last 365 days for testing\n",
    "train_egg_sales = egg_sales_df.iloc[:-365].copy()\n",
    "test_egg_sales  = egg_sales_df.iloc[-365:].copy()\n",
    "\n",
    "# Inspect\n",
    "print(\"Train range:\", train_egg_sales['ds'].min(), \"to\", train_egg_sales['ds'].max())\n",
    "print(\"Test  range:\", test_egg_sales ['ds'].min(), \"to\", test_egg_sales ['ds'].max())\n",
    "train_egg_sales.head()\n"
   ]
  },
  {
   "cell_type": "code",
   "execution_count": 234,
   "metadata": {},
   "outputs": [
    {
     "name": "stderr",
     "output_type": "stream",
     "text": [
      "13:16:09 - cmdstanpy - INFO - Chain [1] start processing\n",
      "13:16:10 - cmdstanpy - INFO - Chain [1] done processing\n"
     ]
    },
    {
     "data": {
      "text/html": [
       "<div>\n",
       "<style scoped>\n",
       "    .dataframe tbody tr th:only-of-type {\n",
       "        vertical-align: middle;\n",
       "    }\n",
       "\n",
       "    .dataframe tbody tr th {\n",
       "        vertical-align: top;\n",
       "    }\n",
       "\n",
       "    .dataframe thead th {\n",
       "        text-align: right;\n",
       "    }\n",
       "</style>\n",
       "<table border=\"1\" class=\"dataframe\">\n",
       "  <thead>\n",
       "    <tr style=\"text-align: right;\">\n",
       "      <th></th>\n",
       "      <th>ds</th>\n",
       "      <th>yhat</th>\n",
       "      <th>yhat_lower</th>\n",
       "      <th>yhat_upper</th>\n",
       "    </tr>\n",
       "  </thead>\n",
       "  <tbody>\n",
       "    <tr>\n",
       "      <th>360</th>\n",
       "      <td>2021-12-31</td>\n",
       "      <td>646.714585</td>\n",
       "      <td>605.986486</td>\n",
       "      <td>686.594458</td>\n",
       "    </tr>\n",
       "    <tr>\n",
       "      <th>361</th>\n",
       "      <td>2021-12-31</td>\n",
       "      <td>646.714585</td>\n",
       "      <td>602.346061</td>\n",
       "      <td>690.819688</td>\n",
       "    </tr>\n",
       "    <tr>\n",
       "      <th>362</th>\n",
       "      <td>2021-12-31</td>\n",
       "      <td>646.714585</td>\n",
       "      <td>602.083684</td>\n",
       "      <td>686.990094</td>\n",
       "    </tr>\n",
       "    <tr>\n",
       "      <th>363</th>\n",
       "      <td>2021-12-31</td>\n",
       "      <td>646.714585</td>\n",
       "      <td>603.813743</td>\n",
       "      <td>690.918542</td>\n",
       "    </tr>\n",
       "    <tr>\n",
       "      <th>364</th>\n",
       "      <td>2022-01-31</td>\n",
       "      <td>617.716082</td>\n",
       "      <td>575.273606</td>\n",
       "      <td>659.880504</td>\n",
       "    </tr>\n",
       "  </tbody>\n",
       "</table>\n",
       "</div>"
      ],
      "text/plain": [
       "            ds        yhat  yhat_lower  yhat_upper\n",
       "360 2021-12-31  646.714585  605.986486  686.594458\n",
       "361 2021-12-31  646.714585  602.346061  690.819688\n",
       "362 2021-12-31  646.714585  602.083684  686.990094\n",
       "363 2021-12-31  646.714585  603.813743  690.918542\n",
       "364 2022-01-31  617.716082  575.273606  659.880504"
      ]
     },
     "execution_count": 234,
     "metadata": {},
     "output_type": "execute_result"
    }
   ],
   "source": [
    "\n",
    "# 3. Instantiate and fit Prophet\n",
    "m_egg_sales = Prophet(\n",
    "    daily_seasonality=False,    # assume monthly egg sales\n",
    "    weekly_seasonality=True,\n",
    "    yearly_seasonality=True\n",
    ")\n",
    "m_egg_sales.fit(train_egg_sales[['ds','y']].rename(columns={'y':'y'}))\n",
    "\n",
    "# 4. Use test ds as “future” DataFrame\n",
    "future = test_egg_sales[['ds']].copy()\n",
    "forecast = m_egg_sales.predict(future)\n",
    "\n",
    "# 5. Keep only the columns you need\n",
    "forecast_small = forecast[['ds','yhat','yhat_lower','yhat_upper']]\n",
    "forecast_small.tail()"
   ]
  },
  {
   "cell_type": "code",
   "execution_count": 235,
   "metadata": {},
   "outputs": [
    {
     "data": {
      "text/html": [
       "<div>\n",
       "<style scoped>\n",
       "    .dataframe tbody tr th:only-of-type {\n",
       "        vertical-align: middle;\n",
       "    }\n",
       "\n",
       "    .dataframe tbody tr th {\n",
       "        vertical-align: top;\n",
       "    }\n",
       "\n",
       "    .dataframe thead th {\n",
       "        text-align: right;\n",
       "    }\n",
       "</style>\n",
       "<table border=\"1\" class=\"dataframe\">\n",
       "  <thead>\n",
       "    <tr style=\"text-align: right;\">\n",
       "      <th></th>\n",
       "      <th>ds</th>\n",
       "      <th>y</th>\n",
       "      <th>yhat</th>\n",
       "      <th>yhat_lower</th>\n",
       "      <th>yhat_upper</th>\n",
       "      <th>baseline_last</th>\n",
       "      <th>baseline_rw</th>\n",
       "    </tr>\n",
       "  </thead>\n",
       "  <tbody>\n",
       "    <tr>\n",
       "      <th>0</th>\n",
       "      <td>2021-01-31</td>\n",
       "      <td>628</td>\n",
       "      <td>603.043192</td>\n",
       "      <td>559.151962</td>\n",
       "      <td>644.314336</td>\n",
       "      <td>613</td>\n",
       "      <td>NaN</td>\n",
       "    </tr>\n",
       "    <tr>\n",
       "      <th>1</th>\n",
       "      <td>2021-01-31</td>\n",
       "      <td>628</td>\n",
       "      <td>603.043192</td>\n",
       "      <td>558.168529</td>\n",
       "      <td>645.304751</td>\n",
       "      <td>613</td>\n",
       "      <td>603.0</td>\n",
       "    </tr>\n",
       "    <tr>\n",
       "      <th>2</th>\n",
       "      <td>2021-01-31</td>\n",
       "      <td>628</td>\n",
       "      <td>603.043192</td>\n",
       "      <td>559.440452</td>\n",
       "      <td>643.866443</td>\n",
       "      <td>613</td>\n",
       "      <td>603.0</td>\n",
       "    </tr>\n",
       "    <tr>\n",
       "      <th>3</th>\n",
       "      <td>2021-01-31</td>\n",
       "      <td>628</td>\n",
       "      <td>603.043192</td>\n",
       "      <td>559.402905</td>\n",
       "      <td>642.838133</td>\n",
       "      <td>613</td>\n",
       "      <td>603.0</td>\n",
       "    </tr>\n",
       "    <tr>\n",
       "      <th>4</th>\n",
       "      <td>2021-01-31</td>\n",
       "      <td>628</td>\n",
       "      <td>603.043192</td>\n",
       "      <td>561.656131</td>\n",
       "      <td>647.548095</td>\n",
       "      <td>613</td>\n",
       "      <td>603.0</td>\n",
       "    </tr>\n",
       "    <tr>\n",
       "      <th>5</th>\n",
       "      <td>2021-01-31</td>\n",
       "      <td>628</td>\n",
       "      <td>603.043192</td>\n",
       "      <td>562.679900</td>\n",
       "      <td>646.435166</td>\n",
       "      <td>613</td>\n",
       "      <td>603.0</td>\n",
       "    </tr>\n",
       "    <tr>\n",
       "      <th>6</th>\n",
       "      <td>2021-01-31</td>\n",
       "      <td>628</td>\n",
       "      <td>603.043192</td>\n",
       "      <td>563.457109</td>\n",
       "      <td>647.726050</td>\n",
       "      <td>613</td>\n",
       "      <td>603.0</td>\n",
       "    </tr>\n",
       "    <tr>\n",
       "      <th>7</th>\n",
       "      <td>2021-01-31</td>\n",
       "      <td>628</td>\n",
       "      <td>603.043192</td>\n",
       "      <td>561.308682</td>\n",
       "      <td>647.008536</td>\n",
       "      <td>613</td>\n",
       "      <td>603.0</td>\n",
       "    </tr>\n",
       "    <tr>\n",
       "      <th>8</th>\n",
       "      <td>2021-01-31</td>\n",
       "      <td>628</td>\n",
       "      <td>603.043192</td>\n",
       "      <td>559.148954</td>\n",
       "      <td>646.976444</td>\n",
       "      <td>613</td>\n",
       "      <td>603.0</td>\n",
       "    </tr>\n",
       "    <tr>\n",
       "      <th>9</th>\n",
       "      <td>2021-01-31</td>\n",
       "      <td>628</td>\n",
       "      <td>603.043192</td>\n",
       "      <td>563.218456</td>\n",
       "      <td>643.572989</td>\n",
       "      <td>613</td>\n",
       "      <td>603.0</td>\n",
       "    </tr>\n",
       "  </tbody>\n",
       "</table>\n",
       "</div>"
      ],
      "text/plain": [
       "          ds    y        yhat  yhat_lower  yhat_upper  baseline_last  \\\n",
       "0 2021-01-31  628  603.043192  559.151962  644.314336            613   \n",
       "1 2021-01-31  628  603.043192  558.168529  645.304751            613   \n",
       "2 2021-01-31  628  603.043192  559.440452  643.866443            613   \n",
       "3 2021-01-31  628  603.043192  559.402905  642.838133            613   \n",
       "4 2021-01-31  628  603.043192  561.656131  647.548095            613   \n",
       "5 2021-01-31  628  603.043192  562.679900  646.435166            613   \n",
       "6 2021-01-31  628  603.043192  563.457109  647.726050            613   \n",
       "7 2021-01-31  628  603.043192  561.308682  647.008536            613   \n",
       "8 2021-01-31  628  603.043192  559.148954  646.976444            613   \n",
       "9 2021-01-31  628  603.043192  563.218456  643.572989            613   \n",
       "\n",
       "   baseline_rw  \n",
       "0          NaN  \n",
       "1        603.0  \n",
       "2        603.0  \n",
       "3        603.0  \n",
       "4        603.0  \n",
       "5        603.0  \n",
       "6        603.0  \n",
       "7        603.0  \n",
       "8        603.0  \n",
       "9        603.0  "
      ]
     },
     "execution_count": 235,
     "metadata": {},
     "output_type": "execute_result"
    }
   ],
   "source": [
    "# 6. Merge forecast into test set (align on ds)\n",
    "test_egg_sales = test_egg_sales.merge(\n",
    "    forecast_small,\n",
    "    on='ds',\n",
    "    how='left'\n",
    ")\n",
    "\n",
    "# 7. Last‐value baseline: predict every test point as last train y\n",
    "last_val = train_egg_sales['y'].iloc[-1]\n",
    "test_egg_sales['baseline_last'] = last_val\n",
    "\n",
    "# 8. Random‐walk baseline: previous actual\n",
    "all_data = pd.concat([train_egg_sales, test_egg_sales]).drop_duplicates('ds', keep='last').set_index('ds')['y']\n",
    "test_egg_sales['baseline_rw'] = test_egg_sales['ds'].shift(1).map(all_data)\n",
    "\n",
    "test_egg_sales.head(10)\n",
    "\n"
   ]
  },
  {
   "cell_type": "code",
   "execution_count": 236,
   "metadata": {},
   "outputs": [
    {
     "name": "stdout",
     "output_type": "stream",
     "text": [
      "Prophet MAE: 22.41, MAPE: 3.6%\n",
      "Last‐Value MAE: 21.37, MAPE: 3.4%\n",
      "Random‐Walk MAE: 23.21, MAPE: 3.8%\n"
     ]
    }
   ],
   "source": [
    "from sklearn.metrics import mean_absolute_error, mean_absolute_percentage_error\n",
    "\n",
    "# Mask out any NaNs (first row of baseline_rw will be NaN)\n",
    "mask = test_egg_sales['yhat'].notna() & test_egg_sales['baseline_rw'].notna()\n",
    "\n",
    "prophet_mae   = mean_absolute_error(test_egg_sales.loc[mask,'y'], test_egg_sales.loc[mask,'yhat'])\n",
    "baseline_last_mae = mean_absolute_error(test_egg_sales.loc[mask,'y'], test_egg_sales.loc[mask,'baseline_last'])\n",
    "baseline_rw_mae   = mean_absolute_error(test_egg_sales.loc[mask,'y'], test_egg_sales.loc[mask,'baseline_rw'])\n",
    "\n",
    "prophet_mape   = mean_absolute_percentage_error(test_egg_sales.loc[mask,'y'], test_egg_sales.loc[mask,'yhat'])*100\n",
    "baseline_last_mape = mean_absolute_percentage_error(test_egg_sales.loc[mask,'y'], test_egg_sales.loc[mask,'baseline_last'])*100\n",
    "baseline_rw_mape   = mean_absolute_percentage_error(test_egg_sales.loc[mask,'y'], test_egg_sales.loc[mask,'baseline_rw'])*100\n",
    "\n",
    "print(f\"Prophet MAE: {prophet_mae:.2f}, MAPE: {prophet_mape:.1f}%\")\n",
    "print(f\"Last‐Value MAE: {baseline_last_mae:.2f}, MAPE: {baseline_last_mape:.1f}%\")\n",
    "print(f\"Random‐Walk MAE: {baseline_rw_mae:.2f}, MAPE: {baseline_rw_mape:.1f}%\")\n"
   ]
  },
  {
   "cell_type": "code",
   "execution_count": 242,
   "metadata": {},
   "outputs": [
    {
     "data": {
      "image/png": "[encoded data removed]",
      "text/plain": [
       "<Figure size 1000x400 with 1 Axes>"
      ]
     },
     "metadata": {},
     "output_type": "display_data"
    }
   ],
   "source": [
    "import matplotlib.pyplot as plt\n",
    "import matplotlib.dates as mdates\n",
    "\n",
    "# Restrict to test period\n",
    "df = test_egg_sales.copy()\n",
    "\n",
    "fig, ax = plt.subplots(figsize=(10,4))\n",
    "\n",
    "# Actuals\n",
    "ax.plot(df['ds'], df['y'],            marker='o', linestyle='-',  lw=1.5, label='Actual')\n",
    "\n",
    "# Prophet forecast\n",
    "ax.plot(df['ds'], df['yhat'],         marker='x', linestyle='--', lw=1.5, label='Prophet')\n",
    "\n",
    "# Last‐value baseline\n",
    "ax.plot(df['ds'], df['baseline_last'], marker='s', linestyle=':', lw=1.5, label='Last‐Value Baseline')\n",
    "\n",
    "# Formatting x‐axis\n",
    "ax.xaxis.set_major_locator(mdates.AutoDateLocator())\n",
    "ax.xaxis.set_major_formatter(mdates.ConciseDateFormatter(ax.xaxis.get_major_locator()))\n",
    "\n",
    "ax.set_xlabel('Date')\n",
    "ax.set_ylabel('Egg Sales')\n",
    "ax.set_title('Test Period: Actual vs. Prophet vs. Last‐Value Baseline')\n",
    "ax.legend(loc='upper left')\n",
    "plt.tight_layout()\n",
    "plt.show()\n"
   ]
  },
  {
   "cell_type": "markdown",
   "metadata": {},
   "source": [
    "## MAE"
   ]
  },
  {
   "cell_type": "markdown",
   "metadata": {},
   "source": [
    "## Forecasting & Testing - Merge 1 Table"
   ]
  },
  {
   "cell_type": "code",
   "execution_count": 124,
   "metadata": {},
   "outputs": [
    {
     "data": {
      "text/html": [
       "<div>\n",
       "<style scoped>\n",
       "    .dataframe tbody tr th:only-of-type {\n",
       "        vertical-align: middle;\n",
       "    }\n",
       "\n",
       "    .dataframe tbody tr th {\n",
       "        vertical-align: top;\n",
       "    }\n",
       "\n",
       "    .dataframe thead th {\n",
       "        text-align: right;\n",
       "    }\n",
       "</style>\n",
       "<table border=\"1\" class=\"dataframe\">\n",
       "  <thead>\n",
       "    <tr style=\"text-align: right;\">\n",
       "      <th></th>\n",
       "      <th>ds</th>\n",
       "      <th>yhat</th>\n",
       "      <th>yhat_lower</th>\n",
       "      <th>yhat_upper</th>\n",
       "    </tr>\n",
       "  </thead>\n",
       "  <tbody>\n",
       "    <tr>\n",
       "      <th>10227</th>\n",
       "      <td>2021-01-01</td>\n",
       "      <td>184473.132990</td>\n",
       "      <td>160121.782286</td>\n",
       "      <td>208469.934301</td>\n",
       "    </tr>\n",
       "    <tr>\n",
       "      <th>10228</th>\n",
       "      <td>2021-01-02</td>\n",
       "      <td>157630.336081</td>\n",
       "      <td>133791.814311</td>\n",
       "      <td>183184.923730</td>\n",
       "    </tr>\n",
       "    <tr>\n",
       "      <th>10229</th>\n",
       "      <td>2021-01-03</td>\n",
       "      <td>149148.558557</td>\n",
       "      <td>122911.869320</td>\n",
       "      <td>172222.686082</td>\n",
       "    </tr>\n",
       "    <tr>\n",
       "      <th>10230</th>\n",
       "      <td>2021-01-04</td>\n",
       "      <td>183824.281331</td>\n",
       "      <td>159037.234606</td>\n",
       "      <td>207869.665854</td>\n",
       "    </tr>\n",
       "    <tr>\n",
       "      <th>10231</th>\n",
       "      <td>2021-01-05</td>\n",
       "      <td>191011.175902</td>\n",
       "      <td>165095.056243</td>\n",
       "      <td>216095.147352</td>\n",
       "    </tr>\n",
       "  </tbody>\n",
       "</table>\n",
       "</div>"
      ],
      "text/plain": [
       "              ds           yhat     yhat_lower     yhat_upper\n",
       "10227 2021-01-01  184473.132990  160121.782286  208469.934301\n",
       "10228 2021-01-02  157630.336081  133791.814311  183184.923730\n",
       "10229 2021-01-03  149148.558557  122911.869320  172222.686082\n",
       "10230 2021-01-04  183824.281331  159037.234606  207869.665854\n",
       "10231 2021-01-05  191011.175902  165095.056243  216095.147352"
      ]
     },
     "execution_count": 124,
     "metadata": {},
     "output_type": "execute_result"
    }
   ],
   "source": [
    "forecast_australian[['ds', 'yhat', 'yhat_lower', 'yhat_upper']].iloc[-365:-360]\n"
   ]
  },
  {
   "cell_type": "code",
   "execution_count": 243,
   "metadata": {},
   "outputs": [
    {
     "data": {
      "text/html": [
       "<div>\n",
       "<style scoped>\n",
       "    .dataframe tbody tr th:only-of-type {\n",
       "        vertical-align: middle;\n",
       "    }\n",
       "\n",
       "    .dataframe tbody tr th {\n",
       "        vertical-align: top;\n",
       "    }\n",
       "\n",
       "    .dataframe thead th {\n",
       "        text-align: right;\n",
       "    }\n",
       "</style>\n",
       "<table border=\"1\" class=\"dataframe\">\n",
       "  <thead>\n",
       "    <tr style=\"text-align: right;\">\n",
       "      <th></th>\n",
       "      <th>ds</th>\n",
       "      <th>yhat</th>\n",
       "      <th>yhat_lower</th>\n",
       "      <th>yhat_upper</th>\n",
       "    </tr>\n",
       "  </thead>\n",
       "  <tbody>\n",
       "    <tr>\n",
       "      <th>23376</th>\n",
       "      <td>1979-01-01</td>\n",
       "      <td>27.964733</td>\n",
       "      <td>-14.165098</td>\n",
       "      <td>68.965855</td>\n",
       "    </tr>\n",
       "    <tr>\n",
       "      <th>23377</th>\n",
       "      <td>1979-01-02</td>\n",
       "      <td>27.672090</td>\n",
       "      <td>-15.348479</td>\n",
       "      <td>66.350225</td>\n",
       "    </tr>\n",
       "    <tr>\n",
       "      <th>23378</th>\n",
       "      <td>1979-01-03</td>\n",
       "      <td>27.464432</td>\n",
       "      <td>-13.520162</td>\n",
       "      <td>68.979809</td>\n",
       "    </tr>\n",
       "    <tr>\n",
       "      <th>23379</th>\n",
       "      <td>1979-01-04</td>\n",
       "      <td>27.402286</td>\n",
       "      <td>-13.483671</td>\n",
       "      <td>65.995227</td>\n",
       "    </tr>\n",
       "    <tr>\n",
       "      <th>23380</th>\n",
       "      <td>1979-01-05</td>\n",
       "      <td>27.545960</td>\n",
       "      <td>-11.617738</td>\n",
       "      <td>67.486660</td>\n",
       "    </tr>\n",
       "  </tbody>\n",
       "</table>\n",
       "</div>"
      ],
      "text/plain": [
       "              ds       yhat  yhat_lower  yhat_upper\n",
       "23376 1979-01-01  27.964733  -14.165098   68.965855\n",
       "23377 1979-01-02  27.672090  -15.348479   66.350225\n",
       "23378 1979-01-03  27.464432  -13.520162   68.979809\n",
       "23379 1979-01-04  27.402286  -13.483671   65.995227\n",
       "23380 1979-01-05  27.545960  -11.617738   67.486660"
      ]
     },
     "execution_count": 243,
     "metadata": {},
     "output_type": "execute_result"
    }
   ],
   "source": [
    "forecast_saugeen[['ds', 'yhat', 'yhat_lower', 'yhat_upper']].iloc[-365:-360]"
   ]
  },
  {
   "cell_type": "code",
   "execution_count": 160,
   "metadata": {},
   "outputs": [],
   "source": [
    "# WTI Oil "
   ]
  },
  {
   "cell_type": "code",
   "execution_count": 209,
   "metadata": {},
   "outputs": [
    {
     "data": {
      "text/html": [
       "<div>\n",
       "<style scoped>\n",
       "    .dataframe tbody tr th:only-of-type {\n",
       "        vertical-align: middle;\n",
       "    }\n",
       "\n",
       "    .dataframe tbody tr th {\n",
       "        vertical-align: top;\n",
       "    }\n",
       "\n",
       "    .dataframe thead th {\n",
       "        text-align: right;\n",
       "    }\n",
       "</style>\n",
       "<table border=\"1\" class=\"dataframe\">\n",
       "  <thead>\n",
       "    <tr style=\"text-align: right;\">\n",
       "      <th></th>\n",
       "      <th>ds</th>\n",
       "      <th>yhat</th>\n",
       "      <th>yhat_lower</th>\n",
       "      <th>yhat_upper</th>\n",
       "    </tr>\n",
       "  </thead>\n",
       "  <tbody>\n",
       "    <tr>\n",
       "      <th>10227</th>\n",
       "      <td>2021-01-01</td>\n",
       "      <td>611.663309</td>\n",
       "      <td>571.484127</td>\n",
       "      <td>653.543271</td>\n",
       "    </tr>\n",
       "    <tr>\n",
       "      <th>10228</th>\n",
       "      <td>2021-01-02</td>\n",
       "      <td>608.126697</td>\n",
       "      <td>567.709191</td>\n",
       "      <td>652.841785</td>\n",
       "    </tr>\n",
       "    <tr>\n",
       "      <th>10229</th>\n",
       "      <td>2021-01-03</td>\n",
       "      <td>605.359672</td>\n",
       "      <td>563.402371</td>\n",
       "      <td>650.459481</td>\n",
       "    </tr>\n",
       "    <tr>\n",
       "      <th>10230</th>\n",
       "      <td>2021-01-04</td>\n",
       "      <td>603.317733</td>\n",
       "      <td>560.841576</td>\n",
       "      <td>648.279147</td>\n",
       "    </tr>\n",
       "    <tr>\n",
       "      <th>10231</th>\n",
       "      <td>2021-01-05</td>\n",
       "      <td>600.516336</td>\n",
       "      <td>559.752626</td>\n",
       "      <td>641.994292</td>\n",
       "    </tr>\n",
       "  </tbody>\n",
       "</table>\n",
       "</div>"
      ],
      "text/plain": [
       "              ds        yhat  yhat_lower  yhat_upper\n",
       "10227 2021-01-01  611.663309  571.484127  653.543271\n",
       "10228 2021-01-02  608.126697  567.709191  652.841785\n",
       "10229 2021-01-03  605.359672  563.402371  650.459481\n",
       "10230 2021-01-04  603.317733  560.841576  648.279147\n",
       "10231 2021-01-05  600.516336  559.752626  641.994292"
      ]
     },
     "execution_count": 209,
     "metadata": {},
     "output_type": "execute_result"
    }
   ],
   "source": [
    "forecast_egg_sales[['ds', 'yhat', 'yhat_lower', 'yhat_upper']].iloc[-365:-360]"
   ]
  },
  {
   "cell_type": "code",
   "execution_count": 165,
   "metadata": {},
   "outputs": [
    {
     "data": {
      "text/html": [
       "<div>\n",
       "<style scoped>\n",
       "    .dataframe tbody tr th:only-of-type {\n",
       "        vertical-align: middle;\n",
       "    }\n",
       "\n",
       "    .dataframe tbody tr th {\n",
       "        vertical-align: top;\n",
       "    }\n",
       "\n",
       "    .dataframe thead th {\n",
       "        text-align: right;\n",
       "    }\n",
       "</style>\n",
       "<table border=\"1\" class=\"dataframe\">\n",
       "  <thead>\n",
       "    <tr style=\"text-align: right;\">\n",
       "      <th></th>\n",
       "      <th>ds</th>\n",
       "      <th>y</th>\n",
       "      <th>yhat</th>\n",
       "      <th>yhat_lower</th>\n",
       "      <th>yhat_upper</th>\n",
       "    </tr>\n",
       "  </thead>\n",
       "  <tbody>\n",
       "    <tr>\n",
       "      <th>4442</th>\n",
       "      <td>2014-03-01</td>\n",
       "      <td>193538.793410</td>\n",
       "      <td>203799.648497</td>\n",
       "      <td>184420.778617</td>\n",
       "      <td>220680.776589</td>\n",
       "    </tr>\n",
       "    <tr>\n",
       "      <th>4443</th>\n",
       "      <td>2014-03-02</td>\n",
       "      <td>183354.964932</td>\n",
       "      <td>193843.101368</td>\n",
       "      <td>174969.360524</td>\n",
       "      <td>212196.518349</td>\n",
       "    </tr>\n",
       "    <tr>\n",
       "      <th>4444</th>\n",
       "      <td>2014-03-03</td>\n",
       "      <td>228382.493082</td>\n",
       "      <td>226849.027481</td>\n",
       "      <td>209121.657339</td>\n",
       "      <td>243764.291693</td>\n",
       "    </tr>\n",
       "    <tr>\n",
       "      <th>4445</th>\n",
       "      <td>2014-03-04</td>\n",
       "      <td>255374.052196</td>\n",
       "      <td>232192.875886</td>\n",
       "      <td>214305.440545</td>\n",
       "      <td>251018.732023</td>\n",
       "    </tr>\n",
       "    <tr>\n",
       "      <th>4446</th>\n",
       "      <td>2014-03-05</td>\n",
       "      <td>233962.163338</td>\n",
       "      <td>232857.336335</td>\n",
       "      <td>216756.034708</td>\n",
       "      <td>250834.203276</td>\n",
       "    </tr>\n",
       "  </tbody>\n",
       "</table>\n",
       "</div>"
      ],
      "text/plain": [
       "             ds              y           yhat     yhat_lower     yhat_upper\n",
       "4442 2014-03-01  193538.793410  203799.648497  184420.778617  220680.776589\n",
       "4443 2014-03-02  183354.964932  193843.101368  174969.360524  212196.518349\n",
       "4444 2014-03-03  228382.493082  226849.027481  209121.657339  243764.291693\n",
       "4445 2014-03-04  255374.052196  232192.875886  214305.440545  251018.732023\n",
       "4446 2014-03-05  233962.163338  232857.336335  216756.034708  250834.203276"
      ]
     },
     "execution_count": 165,
     "metadata": {},
     "output_type": "execute_result"
    }
   ],
   "source": [
    "test_australian[['yhat', 'yhat_lower', 'yhat_upper']] = forecast_australian[['yhat', 'yhat_lower', 'yhat_upper']]\n",
    "test_australian.head()"
   ]
  },
  {
   "cell_type": "code",
   "execution_count": 244,
   "metadata": {},
   "outputs": [
    {
     "data": {
      "text/html": [
       "<div>\n",
       "<style scoped>\n",
       "    .dataframe tbody tr th:only-of-type {\n",
       "        vertical-align: middle;\n",
       "    }\n",
       "\n",
       "    .dataframe tbody tr th {\n",
       "        vertical-align: top;\n",
       "    }\n",
       "\n",
       "    .dataframe thead th {\n",
       "        text-align: right;\n",
       "    }\n",
       "</style>\n",
       "<table border=\"1\" class=\"dataframe\">\n",
       "  <thead>\n",
       "    <tr style=\"text-align: right;\">\n",
       "      <th></th>\n",
       "      <th>ds</th>\n",
       "      <th>y</th>\n",
       "      <th>yhat</th>\n",
       "      <th>yhat_lower</th>\n",
       "      <th>yhat_upper</th>\n",
       "    </tr>\n",
       "  </thead>\n",
       "  <tbody>\n",
       "    <tr>\n",
       "      <th>936</th>\n",
       "      <td>2023-12-10</td>\n",
       "      <td>NaN</td>\n",
       "      <td>10.999715</td>\n",
       "      <td>-30.300564</td>\n",
       "      <td>49.468890</td>\n",
       "    </tr>\n",
       "    <tr>\n",
       "      <th>937</th>\n",
       "      <td>2023-12-17</td>\n",
       "      <td>NaN</td>\n",
       "      <td>11.017554</td>\n",
       "      <td>-27.368567</td>\n",
       "      <td>54.392007</td>\n",
       "    </tr>\n",
       "    <tr>\n",
       "      <th>938</th>\n",
       "      <td>2023-12-24</td>\n",
       "      <td>NaN</td>\n",
       "      <td>11.205048</td>\n",
       "      <td>-27.303501</td>\n",
       "      <td>50.943723</td>\n",
       "    </tr>\n",
       "    <tr>\n",
       "      <th>939</th>\n",
       "      <td>2023-12-31</td>\n",
       "      <td>NaN</td>\n",
       "      <td>11.314771</td>\n",
       "      <td>-28.951276</td>\n",
       "      <td>49.495821</td>\n",
       "    </tr>\n",
       "    <tr>\n",
       "      <th>940</th>\n",
       "      <td>2024-01-07</td>\n",
       "      <td>74.152381</td>\n",
       "      <td>11.116573</td>\n",
       "      <td>-31.859796</td>\n",
       "      <td>51.657621</td>\n",
       "    </tr>\n",
       "  </tbody>\n",
       "</table>\n",
       "</div>"
      ],
      "text/plain": [
       "            ds          y       yhat  yhat_lower  yhat_upper\n",
       "936 2023-12-10        NaN  10.999715  -30.300564   49.468890\n",
       "937 2023-12-17        NaN  11.017554  -27.368567   54.392007\n",
       "938 2023-12-24        NaN  11.205048  -27.303501   50.943723\n",
       "939 2023-12-31        NaN  11.314771  -28.951276   49.495821\n",
       "940 2024-01-07  74.152381  11.116573  -31.859796   51.657621"
      ]
     },
     "execution_count": 244,
     "metadata": {},
     "output_type": "execute_result"
    }
   ],
   "source": [
    "test[['yhat', 'yhat_lower', 'yhat_upper']] = forecast_saugeen[['yhat', 'yhat_lower', 'yhat_upper']]\n",
    "test.head()"
   ]
  },
  {
   "cell_type": "code",
   "execution_count": 161,
   "metadata": {},
   "outputs": [],
   "source": [
    "# WTI Oil\n",
    "\n"
   ]
  },
  {
   "cell_type": "code",
   "execution_count": 210,
   "metadata": {},
   "outputs": [
    {
     "data": {
      "text/html": [
       "<div>\n",
       "<style scoped>\n",
       "    .dataframe tbody tr th:only-of-type {\n",
       "        vertical-align: middle;\n",
       "    }\n",
       "\n",
       "    .dataframe tbody tr th {\n",
       "        vertical-align: top;\n",
       "    }\n",
       "\n",
       "    .dataframe thead th {\n",
       "        text-align: right;\n",
       "    }\n",
       "</style>\n",
       "<table border=\"1\" class=\"dataframe\">\n",
       "  <thead>\n",
       "    <tr style=\"text-align: right;\">\n",
       "      <th></th>\n",
       "      <th>ds</th>\n",
       "      <th>y</th>\n",
       "      <th>yhat</th>\n",
       "      <th>yhat_lower</th>\n",
       "      <th>yhat_upper</th>\n",
       "    </tr>\n",
       "  </thead>\n",
       "  <tbody>\n",
       "    <tr>\n",
       "      <th>936</th>\n",
       "      <td>2023-12-10</td>\n",
       "      <td>NaN</td>\n",
       "      <td>144.526448</td>\n",
       "      <td>100.802600</td>\n",
       "      <td>184.383063</td>\n",
       "    </tr>\n",
       "    <tr>\n",
       "      <th>937</th>\n",
       "      <td>2023-12-17</td>\n",
       "      <td>NaN</td>\n",
       "      <td>145.165430</td>\n",
       "      <td>103.716692</td>\n",
       "      <td>188.928711</td>\n",
       "    </tr>\n",
       "    <tr>\n",
       "      <th>938</th>\n",
       "      <td>2023-12-24</td>\n",
       "      <td>NaN</td>\n",
       "      <td>144.688251</td>\n",
       "      <td>102.179310</td>\n",
       "      <td>186.487009</td>\n",
       "    </tr>\n",
       "    <tr>\n",
       "      <th>939</th>\n",
       "      <td>2023-12-31</td>\n",
       "      <td>NaN</td>\n",
       "      <td>144.092284</td>\n",
       "      <td>103.804460</td>\n",
       "      <td>188.131999</td>\n",
       "    </tr>\n",
       "    <tr>\n",
       "      <th>940</th>\n",
       "      <td>2024-01-07</td>\n",
       "      <td>74.152381</td>\n",
       "      <td>144.013292</td>\n",
       "      <td>102.237999</td>\n",
       "      <td>182.110903</td>\n",
       "    </tr>\n",
       "  </tbody>\n",
       "</table>\n",
       "</div>"
      ],
      "text/plain": [
       "            ds          y        yhat  yhat_lower  yhat_upper\n",
       "936 2023-12-10        NaN  144.526448  100.802600  184.383063\n",
       "937 2023-12-17        NaN  145.165430  103.716692  188.928711\n",
       "938 2023-12-24        NaN  144.688251  102.179310  186.487009\n",
       "939 2023-12-31        NaN  144.092284  103.804460  188.131999\n",
       "940 2024-01-07  74.152381  144.013292  102.237999  182.110903"
      ]
     },
     "execution_count": 210,
     "metadata": {},
     "output_type": "execute_result"
    }
   ],
   "source": [
    "test[['yhat', 'yhat_lower', 'yhat_upper']] = forecast_egg_sales[['yhat', 'yhat_lower', 'yhat_upper']]\n",
    "test.head()"
   ]
  },
  {
   "cell_type": "markdown",
   "metadata": {},
   "source": [
    "## Compare Baseline"
   ]
  },
  {
   "cell_type": "code",
   "execution_count": 166,
   "metadata": {},
   "outputs": [
    {
     "data": {
      "text/html": [
       "<div>\n",
       "<style scoped>\n",
       "    .dataframe tbody tr th:only-of-type {\n",
       "        vertical-align: middle;\n",
       "    }\n",
       "\n",
       "    .dataframe tbody tr th {\n",
       "        vertical-align: top;\n",
       "    }\n",
       "\n",
       "    .dataframe thead th {\n",
       "        text-align: right;\n",
       "    }\n",
       "</style>\n",
       "<table border=\"1\" class=\"dataframe\">\n",
       "  <thead>\n",
       "    <tr style=\"text-align: right;\">\n",
       "      <th></th>\n",
       "      <th>ds</th>\n",
       "      <th>y</th>\n",
       "      <th>yhat</th>\n",
       "      <th>yhat_lower</th>\n",
       "      <th>yhat_upper</th>\n",
       "      <th>baseline</th>\n",
       "    </tr>\n",
       "  </thead>\n",
       "  <tbody>\n",
       "    <tr>\n",
       "      <th>4442</th>\n",
       "      <td>2014-03-01</td>\n",
       "      <td>193538.793410</td>\n",
       "      <td>203799.648497</td>\n",
       "      <td>184420.778617</td>\n",
       "      <td>220680.776589</td>\n",
       "      <td>210941.311608</td>\n",
       "    </tr>\n",
       "    <tr>\n",
       "      <th>4443</th>\n",
       "      <td>2014-03-02</td>\n",
       "      <td>183354.964932</td>\n",
       "      <td>193843.101368</td>\n",
       "      <td>174969.360524</td>\n",
       "      <td>212196.518349</td>\n",
       "      <td>187663.597444</td>\n",
       "    </tr>\n",
       "    <tr>\n",
       "      <th>4444</th>\n",
       "      <td>2014-03-03</td>\n",
       "      <td>228382.493082</td>\n",
       "      <td>226849.027481</td>\n",
       "      <td>209121.657339</td>\n",
       "      <td>243764.291693</td>\n",
       "      <td>190943.204714</td>\n",
       "    </tr>\n",
       "    <tr>\n",
       "      <th>4445</th>\n",
       "      <td>2014-03-04</td>\n",
       "      <td>255374.052196</td>\n",
       "      <td>232192.875886</td>\n",
       "      <td>214305.440545</td>\n",
       "      <td>251018.732023</td>\n",
       "      <td>248566.990326</td>\n",
       "    </tr>\n",
       "    <tr>\n",
       "      <th>4446</th>\n",
       "      <td>2014-03-05</td>\n",
       "      <td>233962.163338</td>\n",
       "      <td>232857.336335</td>\n",
       "      <td>216756.034708</td>\n",
       "      <td>250834.203276</td>\n",
       "      <td>261893.289828</td>\n",
       "    </tr>\n",
       "  </tbody>\n",
       "</table>\n",
       "</div>"
      ],
      "text/plain": [
       "             ds              y           yhat     yhat_lower     yhat_upper  \\\n",
       "4442 2014-03-01  193538.793410  203799.648497  184420.778617  220680.776589   \n",
       "4443 2014-03-02  183354.964932  193843.101368  174969.360524  212196.518349   \n",
       "4444 2014-03-03  228382.493082  226849.027481  209121.657339  243764.291693   \n",
       "4445 2014-03-04  255374.052196  232192.875886  214305.440545  251018.732023   \n",
       "4446 2014-03-05  233962.163338  232857.336335  216756.034708  250834.203276   \n",
       "\n",
       "           baseline  \n",
       "4442  210941.311608  \n",
       "4443  187663.597444  \n",
       "4444  190943.204714  \n",
       "4445  248566.990326  \n",
       "4446  261893.289828  "
      ]
     },
     "execution_count": 166,
     "metadata": {},
     "output_type": "execute_result"
    }
   ],
   "source": [
    "# last year of the training set is repeated as the forecast for next year.\n",
    "test_australian['baseline'] = train_australian['y'][-365:].values\n",
    "test_australian.head()"
   ]
  },
  {
   "cell_type": "markdown",
   "metadata": {},
   "source": [
    "## Metrics"
   ]
  },
  {
   "cell_type": "code",
   "execution_count": 168,
   "metadata": {},
   "outputs": [
    {
     "name": "stdout",
     "output_type": "stream",
     "text": [
      "9838.789920511395\n",
      "21108.25704319452\n"
     ]
    }
   ],
   "source": [
    "from sklearn.metrics import mean_absolute_error\n",
    "\n",
    "prophet_mae = mean_absolute_error(test_australian['y'], test_australian['yhat'])\n",
    "baseline_mae = mean_absolute_error(test_australian['y'], test_australian['baseline'])\n",
    "\n",
    "print(prophet_mae)\n",
    "print(baseline_mae)"
   ]
  },
  {
   "cell_type": "code",
   "execution_count": 169,
   "metadata": {},
   "outputs": [
    {
     "data": {
      "image/png": "[encoded data removed]",
      "text/plain": [
       "<Figure size 1200x500 with 1 Axes>"
      ]
     },
     "metadata": {},
     "output_type": "display_data"
    }
   ],
   "source": [
    "plt.figure(figsize=(12, 5))\n",
    "plt.plot(test_australian['ds'], test_australian['y'],      'k-',  label='Actual')\n",
    "plt.plot(test_australian['ds'], test_australian['yhat'],   'b--', label='Prophet Forecast')\n",
    "plt.plot(test_australian['ds'], test_australian['baseline'],'r:', label='Baseline (last year)')\n",
    "\n",
    "plt.title('Actual vs. Prophet vs. Baseline (Daily Aggregated Demand)')\n",
    "plt.xlabel('Date')\n",
    "plt.ylabel('Daily Electricity Demand')\n",
    "plt.legend()\n",
    "plt.grid(True)\n",
    "plt.tight_layout()\n",
    "plt.show()"
   ]
  },
  {
   "cell_type": "code",
   "execution_count": 170,
   "metadata": {},
   "outputs": [
    {
     "name": "stdout",
     "output_type": "stream",
     "text": [
      "Prophet MAPE : 4.49%\n",
      "Baseline MAPE: 9.72%\n"
     ]
    }
   ],
   "source": [
    "from sklearn.metrics import mean_absolute_percentage_error\n",
    "\n",
    "# Compute MAPE (as a percentage)\n",
    "prophet_mape  = mean_absolute_percentage_error(test_australian['y'], test_australian['yhat'])  * 100\n",
    "baseline_mape = mean_absolute_percentage_error(test_australian['y'], test_australian['baseline']) * 100\n",
    "\n",
    "print(f'Prophet MAPE : {prophet_mape:.2f}%')\n",
    "print(f'Baseline MAPE: {baseline_mape:.2f}%')"
   ]
  },
  {
   "cell_type": "code",
   "execution_count": 171,
   "metadata": {},
   "outputs": [
    {
     "data": {
      "application/vnd.plotly.v1+json": {
       "config": {
        "plotlyServerURL": "https://plot.ly"
       },
       "data": [
        {
         "hovertemplate": "Series=y<br>ds=%{x}<br>Daily Demand=%{y}<extra></extra>",
         "legendgroup": "y",
         "line": {
          "color": "#636efa",
          "dash": "solid"
         },
         "marker": {
          "symbol": "circle"
         },
         "mode": "lines",
         "name": "y",
         "showlegend": true,
         "type": "scattergl",
         "x": [
          "2014-03-01T00:00:00",
          "2014-03-02T00:00:00",
          "2014-03-03T00:00:00",
          "2014-03-04T00:00:00",
          "2014-03-05T00:00:00",
          "2014-03-06T00:00:00",
          "2014-03-07T00:00:00",
          "2014-03-08T00:00:00",
          "2014-03-09T00:00:00",
          "2014-03-10T00:00:00",
          "2014-03-11T00:00:00",
          "2014-03-12T00:00:00",
          "2014-03-13T00:00:00",
          "2014-03-14T00:00:00",
          "2014-03-15T00:00:00",
          "2014-03-16T00:00:00",
          "2014-03-17T00:00:00",
          "2014-03-18T00:00:00",
          "2014-03-19T00:00:00",
          "2014-03-20T00:00:00",
          "2014-03-21T00:00:00",
          "2014-03-22T00:00:00",
          "2014-03-23T00:00:00",
          "2014-03-24T00:00:00",
          "2014-03-25T00:00:00",
          "2014-03-26T00:00:00",
          "2014-03-27T00:00:00",
          "2014-03-28T00:00:00",
          "2014-03-29T00:00:00",
          "2014-03-30T00:00:00",
          "2014-03-31T00:00:00",
          "2014-04-01T00:00:00",
          "2014-04-02T00:00:00",
          "2014-04-03T00:00:00",
          "2014-04-04T00:00:00",
          "2014-04-05T00:00:00",
          "2014-04-06T00:00:00",
          "2014-04-07T00:00:00",
          "2014-04-08T00:00:00",
          "2014-04-09T00:00:00",
          "2014-04-10T00:00:00",
          "2014-04-11T00:00:00",
          "2014-04-12T00:00:00",
          "2014-04-13T00:00:00",
          "2014-04-14T00:00:00",
          "2014-04-15T00:00:00",
          "2014-04-16T00:00:00",
          "2014-04-17T00:00:00",
          "2014-04-18T00:00:00",
          "2014-04-19T00:00:00",
          "2014-04-20T00:00:00",
          "2014-04-21T00:00:00",
          "2014-04-22T00:00:00",
          "2014-04-23T00:00:00",
          "2014-04-24T00:00:00",
          "2014-04-25T00:00:00",
          "2014-04-26T00:00:00",
          "2014-04-27T00:00:00",
          "2014-04-28T00:00:00",
          "2014-04-29T00:00:00",
          "2014-04-30T00:00:00",
          "2014-05-01T00:00:00",
          "2014-05-02T00:00:00",
          "2014-05-03T00:00:00",
          "2014-05-04T00:00:00",
          "2014-05-05T00:00:00",
          "2014-05-06T00:00:00",
          "2014-05-07T00:00:00",
          "2014-05-08T00:00:00",
          "2014-05-09T00:00:00",
          "2014-05-10T00:00:00",
          "2014-05-11T00:00:00",
          "2014-05-12T00:00:00",
          "2014-05-13T00:00:00",
          "2014-05-14T00:00:00",
          "2014-05-15T00:00:00",
          "2014-05-16T00:00:00",
          "2014-05-17T00:00:00",
          "2014-05-18T00:00:00",
          "2014-05-19T00:00:00",
          "2014-05-20T00:00:00",
          "2014-05-21T00:00:00",
          "2014-05-22T00:00:00",
          "2014-05-23T00:00:00",
          "2014-05-24T00:00:00",
          "2014-05-25T00:00:00",
          "2014-05-26T00:00:00",
          "2014-05-27T00:00:00",
          "2014-05-28T00:00:00",
          "2014-05-29T00:00:00",
          "2014-05-30T00:00:00",
          "2014-05-31T00:00:00",
          "2014-06-01T00:00:00",
          "2014-06-02T00:00:00",
          "2014-06-03T00:00:00",
          "2014-06-04T00:00:00",
          "2014-06-05T00:00:00",
          "2014-06-06T00:00:00",
          "2014-06-07T00:00:00",
          "2014-06-08T00:00:00",
          "2014-06-09T00:00:00",
          "2014-06-10T00:00:00",
          "2014-06-11T00:00:00",
          "2014-06-12T00:00:00",
          "2014-06-13T00:00:00",
          "2014-06-14T00:00:00",
          "2014-06-15T00:00:00",
          "2014-06-16T00:00:00",
          "2014-06-17T00:00:00",
          "2014-06-18T00:00:00",
          "2014-06-19T00:00:00",
          "2014-06-20T00:00:00",
          "2014-06-21T00:00:00",
          "2014-06-22T00:00:00",
          "2014-06-23T00:00:00",
          "2014-06-24T00:00:00",
          "2014-06-25T00:00:00",
          "2014-06-26T00:00:00",
          "2014-06-27T00:00:00",
          "2014-06-28T00:00:00",
          "2014-06-29T00:00:00",
          "2014-06-30T00:00:00",
          "2014-07-01T00:00:00",
          "2014-07-02T00:00:00",
          "2014-07-03T00:00:00",
          "2014-07-04T00:00:00",
          "2014-07-05T00:00:00",
          "2014-07-06T00:00:00",
          "2014-07-07T00:00:00",
          "2014-07-08T00:00:00",
          "2014-07-09T00:00:00",
          "2014-07-10T00:00:00",
          "2014-07-11T00:00:00",
          "2014-07-12T00:00:00",
          "2014-07-13T00:00:00",
          "2014-07-14T00:00:00",
          "2014-07-15T00:00:00",
          "2014-07-16T00:00:00",
          "2014-07-17T00:00:00",
          "2014-07-18T00:00:00",
          "2014-07-19T00:00:00",
          "2014-07-20T00:00:00",
          "2014-07-21T00:00:00",
          "2014-07-22T00:00:00",
          "2014-07-23T00:00:00",
          "2014-07-24T00:00:00",
          "2014-07-25T00:00:00",
          "2014-07-26T00:00:00",
          "2014-07-27T00:00:00",
          "2014-07-28T00:00:00",
          "2014-07-29T00:00:00",
          "2014-07-30T00:00:00",
          "2014-07-31T00:00:00",
          "2014-08-01T00:00:00",
          "2014-08-02T00:00:00",
          "2014-08-03T00:00:00",
          "2014-08-04T00:00:00",
          "2014-08-05T00:00:00",
          "2014-08-06T00:00:00",
          "2014-08-07T00:00:00",
          "2014-08-08T00:00:00",
          "2014-08-09T00:00:00",
          "2014-08-10T00:00:00",
          "2014-08-11T00:00:00",
          "2014-08-12T00:00:00",
          "2014-08-13T00:00:00",
          "2014-08-14T00:00:00",
          "2014-08-15T00:00:00",
          "2014-08-16T00:00:00",
          "2014-08-17T00:00:00",
          "2014-08-18T00:00:00",
          "2014-08-19T00:00:00",
          "2014-08-20T00:00:00",
          "2014-08-21T00:00:00",
          "2014-08-22T00:00:00",
          "2014-08-23T00:00:00",
          "2014-08-24T00:00:00",
          "2014-08-25T00:00:00",
          "2014-08-26T00:00:00",
          "2014-08-27T00:00:00",
          "2014-08-28T00:00:00",
          "2014-08-29T00:00:00",
          "2014-08-30T00:00:00",
          "2014-08-31T00:00:00",
          "2014-09-01T00:00:00",
          "2014-09-02T00:00:00",
          "2014-09-03T00:00:00",
          "2014-09-04T00:00:00",
          "2014-09-05T00:00:00",
          "2014-09-06T00:00:00",
          "2014-09-07T00:00:00",
          "2014-09-08T00:00:00",
          "2014-09-09T00:00:00",
          "2014-09-10T00:00:00",
          "2014-09-11T00:00:00",
          "2014-09-12T00:00:00",
          "2014-09-13T00:00:00",
          "2014-09-14T00:00:00",
          "2014-09-15T00:00:00",
          "2014-09-16T00:00:00",
          "2014-09-17T00:00:00",
          "2014-09-18T00:00:00",
          "2014-09-19T00:00:00",
          "2014-09-20T00:00:00",
          "2014-09-21T00:00:00",
          "2014-09-22T00:00:00",
          "2014-09-23T00:00:00",
          "2014-09-24T00:00:00",
          "2014-09-25T00:00:00",
          "2014-09-26T00:00:00",
          "2014-09-27T00:00:00",
          "2014-09-28T00:00:00",
          "2014-09-29T00:00:00",
          "2014-09-30T00:00:00",
          "2014-10-01T00:00:00",
          "2014-10-02T00:00:00",
          "2014-10-03T00:00:00",
          "2014-10-04T00:00:00",
          "2014-10-05T00:00:00",
          "2014-10-06T00:00:00",
          "2014-10-07T00:00:00",
          "2014-10-08T00:00:00",
          "2014-10-09T00:00:00",
          "2014-10-10T00:00:00",
          "2014-10-11T00:00:00",
          "2014-10-12T00:00:00",
          "2014-10-13T00:00:00",
          "2014-10-14T00:00:00",
          "2014-10-15T00:00:00",
          "2014-10-16T00:00:00",
          "2014-10-17T00:00:00",
          "2014-10-18T00:00:00",
          "2014-10-19T00:00:00",
          "2014-10-20T00:00:00",
          "2014-10-21T00:00:00",
          "2014-10-22T00:00:00",
          "2014-10-23T00:00:00",
          "2014-10-24T00:00:00",
          "2014-10-25T00:00:00",
          "2014-10-26T00:00:00",
          "2014-10-27T00:00:00",
          "2014-10-28T00:00:00",
          "2014-10-29T00:00:00",
          "2014-10-30T00:00:00",
          "2014-10-31T00:00:00",
          "2014-11-01T00:00:00",
          "2014-11-02T00:00:00",
          "2014-11-03T00:00:00",
          "2014-11-04T00:00:00",
          "2014-11-05T00:00:00",
          "2014-11-06T00:00:00",
          "2014-11-07T00:00:00",
          "2014-11-08T00:00:00",
          "2014-11-09T00:00:00",
          "2014-11-10T00:00:00",
          "2014-11-11T00:00:00",
          "2014-11-12T00:00:00",
          "2014-11-13T00:00:00",
          "2014-11-14T00:00:00",
          "2014-11-15T00:00:00",
          "2014-11-16T00:00:00",
          "2014-11-17T00:00:00",
          "2014-11-18T00:00:00",
          "2014-11-19T00:00:00",
          "2014-11-20T00:00:00",
          "2014-11-21T00:00:00",
          "2014-11-22T00:00:00",
          "2014-11-23T00:00:00",
          "2014-11-24T00:00:00",
          "2014-11-25T00:00:00",
          "2014-11-26T00:00:00",
          "2014-11-27T00:00:00",
          "2014-11-28T00:00:00",
          "2014-11-29T00:00:00",
          "2014-11-30T00:00:00",
          "2014-12-01T00:00:00",
          "2014-12-02T00:00:00",
          "2014-12-03T00:00:00",
          "2014-12-04T00:00:00",
          "2014-12-05T00:00:00",
          "2014-12-06T00:00:00",
          "2014-12-07T00:00:00",
          "2014-12-08T00:00:00",
          "2014-12-09T00:00:00",
          "2014-12-10T00:00:00",
          "2014-12-11T00:00:00",
          "2014-12-12T00:00:00",
          "2014-12-13T00:00:00",
          "2014-12-14T00:00:00",
          "2014-12-15T00:00:00",
          "2014-12-16T00:00:00",
          "2014-12-17T00:00:00",
          "2014-12-18T00:00:00",
          "2014-12-19T00:00:00",
          "2014-12-20T00:00:00",
          "2014-12-21T00:00:00",
          "2014-12-22T00:00:00",
          "2014-12-23T00:00:00",
          "2014-12-24T00:00:00",
          "2014-12-25T00:00:00",
          "2014-12-26T00:00:00",
          "2014-12-27T00:00:00",
          "2014-12-28T00:00:00",
          "2014-12-29T00:00:00",
          "2014-12-30T00:00:00",
          "2014-12-31T00:00:00",
          "2015-01-01T00:00:00",
          "2015-01-02T00:00:00",
          "2015-01-03T00:00:00",
          "2015-01-04T00:00:00",
          "2015-01-05T00:00:00",
          "2015-01-06T00:00:00",
          "2015-01-07T00:00:00",
          "2015-01-08T00:00:00",
          "2015-01-09T00:00:00",
          "2015-01-10T00:00:00",
          "2015-01-11T00:00:00",
          "2015-01-12T00:00:00",
          "2015-01-13T00:00:00",
          "2015-01-14T00:00:00",
          "2015-01-15T00:00:00",
          "2015-01-16T00:00:00",
          "2015-01-17T00:00:00",
          "2015-01-18T00:00:00",
          "2015-01-19T00:00:00",
          "2015-01-20T00:00:00",
          "2015-01-21T00:00:00",
          "2015-01-22T00:00:00",
          "2015-01-23T00:00:00",
          "2015-01-24T00:00:00",
          "2015-01-25T00:00:00",
          "2015-01-26T00:00:00",
          "2015-01-27T00:00:00",
          "2015-01-28T00:00:00",
          "2015-01-29T00:00:00",
          "2015-01-30T00:00:00",
          "2015-01-31T00:00:00",
          "2015-02-01T00:00:00",
          "2015-02-02T00:00:00",
          "2015-02-03T00:00:00",
          "2015-02-04T00:00:00",
          "2015-02-05T00:00:00",
          "2015-02-06T00:00:00",
          "2015-02-07T00:00:00",
          "2015-02-08T00:00:00",
          "2015-02-09T00:00:00",
          "2015-02-10T00:00:00",
          "2015-02-11T00:00:00",
          "2015-02-12T00:00:00",
          "2015-02-13T00:00:00",
          "2015-02-14T00:00:00",
          "2015-02-15T00:00:00",
          "2015-02-16T00:00:00",
          "2015-02-17T00:00:00",
          "2015-02-18T00:00:00",
          "2015-02-19T00:00:00",
          "2015-02-20T00:00:00",
          "2015-02-21T00:00:00",
          "2015-02-22T00:00:00",
          "2015-02-23T00:00:00",
          "2015-02-24T00:00:00",
          "2015-02-25T00:00:00",
          "2015-02-26T00:00:00",
          "2015-02-27T00:00:00",
          "2015-02-28T00:00:00"
         ],
         "xaxis": "x",
         "y": {
          "bdata": "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",
          "dtype": "f8"
         },
         "yaxis": "y"
        },
        {
         "hovertemplate": "Series=yhat<br>ds=%{x}<br>Daily Demand=%{y}<extra></extra>",
         "legendgroup": "yhat",
         "line": {
          "color": "#EF553B",
          "dash": "solid"
         },
         "marker": {
          "symbol": "circle"
         },
         "mode": "lines",
         "name": "yhat",
         "showlegend": true,
         "type": "scattergl",
         "x": [
          "2014-03-01T00:00:00",
          "2014-03-02T00:00:00",
          "2014-03-03T00:00:00",
          "2014-03-04T00:00:00",
          "2014-03-05T00:00:00",
          "2014-03-06T00:00:00",
          "2014-03-07T00:00:00",
          "2014-03-08T00:00:00",
          "2014-03-09T00:00:00",
          "2014-03-10T00:00:00",
          "2014-03-11T00:00:00",
          "2014-03-12T00:00:00",
          "2014-03-13T00:00:00",
          "2014-03-14T00:00:00",
          "2014-03-15T00:00:00",
          "2014-03-16T00:00:00",
          "2014-03-17T00:00:00",
          "2014-03-18T00:00:00",
          "2014-03-19T00:00:00",
          "2014-03-20T00:00:00",
          "2014-03-21T00:00:00",
          "2014-03-22T00:00:00",
          "2014-03-23T00:00:00",
          "2014-03-24T00:00:00",
          "2014-03-25T00:00:00",
          "2014-03-26T00:00:00",
          "2014-03-27T00:00:00",
          "2014-03-28T00:00:00",
          "2014-03-29T00:00:00",
          "2014-03-30T00:00:00",
          "2014-03-31T00:00:00",
          "2014-04-01T00:00:00",
          "2014-04-02T00:00:00",
          "2014-04-03T00:00:00",
          "2014-04-04T00:00:00",
          "2014-04-05T00:00:00",
          "2014-04-06T00:00:00",
          "2014-04-07T00:00:00",
          "2014-04-08T00:00:00",
          "2014-04-09T00:00:00",
          "2014-04-10T00:00:00",
          "2014-04-11T00:00:00",
          "2014-04-12T00:00:00",
          "2014-04-13T00:00:00",
          "2014-04-14T00:00:00",
          "2014-04-15T00:00:00",
          "2014-04-16T00:00:00",
          "2014-04-17T00:00:00",
          "2014-04-18T00:00:00",
          "2014-04-19T00:00:00",
          "2014-04-20T00:00:00",
          "2014-04-21T00:00:00",
          "2014-04-22T00:00:00",
          "2014-04-23T00:00:00",
          "2014-04-24T00:00:00",
          "2014-04-25T00:00:00",
          "2014-04-26T00:00:00",
          "2014-04-27T00:00:00",
          "2014-04-28T00:00:00",
          "2014-04-29T00:00:00",
          "2014-04-30T00:00:00",
          "2014-05-01T00:00:00",
          "2014-05-02T00:00:00",
          "2014-05-03T00:00:00",
          "2014-05-04T00:00:00",
          "2014-05-05T00:00:00",
          "2014-05-06T00:00:00",
          "2014-05-07T00:00:00",
          "2014-05-08T00:00:00",
          "2014-05-09T00:00:00",
          "2014-05-10T00:00:00",
          "2014-05-11T00:00:00",
          "2014-05-12T00:00:00",
          "2014-05-13T00:00:00",
          "2014-05-14T00:00:00",
          "2014-05-15T00:00:00",
          "2014-05-16T00:00:00",
          "2014-05-17T00:00:00",
          "2014-05-18T00:00:00",
          "2014-05-19T00:00:00",
          "2014-05-20T00:00:00",
          "2014-05-21T00:00:00",
          "2014-05-22T00:00:00",
          "2014-05-23T00:00:00",
          "2014-05-24T00:00:00",
          "2014-05-25T00:00:00",
          "2014-05-26T00:00:00",
          "2014-05-27T00:00:00",
          "2014-05-28T00:00:00",
          "2014-05-29T00:00:00",
          "2014-05-30T00:00:00",
          "2014-05-31T00:00:00",
          "2014-06-01T00:00:00",
          "2014-06-02T00:00:00",
          "2014-06-03T00:00:00",
          "2014-06-04T00:00:00",
          "2014-06-05T00:00:00",
          "2014-06-06T00:00:00",
          "2014-06-07T00:00:00",
          "2014-06-08T00:00:00",
          "2014-06-09T00:00:00",
          "2014-06-10T00:00:00",
          "2014-06-11T00:00:00",
          "2014-06-12T00:00:00",
          "2014-06-13T00:00:00",
          "2014-06-14T00:00:00",
          "2014-06-15T00:00:00",
          "2014-06-16T00:00:00",
          "2014-06-17T00:00:00",
          "2014-06-18T00:00:00",
          "2014-06-19T00:00:00",
          "2014-06-20T00:00:00",
          "2014-06-21T00:00:00",
          "2014-06-22T00:00:00",
          "2014-06-23T00:00:00",
          "2014-06-24T00:00:00",
          "2014-06-25T00:00:00",
          "2014-06-26T00:00:00",
          "2014-06-27T00:00:00",
          "2014-06-28T00:00:00",
          "2014-06-29T00:00:00",
          "2014-06-30T00:00:00",
          "2014-07-01T00:00:00",
          "2014-07-02T00:00:00",
          "2014-07-03T00:00:00",
          "2014-07-04T00:00:00",
          "2014-07-05T00:00:00",
          "2014-07-06T00:00:00",
          "2014-07-07T00:00:00",
          "2014-07-08T00:00:00",
          "2014-07-09T00:00:00",
          "2014-07-10T00:00:00",
          "2014-07-11T00:00:00",
          "2014-07-12T00:00:00",
          "2014-07-13T00:00:00",
          "2014-07-14T00:00:00",
          "2014-07-15T00:00:00",
          "2014-07-16T00:00:00",
          "2014-07-17T00:00:00",
          "2014-07-18T00:00:00",
          "2014-07-19T00:00:00",
          "2014-07-20T00:00:00",
          "2014-07-21T00:00:00",
          "2014-07-22T00:00:00",
          "2014-07-23T00:00:00",
          "2014-07-24T00:00:00",
          "2014-07-25T00:00:00",
          "2014-07-26T00:00:00",
          "2014-07-27T00:00:00",
          "2014-07-28T00:00:00",
          "2014-07-29T00:00:00",
          "2014-07-30T00:00:00",
          "2014-07-31T00:00:00",
          "2014-08-01T00:00:00",
          "2014-08-02T00:00:00",
          "2014-08-03T00:00:00",
          "2014-08-04T00:00:00",
          "2014-08-05T00:00:00",
          "2014-08-06T00:00:00",
          "2014-08-07T00:00:00",
          "2014-08-08T00:00:00",
          "2014-08-09T00:00:00",
          "2014-08-10T00:00:00",
          "2014-08-11T00:00:00",
          "2014-08-12T00:00:00",
          "2014-08-13T00:00:00",
          "2014-08-14T00:00:00",
          "2014-08-15T00:00:00",
          "2014-08-16T00:00:00",
          "2014-08-17T00:00:00",
          "2014-08-18T00:00:00",
          "2014-08-19T00:00:00",
          "2014-08-20T00:00:00",
          "2014-08-21T00:00:00",
          "2014-08-22T00:00:00",
          "2014-08-23T00:00:00",
          "2014-08-24T00:00:00",
          "2014-08-25T00:00:00",
          "2014-08-26T00:00:00",
          "2014-08-27T00:00:00",
          "2014-08-28T00:00:00",
          "2014-08-29T00:00:00",
          "2014-08-30T00:00:00",
          "2014-08-31T00:00:00",
          "2014-09-01T00:00:00",
          "2014-09-02T00:00:00",
          "2014-09-03T00:00:00",
          "2014-09-04T00:00:00",
          "2014-09-05T00:00:00",
          "2014-09-06T00:00:00",
          "2014-09-07T00:00:00",
          "2014-09-08T00:00:00",
          "2014-09-09T00:00:00",
          "2014-09-10T00:00:00",
          "2014-09-11T00:00:00",
          "2014-09-12T00:00:00",
          "2014-09-13T00:00:00",
          "2014-09-14T00:00:00",
          "2014-09-15T00:00:00",
          "2014-09-16T00:00:00",
          "2014-09-17T00:00:00",
          "2014-09-18T00:00:00",
          "2014-09-19T00:00:00",
          "2014-09-20T00:00:00",
          "2014-09-21T00:00:00",
          "2014-09-22T00:00:00",
          "2014-09-23T00:00:00",
          "2014-09-24T00:00:00",
          "2014-09-25T00:00:00",
          "2014-09-26T00:00:00",
          "2014-09-27T00:00:00",
          "2014-09-28T00:00:00",
          "2014-09-29T00:00:00",
          "2014-09-30T00:00:00",
          "2014-10-01T00:00:00",
          "2014-10-02T00:00:00",
          "2014-10-03T00:00:00",
          "2014-10-04T00:00:00",
          "2014-10-05T00:00:00",
          "2014-10-06T00:00:00",
          "2014-10-07T00:00:00",
          "2014-10-08T00:00:00",
          "2014-10-09T00:00:00",
          "2014-10-10T00:00:00",
          "2014-10-11T00:00:00",
          "2014-10-12T00:00:00",
          "2014-10-13T00:00:00",
          "2014-10-14T00:00:00",
          "2014-10-15T00:00:00",
          "2014-10-16T00:00:00",
          "2014-10-17T00:00:00",
          "2014-10-18T00:00:00",
          "2014-10-19T00:00:00",
          "2014-10-20T00:00:00",
          "2014-10-21T00:00:00",
          "2014-10-22T00:00:00",
          "2014-10-23T00:00:00",
          "2014-10-24T00:00:00",
          "2014-10-25T00:00:00",
          "2014-10-26T00:00:00",
          "2014-10-27T00:00:00",
          "2014-10-28T00:00:00",
          "2014-10-29T00:00:00",
          "2014-10-30T00:00:00",
          "2014-10-31T00:00:00",
          "2014-11-01T00:00:00",
          "2014-11-02T00:00:00",
          "2014-11-03T00:00:00",
          "2014-11-04T00:00:00",
          "2014-11-05T00:00:00",
          "2014-11-06T00:00:00",
          "2014-11-07T00:00:00",
          "2014-11-08T00:00:00",
          "2014-11-09T00:00:00",
          "2014-11-10T00:00:00",
          "2014-11-11T00:00:00",
          "2014-11-12T00:00:00",
          "2014-11-13T00:00:00",
          "2014-11-14T00:00:00",
          "2014-11-15T00:00:00",
          "2014-11-16T00:00:00",
          "2014-11-17T00:00:00",
          "2014-11-18T00:00:00",
          "2014-11-19T00:00:00",
          "2014-11-20T00:00:00",
          "2014-11-21T00:00:00",
          "2014-11-22T00:00:00",
          "2014-11-23T00:00:00",
          "2014-11-24T00:00:00",
          "2014-11-25T00:00:00",
          "2014-11-26T00:00:00",
          "2014-11-27T00:00:00",
          "2014-11-28T00:00:00",
          "2014-11-29T00:00:00",
          "2014-11-30T00:00:00",
          "2014-12-01T00:00:00",
          "2014-12-02T00:00:00",
          "2014-12-03T00:00:00",
          "2014-12-04T00:00:00",
          "2014-12-05T00:00:00",
          "2014-12-06T00:00:00",
          "2014-12-07T00:00:00",
          "2014-12-08T00:00:00",
          "2014-12-09T00:00:00",
          "2014-12-10T00:00:00",
          "2014-12-11T00:00:00",
          "2014-12-12T00:00:00",
          "2014-12-13T00:00:00",
          "2014-12-14T00:00:00",
          "2014-12-15T00:00:00",
          "2014-12-16T00:00:00",
          "2014-12-17T00:00:00",
          "2014-12-18T00:00:00",
          "2014-12-19T00:00:00",
          "2014-12-20T00:00:00",
          "2014-12-21T00:00:00",
          "2014-12-22T00:00:00",
          "2014-12-23T00:00:00",
          "2014-12-24T00:00:00",
          "2014-12-25T00:00:00",
          "2014-12-26T00:00:00",
          "2014-12-27T00:00:00",
          "2014-12-28T00:00:00",
          "2014-12-29T00:00:00",
          "2014-12-30T00:00:00",
          "2014-12-31T00:00:00",
          "2015-01-01T00:00:00",
          "2015-01-02T00:00:00",
          "2015-01-03T00:00:00",
          "2015-01-04T00:00:00",
          "2015-01-05T00:00:00",
          "2015-01-06T00:00:00",
          "2015-01-07T00:00:00",
          "2015-01-08T00:00:00",
          "2015-01-09T00:00:00",
          "2015-01-10T00:00:00",
          "2015-01-11T00:00:00",
          "2015-01-12T00:00:00",
          "2015-01-13T00:00:00",
          "2015-01-14T00:00:00",
          "2015-01-15T00:00:00",
          "2015-01-16T00:00:00",
          "2015-01-17T00:00:00",
          "2015-01-18T00:00:00",
          "2015-01-19T00:00:00",
          "2015-01-20T00:00:00",
          "2015-01-21T00:00:00",
          "2015-01-22T00:00:00",
          "2015-01-23T00:00:00",
          "2015-01-24T00:00:00",
          "2015-01-25T00:00:00",
          "2015-01-26T00:00:00",
          "2015-01-27T00:00:00",
          "2015-01-28T00:00:00",
          "2015-01-29T00:00:00",
          "2015-01-30T00:00:00",
          "2015-01-31T00:00:00",
          "2015-02-01T00:00:00",
          "2015-02-02T00:00:00",
          "2015-02-03T00:00:00",
          "2015-02-04T00:00:00",
          "2015-02-05T00:00:00",
          "2015-02-06T00:00:00",
          "2015-02-07T00:00:00",
          "2015-02-08T00:00:00",
          "2015-02-09T00:00:00",
          "2015-02-10T00:00:00",
          "2015-02-11T00:00:00",
          "2015-02-12T00:00:00",
          "2015-02-13T00:00:00",
          "2015-02-14T00:00:00",
          "2015-02-15T00:00:00",
          "2015-02-16T00:00:00",
          "2015-02-17T00:00:00",
          "2015-02-18T00:00:00",
          "2015-02-19T00:00:00",
          "2015-02-20T00:00:00",
          "2015-02-21T00:00:00",
          "2015-02-22T00:00:00",
          "2015-02-23T00:00:00",
          "2015-02-24T00:00:00",
          "2015-02-25T00:00:00",
          "2015-02-26T00:00:00",
          "2015-02-27T00:00:00",
          "2015-02-28T00:00:00"
         ],
         "xaxis": "x",
         "y": {
          "bdata": "uUcfML3gCEF27JnPmKkHQffGRzgIsQtBXVPQAQdYDEGFe9CwymwMQYYUWwN5dQxBdqjwy5XkC0Foo8Y8bHEIQR4WvMRrNgdB8CV+Vxo7C0FoLFCbeOALQdLIgqO39AtBplG0pO/9C0EhEjiEjm4LQbmhcR3C/QdBmk9hVdbFBkEajPzKKM4KQVFMb5KOdwtBiqT1lAuQC0F2WWz0ip0LQc21zkVPEgtBCM6Ib16lB0HuPKU24XAGQZL/Tj0YfApBrg4X1sInC0FUVcE810ELQTiA1Iw7UAtBicp4RDbFCkGCRz4e2lcHQTYb7ExlIgZBkRlS3jUsCkF1NlytL9YKQdQFIntz7gpB4TMTkBb7CkHSz1i+kW4KQTyB45srAAdB0S4dDFbKBUGA/53roNQJQc4Ms1MegApBYbXAGhibCkHoGEj/xasKQa6nR2K7JApBRcCrcVC9BkHz/lPj/o8FQU3XqRlUpAlBtDgRLFVbCkGO53N6NIMKQe13kTkIogpBSelc2jgqCkFAaW8o69IGQbhtTTletgVBn63O/N7bCUFj/aLeLaQKQXDekRQ23QpBaW6B+sUMC0GH+lRR/6QKQV3MOi/DXAdBXQ/krRFOBkHGvUca/38KQXHgKAobUwtBIEqG6CiVC0Ff/BtR2csLQYvR9wg7aQtB0X2zXSckCEG4RfT0oRYHQdLsNc/NRwtB3Vm941MYDEEmtK7qGlYMQUJ5VbP/hgxBGSFp3EQdDEHw503B/c8IQcFyvLBsuQdB/M6oO/bgC0HHyscOhqcMQeKNgfhE2wxBSLAihk8CDUETkmoaJI8MQfCQ/1sMOQlBMBSeGnoaCEECn9mC+ToMQVXBIxqV+wxBoxJcKosqDUEzYS4LBE4NQUMBtyyA2AxB/ys0wUGBCUFfnMMhqmIIQfR6OMEshAxB0GoiILRGDUGY7hhhWHgNQSP6CeIWnw1B/rF2s0EtDUFH1SHA6tkJQVdHkLVCvwhBu93DdI3kDEEWMv5yiKoNQUYE/p4i3w1BgtPRJTUIDkGd6crn85cNQeonNGlZRQpBDOr/SYYqCUGTqHsItk4NQf5raXWlEg5BcFtwbkpEDkFiKWg8jGkOQUgnPWqz9A1BvEvu5dScCkHSvCh+MHwJQXyhGYkkmg1BjqBOJJNXDkFrsbOsmIIOQcvhntZCoQ5BrFkTRf8lDkG2gtF7BcgKQXdrKEi0oQlB5gehdYS6DUGAK6tFbXMOQZ/DQE+amg5BJdG/MiK2DkFbiL8DdTgOQaYCS0XG2ApBQ8l/k2qxCUHciPTMyskNQUA3ti7Jgg5BYhD2AXiqDkEqK4JA0cYOQSa1lAkmSg5BAc9euonrCkGbZMa7MMUJQbB7AM5k3g1BR9U3O+uXDkFKjiaHvL8OQeBPP/i82w5BPjlvzCxeDkGEEJPmE/4KQaBoNwGh1QlBkEIALB7sDUGZSEb7VqIOQeF86/9Pxg5BFjbU5f7dDkHWT4oOulsOQWoDLnqj9gpBIxG5EQfJCUFIyI0fTtoNQalLb2Zkiw5BZUYfdm6qDkHxyqmlgL0OQT+Tk5INNw5Bq/R+AFDOCkF2zzM1qJ0JQTQmF6aOrA1BtjIubvhbDkHYXJUxDXoOQexfotrdjA5BAUduEtMGDkHIRCtRF58KQRvtPaH0bwlBh8pz58eADUHi4xUjZjIOQaLh10TTUg5BehyWAfpnDkFoeTZ6G+QNQROzw4s6fgpBfHjU2HpQCUH0c2hUFWINQei6y7a+Ew5BIzavcV8zDkEVlzd/zEYOQV4cGd03wA1BGbvLf5xWCkG+t0vJHSQJQSVyjkf8Lw1B3RT6IPzaDUHjF5/DHPMNQSofYTRR/g1Bmtpi0u9uDUEHrrpfHfwJQRuJdGErwAhBgwwBo4vCDEGUP4JMNWQNQZzduipbcw1BPK9rkCJ2DUE9glSwEd8MQfQ5sUt5ZQlBRhOl0dEjCEF7fWvFrSEMQSCiceMdwAxBEH6Iq2bNDEFB0t+9ts8MQcK7MO6UOQxBNPFI60nCCEEeqNaXPYQHQYPVxejphgtBUZzmvT8rDEF7ks5VXT8MQQdMwMNFSQxBCCumQlC7C0EiDMM5k0wIQdvvfgVDFwdB6h2OTaYiC0HSedNRfM8LQRmTrsO06wtB5Iyuhyj9C0GG+aYwCnYLQd0Hzv9RDQhB23uqdB3dBkGmEAowpOwKQYAuJY+enAtB/thTkv26C0Er4gJro80LQUcHo4PTRgtBFOzy0J3dB0HxGwR9PawGQSYwg7YMugpB27U3EupnC0EVJCcc74MLQcc+/n4nlAtBDHQDoP8KC0G/pLSKrp8HQXISDkiTbAZBSW0cdyd5CkFkxAufYyYLQZuoKeF0QgtBsUYMeXNTC0EKsPDu0MsKQdSHUtvBYgdBsHCEWZsyBkHfW4z+xUIKQdsi6ski9ApBn7gVssEUC0FgvT40mSoLQTEz6cL1pwpBYlVi6ORDB0HhqIgvlBgGQVwS8ZtFLQpBVcBFGrbiCkE9aLt91QYLQcQhcWV/HwtBcftI2eueCkGyTi5oGzwHQZ/updA2EQZBHhXM9IMlCkGy2Lh8zNkKQdAgfLgV/ApBCYE8G1kSC0HACzYg9I4KQXwbOGcTKQdBkFKUFxH7BUGq1wBTaAwKQSe02CUavgpBMu4pkmPeCkEyJtQcdPMKQULcQLzbbwpBEu/KBfQKB0FwJ3O4PN8FQbYg0H1N9AlBFvBVXTmrCkG27uyMQ9IKQVXwBRKV7wpBooOkHKp1CkFZMA8BuxsHQaxpxPMY/AVBbE7SYiAeCkGigu9nneIKQa6HkPqBFwtBa6d7Tp1CC0HjnNU+C9YKQUemPJ6fiAdB6mMigUV0BkEQMR5N9J8KQS4NpPYWbAtByrpWAUWmC0EOV+Gb/NMLQfwbs6MUZwtB2EMXVioWCEFOqMmxAvsGQZHZQ0OBHAtB/m+8thDbC0F//Rq4XAQMQb0NsXAMHgxBTRohaTSaC0HI/ViSwy8IQaMOrXnj+AZBs/vCZu38CkHOwDPG0JwLQQgNY3TKpgtBNwGqRhyhC0FM2EWqe/4KQRrJSC97dgdB6tnIGOcjBkGhgnjHtg4KQYKtxnhvmApBtaJbBdiPCkEyeewTrXsKQSj9m60MzwlBwNtDHt1BBkEENctLJ+8EQeyk72gG3whBBvW9iQlzCUGTAD7N5nkJQVDzSZYveglB97ztwbzmCEECbevCFncFQUsp88bRRQRBup+rv39aCEHicg/IFBYJQcOsz4idRglB6PMxAvdxCUEGMBeUPgoJQVybdBQ+xgVB+opyAMy/BEFwroiJwf0IQdDYj95i4AlBE8DGOxk1CkHPOwMSLoEKQW6NhAk+NgpB00ACn6cKB0Fue3dY7RcGQS3xpketZApBwJOUMgpRC0EUbQLpZaoLQeddHhcc9gtBdT+iXfSlC0FkxIx1j3AIQaq8/WfHbwdBxYVxnqSqC0Ev0aE0xIEMQbrieSYPwwxBDIB4v3H0DEGGrysqSogMQdr7+PzRNQlBIvrR43oXCEFHd5BB4DQMQbkdmUcq7wxBxRrVMcIUDUHizssdBywNQcw9Vmq6pwxBCJLuiGc/CUFIvslovw0IQQQHlFuJGgxBgN8H9AXHDEEZi4SKo+EMQUglHdmz8AxBsvcTlNlmDEEc31TccfsIQQMMHabxyAdBrtKI49jWC0GHUXXhF4YMQf1R8W/GpAxBHeUwNNy4DEFdMWn1oDQMQciBFq8YzwhBxJvQcGOiB0FXeNvKsrULQUdISSexaQxB5eKfnDqMDEH+JUqOFqMMQcrRZuVoIAxBzh6fqB67CEEc41j6TY0HQdFioz4rngtBygzGzW9ODEGi+iLIEWwMQboI3mn8fAxB6sIStX/zC0FOaCdHu4YIQQ==",
          "dtype": "f8"
         },
         "yaxis": "y"
        },
        {
         "hovertemplate": "Series=baseline<br>ds=%{x}<br>Daily Demand=%{y}<extra></extra>",
         "legendgroup": "baseline",
         "line": {
          "color": "#00cc96",
          "dash": "solid"
         },
         "marker": {
          "symbol": "circle"
         },
         "mode": "lines",
         "name": "baseline",
         "showlegend": true,
         "type": "scattergl",
         "x": [
          "2014-03-01T00:00:00",
          "2014-03-02T00:00:00",
          "2014-03-03T00:00:00",
          "2014-03-04T00:00:00",
          "2014-03-05T00:00:00",
          "2014-03-06T00:00:00",
          "2014-03-07T00:00:00",
          "2014-03-08T00:00:00",
          "2014-03-09T00:00:00",
          "2014-03-10T00:00:00",
          "2014-03-11T00:00:00",
          "2014-03-12T00:00:00",
          "2014-03-13T00:00:00",
          "2014-03-14T00:00:00",
          "2014-03-15T00:00:00",
          "2014-03-16T00:00:00",
          "2014-03-17T00:00:00",
          "2014-03-18T00:00:00",
          "2014-03-19T00:00:00",
          "2014-03-20T00:00:00",
          "2014-03-21T00:00:00",
          "2014-03-22T00:00:00",
          "2014-03-23T00:00:00",
          "2014-03-24T00:00:00",
          "2014-03-25T00:00:00",
          "2014-03-26T00:00:00",
          "2014-03-27T00:00:00",
          "2014-03-28T00:00:00",
          "2014-03-29T00:00:00",
          "2014-03-30T00:00:00",
          "2014-03-31T00:00:00",
          "2014-04-01T00:00:00",
          "2014-04-02T00:00:00",
          "2014-04-03T00:00:00",
          "2014-04-04T00:00:00",
          "2014-04-05T00:00:00",
          "2014-04-06T00:00:00",
          "2014-04-07T00:00:00",
          "2014-04-08T00:00:00",
          "2014-04-09T00:00:00",
          "2014-04-10T00:00:00",
          "2014-04-11T00:00:00",
          "2014-04-12T00:00:00",
          "2014-04-13T00:00:00",
          "2014-04-14T00:00:00",
          "2014-04-15T00:00:00",
          "2014-04-16T00:00:00",
          "2014-04-17T00:00:00",
          "2014-04-18T00:00:00",
          "2014-04-19T00:00:00",
          "2014-04-20T00:00:00",
          "2014-04-21T00:00:00",
          "2014-04-22T00:00:00",
          "2014-04-23T00:00:00",
          "2014-04-24T00:00:00",
          "2014-04-25T00:00:00",
          "2014-04-26T00:00:00",
          "2014-04-27T00:00:00",
          "2014-04-28T00:00:00",
          "2014-04-29T00:00:00",
          "2014-04-30T00:00:00",
          "2014-05-01T00:00:00",
          "2014-05-02T00:00:00",
          "2014-05-03T00:00:00",
          "2014-05-04T00:00:00",
          "2014-05-05T00:00:00",
          "2014-05-06T00:00:00",
          "2014-05-07T00:00:00",
          "2014-05-08T00:00:00",
          "2014-05-09T00:00:00",
          "2014-05-10T00:00:00",
          "2014-05-11T00:00:00",
          "2014-05-12T00:00:00",
          "2014-05-13T00:00:00",
          "2014-05-14T00:00:00",
          "2014-05-15T00:00:00",
          "2014-05-16T00:00:00",
          "2014-05-17T00:00:00",
          "2014-05-18T00:00:00",
          "2014-05-19T00:00:00",
          "2014-05-20T00:00:00",
          "2014-05-21T00:00:00",
          "2014-05-22T00:00:00",
          "2014-05-23T00:00:00",
          "2014-05-24T00:00:00",
          "2014-05-25T00:00:00",
          "2014-05-26T00:00:00",
          "2014-05-27T00:00:00",
          "2014-05-28T00:00:00",
          "2014-05-29T00:00:00",
          "2014-05-30T00:00:00",
          "2014-05-31T00:00:00",
          "2014-06-01T00:00:00",
          "2014-06-02T00:00:00",
          "2014-06-03T00:00:00",
          "2014-06-04T00:00:00",
          "2014-06-05T00:00:00",
          "2014-06-06T00:00:00",
          "2014-06-07T00:00:00",
          "2014-06-08T00:00:00",
          "2014-06-09T00:00:00",
          "2014-06-10T00:00:00",
          "2014-06-11T00:00:00",
          "2014-06-12T00:00:00",
          "2014-06-13T00:00:00",
          "2014-06-14T00:00:00",
          "2014-06-15T00:00:00",
          "2014-06-16T00:00:00",
          "2014-06-17T00:00:00",
          "2014-06-18T00:00:00",
          "2014-06-19T00:00:00",
          "2014-06-20T00:00:00",
          "2014-06-21T00:00:00",
          "2014-06-22T00:00:00",
          "2014-06-23T00:00:00",
          "2014-06-24T00:00:00",
          "2014-06-25T00:00:00",
          "2014-06-26T00:00:00",
          "2014-06-27T00:00:00",
          "2014-06-28T00:00:00",
          "2014-06-29T00:00:00",
          "2014-06-30T00:00:00",
          "2014-07-01T00:00:00",
          "2014-07-02T00:00:00",
          "2014-07-03T00:00:00",
          "2014-07-04T00:00:00",
          "2014-07-05T00:00:00",
          "2014-07-06T00:00:00",
          "2014-07-07T00:00:00",
          "2014-07-08T00:00:00",
          "2014-07-09T00:00:00",
          "2014-07-10T00:00:00",
          "2014-07-11T00:00:00",
          "2014-07-12T00:00:00",
          "2014-07-13T00:00:00",
          "2014-07-14T00:00:00",
          "2014-07-15T00:00:00",
          "2014-07-16T00:00:00",
          "2014-07-17T00:00:00",
          "2014-07-18T00:00:00",
          "2014-07-19T00:00:00",
          "2014-07-20T00:00:00",
          "2014-07-21T00:00:00",
          "2014-07-22T00:00:00",
          "2014-07-23T00:00:00",
          "2014-07-24T00:00:00",
          "2014-07-25T00:00:00",
          "2014-07-26T00:00:00",
          "2014-07-27T00:00:00",
          "2014-07-28T00:00:00",
          "2014-07-29T00:00:00",
          "2014-07-30T00:00:00",
          "2014-07-31T00:00:00",
          "2014-08-01T00:00:00",
          "2014-08-02T00:00:00",
          "2014-08-03T00:00:00",
          "2014-08-04T00:00:00",
          "2014-08-05T00:00:00",
          "2014-08-06T00:00:00",
          "2014-08-07T00:00:00",
          "2014-08-08T00:00:00",
          "2014-08-09T00:00:00",
          "2014-08-10T00:00:00",
          "2014-08-11T00:00:00",
          "2014-08-12T00:00:00",
          "2014-08-13T00:00:00",
          "2014-08-14T00:00:00",
          "2014-08-15T00:00:00",
          "2014-08-16T00:00:00",
          "2014-08-17T00:00:00",
          "2014-08-18T00:00:00",
          "2014-08-19T00:00:00",
          "2014-08-20T00:00:00",
          "2014-08-21T00:00:00",
          "2014-08-22T00:00:00",
          "2014-08-23T00:00:00",
          "2014-08-24T00:00:00",
          "2014-08-25T00:00:00",
          "2014-08-26T00:00:00",
          "2014-08-27T00:00:00",
          "2014-08-28T00:00:00",
          "2014-08-29T00:00:00",
          "2014-08-30T00:00:00",
          "2014-08-31T00:00:00",
          "2014-09-01T00:00:00",
          "2014-09-02T00:00:00",
          "2014-09-03T00:00:00",
          "2014-09-04T00:00:00",
          "2014-09-05T00:00:00",
          "2014-09-06T00:00:00",
          "2014-09-07T00:00:00",
          "2014-09-08T00:00:00",
          "2014-09-09T00:00:00",
          "2014-09-10T00:00:00",
          "2014-09-11T00:00:00",
          "2014-09-12T00:00:00",
          "2014-09-13T00:00:00",
          "2014-09-14T00:00:00",
          "2014-09-15T00:00:00",
          "2014-09-16T00:00:00",
          "2014-09-17T00:00:00",
          "2014-09-18T00:00:00",
          "2014-09-19T00:00:00",
          "2014-09-20T00:00:00",
          "2014-09-21T00:00:00",
          "2014-09-22T00:00:00",
          "2014-09-23T00:00:00",
          "2014-09-24T00:00:00",
          "2014-09-25T00:00:00",
          "2014-09-26T00:00:00",
          "2014-09-27T00:00:00",
          "2014-09-28T00:00:00",
          "2014-09-29T00:00:00",
          "2014-09-30T00:00:00",
          "2014-10-01T00:00:00",
          "2014-10-02T00:00:00",
          "2014-10-03T00:00:00",
          "2014-10-04T00:00:00",
          "2014-10-05T00:00:00",
          "2014-10-06T00:00:00",
          "2014-10-07T00:00:00",
          "2014-10-08T00:00:00",
          "2014-10-09T00:00:00",
          "2014-10-10T00:00:00",
          "2014-10-11T00:00:00",
          "2014-10-12T00:00:00",
          "2014-10-13T00:00:00",
          "2014-10-14T00:00:00",
          "2014-10-15T00:00:00",
          "2014-10-16T00:00:00",
          "2014-10-17T00:00:00",
          "2014-10-18T00:00:00",
          "2014-10-19T00:00:00",
          "2014-10-20T00:00:00",
          "2014-10-21T00:00:00",
          "2014-10-22T00:00:00",
          "2014-10-23T00:00:00",
          "2014-10-24T00:00:00",
          "2014-10-25T00:00:00",
          "2014-10-26T00:00:00",
          "2014-10-27T00:00:00",
          "2014-10-28T00:00:00",
          "2014-10-29T00:00:00",
          "2014-10-30T00:00:00",
          "2014-10-31T00:00:00",
          "2014-11-01T00:00:00",
          "2014-11-02T00:00:00",
          "2014-11-03T00:00:00",
          "2014-11-04T00:00:00",
          "2014-11-05T00:00:00",
          "2014-11-06T00:00:00",
          "2014-11-07T00:00:00",
          "2014-11-08T00:00:00",
          "2014-11-09T00:00:00",
          "2014-11-10T00:00:00",
          "2014-11-11T00:00:00",
          "2014-11-12T00:00:00",
          "2014-11-13T00:00:00",
          "2014-11-14T00:00:00",
          "2014-11-15T00:00:00",
          "2014-11-16T00:00:00",
          "2014-11-17T00:00:00",
          "2014-11-18T00:00:00",
          "2014-11-19T00:00:00",
          "2014-11-20T00:00:00",
          "2014-11-21T00:00:00",
          "2014-11-22T00:00:00",
          "2014-11-23T00:00:00",
          "2014-11-24T00:00:00",
          "2014-11-25T00:00:00",
          "2014-11-26T00:00:00",
          "2014-11-27T00:00:00",
          "2014-11-28T00:00:00",
          "2014-11-29T00:00:00",
          "2014-11-30T00:00:00",
          "2014-12-01T00:00:00",
          "2014-12-02T00:00:00",
          "2014-12-03T00:00:00",
          "2014-12-04T00:00:00",
          "2014-12-05T00:00:00",
          "2014-12-06T00:00:00",
          "2014-12-07T00:00:00",
          "2014-12-08T00:00:00",
          "2014-12-09T00:00:00",
          "2014-12-10T00:00:00",
          "2014-12-11T00:00:00",
          "2014-12-12T00:00:00",
          "2014-12-13T00:00:00",
          "2014-12-14T00:00:00",
          "2014-12-15T00:00:00",
          "2014-12-16T00:00:00",
          "2014-12-17T00:00:00",
          "2014-12-18T00:00:00",
          "2014-12-19T00:00:00",
          "2014-12-20T00:00:00",
          "2014-12-21T00:00:00",
          "2014-12-22T00:00:00",
          "2014-12-23T00:00:00",
          "2014-12-24T00:00:00",
          "2014-12-25T00:00:00",
          "2014-12-26T00:00:00",
          "2014-12-27T00:00:00",
          "2014-12-28T00:00:00",
          "2014-12-29T00:00:00",
          "2014-12-30T00:00:00",
          "2014-12-31T00:00:00",
          "2015-01-01T00:00:00",
          "2015-01-02T00:00:00",
          "2015-01-03T00:00:00",
          "2015-01-04T00:00:00",
          "2015-01-05T00:00:00",
          "2015-01-06T00:00:00",
          "2015-01-07T00:00:00",
          "2015-01-08T00:00:00",
          "2015-01-09T00:00:00",
          "2015-01-10T00:00:00",
          "2015-01-11T00:00:00",
          "2015-01-12T00:00:00",
          "2015-01-13T00:00:00",
          "2015-01-14T00:00:00",
          "2015-01-15T00:00:00",
          "2015-01-16T00:00:00",
          "2015-01-17T00:00:00",
          "2015-01-18T00:00:00",
          "2015-01-19T00:00:00",
          "2015-01-20T00:00:00",
          "2015-01-21T00:00:00",
          "2015-01-22T00:00:00",
          "2015-01-23T00:00:00",
          "2015-01-24T00:00:00",
          "2015-01-25T00:00:00",
          "2015-01-26T00:00:00",
          "2015-01-27T00:00:00",
          "2015-01-28T00:00:00",
          "2015-01-29T00:00:00",
          "2015-01-30T00:00:00",
          "2015-01-31T00:00:00",
          "2015-02-01T00:00:00",
          "2015-02-02T00:00:00",
          "2015-02-03T00:00:00",
          "2015-02-04T00:00:00",
          "2015-02-05T00:00:00",
          "2015-02-06T00:00:00",
          "2015-02-07T00:00:00",
          "2015-02-08T00:00:00",
          "2015-02-09T00:00:00",
          "2015-02-10T00:00:00",
          "2015-02-11T00:00:00",
          "2015-02-12T00:00:00",
          "2015-02-13T00:00:00",
          "2015-02-14T00:00:00",
          "2015-02-15T00:00:00",
          "2015-02-16T00:00:00",
          "2015-02-17T00:00:00",
          "2015-02-18T00:00:00",
          "2015-02-19T00:00:00",
          "2015-02-20T00:00:00",
          "2015-02-21T00:00:00",
          "2015-02-22T00:00:00",
          "2015-02-23T00:00:00",
          "2015-02-24T00:00:00",
          "2015-02-25T00:00:00",
          "2015-02-26T00:00:00",
          "2015-02-27T00:00:00",
          "2015-02-28T00:00:00"
         ],
         "xaxis": "x",
         "y": {
          "bdata": "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",
          "dtype": "f8"
         },
         "yaxis": "y"
        }
       ],
       "layout": {
        "legend": {
         "title": {
          "text": "Series"
         },
         "tracegroupgap": 0
        },
        "template": {
         "data": {
          "bar": [
           {
            "error_x": {
             "color": "#2a3f5f"
            },
            "error_y": {
             "color": "#2a3f5f"
            },
            "marker": {
             "line": {
              "color": "#E5ECF6",
              "width": 0.5
             },
             "pattern": {
              "fillmode": "overlay",
              "size": 10,
              "solidity": 0.2
             }
            },
            "type": "bar"
           }
          ],
          "barpolar": [
           {
            "marker": {
             "line": {
              "color": "#E5ECF6",
              "width": 0.5
             },
             "pattern": {
              "fillmode": "overlay",
              "size": 10,
              "solidity": 0.2
             }
            },
            "type": "barpolar"
           }
          ],
          "carpet": [
           {
            "aaxis": {
             "endlinecolor": "#2a3f5f",
             "gridcolor": "white",
             "linecolor": "white",
             "minorgridcolor": "white",
             "startlinecolor": "#2a3f5f"
            },
            "baxis": {
             "endlinecolor": "#2a3f5f",
             "gridcolor": "white",
             "linecolor": "white",
             "minorgridcolor": "white",
             "startlinecolor": "#2a3f5f"
            },
            "type": "carpet"
           }
          ],
          "choropleth": [
           {
            "colorbar": {
             "outlinewidth": 0,
             "ticks": ""
            },
            "type": "choropleth"
           }
          ],
          "contour": [
           {
            "colorbar": {
             "outlinewidth": 0,
             "ticks": ""
            },
            "colorscale": [
             [
              0,
              "#0d0887"
             ],
             [
              0.1111111111111111,
              "#46039f"
             ],
             [
              0.2222222222222222,
              "#7201a8"
             ],
             [
              0.3333333333333333,
              "#9c179e"
             ],
             [
              0.4444444444444444,
              "#bd3786"
             ],
             [
              0.5555555555555556,
              "#d8576b"
             ],
             [
              0.6666666666666666,
              "#ed7953"
             ],
             [
              0.7777777777777778,
              "#fb9f3a"
             ],
             [
              0.8888888888888888,
              "#fdca26"
             ],
             [
              1,
              "#f0f921"
             ]
            ],
            "type": "contour"
           }
          ],
          "contourcarpet": [
           {
            "colorbar": {
             "outlinewidth": 0,
             "ticks": ""
            },
            "type": "contourcarpet"
           }
          ],
          "heatmap": [
           {
            "colorbar": {
             "outlinewidth": 0,
             "ticks": ""
            },
            "colorscale": [
             [
              0,
              "#0d0887"
             ],
             [
              0.1111111111111111,
              "#46039f"
             ],
             [
              0.2222222222222222,
              "#7201a8"
             ],
             [
              0.3333333333333333,
              "#9c179e"
             ],
             [
              0.4444444444444444,
              "#bd3786"
             ],
             [
              0.5555555555555556,
              "#d8576b"
             ],
             [
              0.6666666666666666,
              "#ed7953"
             ],
             [
              0.7777777777777778,
              "#fb9f3a"
             ],
             [
              0.8888888888888888,
              "#fdca26"
             ],
             [
              1,
              "#f0f921"
             ]
            ],
            "type": "heatmap"
           }
          ],
          "histogram": [
           {
            "marker": {
             "pattern": {
              "fillmode": "overlay",
              "size": 10,
              "solidity": 0.2
             }
            },
            "type": "histogram"
           }
          ],
          "histogram2d": [
           {
            "colorbar": {
             "outlinewidth": 0,
             "ticks": ""
            },
            "colorscale": [
             [
              0,
              "#0d0887"
             ],
             [
              0.1111111111111111,
              "#46039f"
             ],
             [
              0.2222222222222222,
              "#7201a8"
             ],
             [
              0.3333333333333333,
              "#9c179e"
             ],
             [
              0.4444444444444444,
              "#bd3786"
             ],
             [
              0.5555555555555556,
              "#d8576b"
             ],
             [
              0.6666666666666666,
              "#ed7953"
             ],
             [
              0.7777777777777778,
              "#fb9f3a"
             ],
             [
              0.8888888888888888,
              "#fdca26"
             ],
             [
              1,
              "#f0f921"
             ]
            ],
            "type": "histogram2d"
           }
          ],
          "histogram2dcontour": [
           {
            "colorbar": {
             "outlinewidth": 0,
             "ticks": ""
            },
            "colorscale": [
             [
              0,
              "#0d0887"
             ],
             [
              0.1111111111111111,
              "#46039f"
             ],
             [
              0.2222222222222222,
              "#7201a8"
             ],
             [
              0.3333333333333333,
              "#9c179e"
             ],
             [
              0.4444444444444444,
              "#bd3786"
             ],
             [
              0.5555555555555556,
              "#d8576b"
             ],
             [
              0.6666666666666666,
              "#ed7953"
             ],
             [
              0.7777777777777778,
              "#fb9f3a"
             ],
             [
              0.8888888888888888,
              "#fdca26"
             ],
             [
              1,
              "#f0f921"
             ]
            ],
            "type": "histogram2dcontour"
           }
          ],
          "mesh3d": [
           {
            "colorbar": {
             "outlinewidth": 0,
             "ticks": ""
            },
            "type": "mesh3d"
           }
          ],
          "parcoords": [
           {
            "line": {
             "colorbar": {
              "outlinewidth": 0,
              "ticks": ""
             }
            },
            "type": "parcoords"
           }
          ],
          "pie": [
           {
            "automargin": true,
            "type": "pie"
           }
          ],
          "scatter": [
           {
            "fillpattern": {
             "fillmode": "overlay",
             "size": 10,
             "solidity": 0.2
            },
            "type": "scatter"
           }
          ],
          "scatter3d": [
           {
            "line": {
             "colorbar": {
              "outlinewidth": 0,
              "ticks": ""
             }
            },
            "marker": {
             "colorbar": {
              "outlinewidth": 0,
              "ticks": ""
             }
            },
            "type": "scatter3d"
           }
          ],
          "scattercarpet": [
           {
            "marker": {
             "colorbar": {
              "outlinewidth": 0,
              "ticks": ""
             }
            },
            "type": "scattercarpet"
           }
          ],
          "scattergeo": [
           {
            "marker": {
             "colorbar": {
              "outlinewidth": 0,
              "ticks": ""
             }
            },
            "type": "scattergeo"
           }
          ],
          "scattergl": [
           {
            "marker": {
             "colorbar": {
              "outlinewidth": 0,
              "ticks": ""
             }
            },
            "type": "scattergl"
           }
          ],
          "scattermap": [
           {
            "marker": {
             "colorbar": {
              "outlinewidth": 0,
              "ticks": ""
             }
            },
            "type": "scattermap"
           }
          ],
          "scattermapbox": [
           {
            "marker": {
             "colorbar": {
              "outlinewidth": 0,
              "ticks": ""
             }
            },
            "type": "scattermapbox"
           }
          ],
          "scatterpolar": [
           {
            "marker": {
             "colorbar": {
              "outlinewidth": 0,
              "ticks": ""
             }
            },
            "type": "scatterpolar"
           }
          ],
          "scatterpolargl": [
           {
            "marker": {
             "colorbar": {
              "outlinewidth": 0,
              "ticks": ""
             }
            },
            "type": "scatterpolargl"
           }
          ],
          "scatterternary": [
           {
            "marker": {
             "colorbar": {
              "outlinewidth": 0,
              "ticks": ""
             }
            },
            "type": "scatterternary"
           }
          ],
          "surface": [
           {
            "colorbar": {
             "outlinewidth": 0,
             "ticks": ""
            },
            "colorscale": [
             [
              0,
              "#0d0887"
             ],
             [
              0.1111111111111111,
              "#46039f"
             ],
             [
              0.2222222222222222,
              "#7201a8"
             ],
             [
              0.3333333333333333,
              "#9c179e"
             ],
             [
              0.4444444444444444,
              "#bd3786"
             ],
             [
              0.5555555555555556,
              "#d8576b"
             ],
             [
              0.6666666666666666,
              "#ed7953"
             ],
             [
              0.7777777777777778,
              "#fb9f3a"
             ],
             [
              0.8888888888888888,
              "#fdca26"
             ],
             [
              1,
              "#f0f921"
             ]
            ],
            "type": "surface"
           }
          ],
          "table": [
           {
            "cells": {
             "fill": {
              "color": "#EBF0F8"
             },
             "line": {
              "color": "white"
             }
            },
            "header": {
             "fill": {
              "color": "#C8D4E3"
             },
             "line": {
              "color": "white"
             }
            },
            "type": "table"
           }
          ]
         },
         "layout": {
          "annotationdefaults": {
           "arrowcolor": "#2a3f5f",
           "arrowhead": 0,
           "arrowwidth": 1
          },
          "autotypenumbers": "strict",
          "coloraxis": {
           "colorbar": {
            "outlinewidth": 0,
            "ticks": ""
           }
          },
          "colorscale": {
           "diverging": [
            [
             0,
             "#8e0152"
            ],
            [
             0.1,
             "#c51b7d"
            ],
            [
             0.2,
             "#de77ae"
            ],
            [
             0.3,
             "#f1b6da"
            ],
            [
             0.4,
             "#fde0ef"
            ],
            [
             0.5,
             "#f7f7f7"
            ],
            [
             0.6,
             "#e6f5d0"
            ],
            [
             0.7,
             "#b8e186"
            ],
            [
             0.8,
             "#7fbc41"
            ],
            [
             0.9,
             "#4d9221"
            ],
            [
             1,
             "#276419"
            ]
           ],
           "sequential": [
            [
             0,
             "#0d0887"
            ],
            [
             0.1111111111111111,
             "#46039f"
            ],
            [
             0.2222222222222222,
             "#7201a8"
            ],
            [
             0.3333333333333333,
             "#9c179e"
            ],
            [
             0.4444444444444444,
             "#bd3786"
            ],
            [
             0.5555555555555556,
             "#d8576b"
            ],
            [
             0.6666666666666666,
             "#ed7953"
            ],
            [
             0.7777777777777778,
             "#fb9f3a"
            ],
            [
             0.8888888888888888,
             "#fdca26"
            ],
            [
             1,
             "#f0f921"
            ]
           ],
           "sequentialminus": [
            [
             0,
             "#0d0887"
            ],
            [
             0.1111111111111111,
             "#46039f"
            ],
            [
             0.2222222222222222,
             "#7201a8"
            ],
            [
             0.3333333333333333,
             "#9c179e"
            ],
            [
             0.4444444444444444,
             "#bd3786"
            ],
            [
             0.5555555555555556,
             "#d8576b"
            ],
            [
             0.6666666666666666,
             "#ed7953"
            ],
            [
             0.7777777777777778,
             "#fb9f3a"
            ],
            [
             0.8888888888888888,
             "#fdca26"
            ],
            [
             1,
             "#f0f921"
            ]
           ]
          },
          "colorway": [
           "#636efa",
           "#EF553B",
           "#00cc96",
           "#ab63fa",
           "#FFA15A",
           "#19d3f3",
           "#FF6692",
           "#B6E880",
           "#FF97FF",
           "#FECB52"
          ],
          "font": {
           "color": "#2a3f5f"
          },
          "geo": {
           "bgcolor": "white",
           "lakecolor": "white",
           "landcolor": "#E5ECF6",
           "showlakes": true,
           "showland": true,
           "subunitcolor": "white"
          },
          "hoverlabel": {
           "align": "left"
          },
          "hovermode": "closest",
          "mapbox": {
           "style": "light"
          },
          "paper_bgcolor": "white",
          "plot_bgcolor": "#E5ECF6",
          "polar": {
           "angularaxis": {
            "gridcolor": "white",
            "linecolor": "white",
            "ticks": ""
           },
           "bgcolor": "#E5ECF6",
           "radialaxis": {
            "gridcolor": "white",
            "linecolor": "white",
            "ticks": ""
           }
          },
          "scene": {
           "xaxis": {
            "backgroundcolor": "#E5ECF6",
            "gridcolor": "white",
            "gridwidth": 2,
            "linecolor": "white",
            "showbackground": true,
            "ticks": "",
            "zerolinecolor": "white"
           },
           "yaxis": {
            "backgroundcolor": "#E5ECF6",
            "gridcolor": "white",
            "gridwidth": 2,
            "linecolor": "white",
            "showbackground": true,
            "ticks": "",
            "zerolinecolor": "white"
           },
           "zaxis": {
            "backgroundcolor": "#E5ECF6",
            "gridcolor": "white",
            "gridwidth": 2,
            "linecolor": "white",
            "showbackground": true,
            "ticks": "",
            "zerolinecolor": "white"
           }
          },
          "shapedefaults": {
           "line": {
            "color": "#2a3f5f"
           }
          },
          "ternary": {
           "aaxis": {
            "gridcolor": "white",
            "linecolor": "white",
            "ticks": ""
           },
           "baxis": {
            "gridcolor": "white",
            "linecolor": "white",
            "ticks": ""
           },
           "bgcolor": "#E5ECF6",
           "caxis": {
            "gridcolor": "white",
            "linecolor": "white",
            "ticks": ""
           }
          },
          "title": {
           "x": 0.05
          },
          "xaxis": {
           "automargin": true,
           "gridcolor": "white",
           "linecolor": "white",
           "ticks": "",
           "title": {
            "standoff": 15
           },
           "zerolinecolor": "white",
           "zerolinewidth": 2
          },
          "yaxis": {
           "automargin": true,
           "gridcolor": "white",
           "linecolor": "white",
           "ticks": "",
           "title": {
            "standoff": 15
           },
           "zerolinecolor": "white",
           "zerolinewidth": 2
          }
         }
        },
        "title": {
         "text": "Actual vs Prophet Forecast vs Last-Year Baseline"
        },
        "xaxis": {
         "anchor": "y",
         "domain": [
          0,
          1
         ],
         "rangeslider": {
          "visible": true
         },
         "title": {
          "text": "Date"
         }
        },
        "yaxis": {
         "anchor": "x",
         "domain": [
          0,
          1
         ],
         "title": {
          "text": "Demand"
         }
        }
       }
      }
     },
     "metadata": {},
     "output_type": "display_data"
    }
   ],
   "source": [
    "import plotly.express as px\n",
    "\n",
    "# Make sure your `test` DataFrame has columns:\n",
    "# ['ds','y','yhat','baseline']\n",
    "# If you still have yhat_lower/upper you can leave those out for clarity here.\n",
    "\n",
    "fig = px.line(\n",
    "    test_australian, \n",
    "    x='ds', \n",
    "    y=['y','yhat','baseline'], \n",
    "    labels={\n",
    "        'value': 'Daily Demand',\n",
    "        'variable': 'Series'\n",
    "    },\n",
    "    title='Actual vs Prophet Forecast vs Last-Year Baseline'\n",
    ")\n",
    "\n",
    "# Turn on the range-slider for the x-axis\n",
    "fig.update_layout(\n",
    "    xaxis_rangeslider_visible=True,\n",
    "    xaxis_title='Date',\n",
    "    yaxis_title='Demand'\n",
    ")\n",
    "\n",
    "fig.show()"
   ]
  }
 ],
 "metadata": {
  "kernelspec": {
   "display_name": "Python 3",
   "language": "python",
   "name": "python3"
  },
  "language_info": {
   "codemirror_mode": {
    "name": "ipython",
    "version": 3
   },
   "file_extension": ".py",
   "mimetype": "text/x-python",
   "name": "python",
   "nbconvert_exporter": "python",
   "pygments_lexer": "ipython3",
   "version": "3.12.6"
  }
 },
 "nbformat": 4,
 "nbformat_minor": 2
}
